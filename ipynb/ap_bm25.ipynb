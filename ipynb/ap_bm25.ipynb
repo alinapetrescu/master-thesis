{
 "cells": [
  {
   "cell_type": "markdown",
   "metadata": {},
   "source": [
    "Le module **gensim.summarization.bm25** contient des fonctions pour calculer les scores (rank scores) pour les documents d'un certain corpus de documents, ainsi que la classe de service (helper class) **BM25**"
   ]
  },
  {
   "cell_type": "code",
   "execution_count": 1,
   "metadata": {},
   "outputs": [],
   "source": [
    "import gensim.summarization.bm25 as bm25\n",
    "import numpy as np\n",
    "from textblob import TextBlob as tb\n",
    "#from IPython.display import display, Math, Latex"
   ]
  },
  {
   "cell_type": "markdown",
   "metadata": {},
   "source": [
    "Ci-dessous, les exposés des faits pour la catégorie SCANDALE"
   ]
  },
  {
   "cell_type": "code",
   "execution_count": 2,
   "metadata": {},
   "outputs": [],
   "source": [
    "def_categories_old = [\"L'ex-ami de sa voisine (Mme LADRIERE, rez-de-chaussée) fait du scandale dans le bâtiment. S'agit d'un dénommé LOSET.\",\n",
    " \"Un voisin s'engeule avec les client, filme tout le monde et hurle.\",\n",
    " \"Un requérant sous l'influence de l'alcool crée du trouble dans le centre. Se montre menaçant verbalement\",\n",
    " \"les esprits s'échauffent devant le magasin, entre 2 groupes de jeunes\",\n",
    " 'Code entrée 6184, ne veut plus de son ami chez elle. Ce dernier ivre, fait du scandale dans le corridor.',\n",
    " 'un homme crée du scandale à la réception de la caisse de Chômage',\n",
    " \"Des jeunes font du scandale au bas de l'immeuble, à côté d'un bar.\",\n",
    " '1 client alcoolisé sème la zizanie dans le secteur',\n",
    " 'Signale des individus avinés qui font du grabuge sur le quai 5.',\n",
    " \"Par une trentaine de personnes, vers l'air de la station.\"]"
   ]
  },
  {
   "cell_type": "markdown",
   "metadata": {},
   "source": [
    "Ci-dessous, les exposés des faits pour la catégorie ACCIDENT\n",
    "\n",
    "En fait, il faudra mettre dans la variable def_categories les définitions de toutes les catégories à prendre en compte (définitions à voir comment préciser)"
   ]
  },
  {
   "cell_type": "code",
   "execution_count": 3,
   "metadata": {},
   "outputs": [],
   "source": [
    "def_categories = ['Une fille serait tombé au sol, la fille saigne de la bouche, la fille va mal. Pas plus de précisions concernant la fille. ',\n",
    " \"Une femme a été blessée par une tente qui s'est envolée, ambulance sur place et acheminent la blessée à l'Hôpital de Montreux.\",\n",
    " 'Une grue a cassé la ligne de contact des trolley-bus.',\n",
    " \"Un homme est tombé d'une échelle sur la route.\",\n",
    " 'Pour une dame qui a chuté en vélo.',\n",
    " 'Une personne a chuté au bord de la route. Demande une patrouille pour la sécurité.',\n",
    " 'un témoin a entendu un choc et a trouvé une personne inconsciente blessée à la tête. ',\n",
    " 'Personne âgée est tombée sur la chaussée. Circulation perturbée. Ambulance engagée.',\n",
    " \"Chute dans un escaliers de M. LIMA. Est actuellement au CHUV en ambulatoire. Le 144 n'avait pas cette information au début (accident de travail). En fait, il était à domicile lors de sa chute (accident domestique du coup ?). Blessures inconnues, mais visiblement pas graves\",\n",
    " 'Une grue est tombée sur une voiture.',\n",
    " \"Une femme a été blessée par une tente qui s'est envolée, ambulance sur place et acheminent la blessée à l'Hôpital de Montreux.\",\n",
    " 'Sa fille de 27 ans a pris un carton sur la tête et à de la peine à bouger. Se trouve au magasin LIDLE',\n",
    " \"une dame s'est faite heurté par un homme à roller qui se fait tirer par son chien sur un passage à piétons. Mme a chuté et a mal à un bras mais refuse l'ambulance\",\n",
    " \"La balise de la VD332216 s'est enclenchée, aucun contact avec le détenteur, Romain THEVOZ\",\n",
    " 'Appel transmis par PM Lausanne. pour une personne qui est tombée sur les voies à Prilly-Malley. POL déjà rens.',\n",
    " 'Un homme est tombé sur les voies et serait blessé aux jambes.',\n",
    " \"avis du 144 pour une chute d'un lieu élevé, 2 personnes seraient blessées\",\n",
    " \"Une personne âgée a chuté sur le passage piéton. Blessée à la tête, ne peut pas bouger. L'ambulance demande notre aide pour la circulation. \",\n",
    " 'Une chute de 4 mètres Ambulance et SMUR roulent.',\n",
    " 'Ambulance  & SMUR sont intervenus pour une personne qui se trouvait en bas des escaliers inconsciente. Faits survenu vers 2336 suite appel du 144. Personne héliportée au CHUV, état grave.',\n",
    " 'Mr a chuté dans les escaliers, blessé.',\n",
    " 'Une grue est tombée sur une voiture.',                  \n",
    " 'Arrêt du MOB \"Vuarennes\" une personne coincée entre le quai et le train. Pompiers engagés',\n",
    " 'Ambulance engagée pour une personne qui aurait chuté sur les voies.',\n",
    " '144 : 2 handicapés en chaise roulante ont chuté dans la rivière, secourus par des passants. Semblent bien se porter, pompier engagés pour les sortir de même que 2 ambulances en prévention. ',\n",
    " \"un balcon s'est décroché et un homme a été blessé. Il a été emmené directement à l'hôpital\",\n",
    " 'Une barrière de chantier est tombée sur sa voiture. ',\n",
    " \"REGA informe avoir pris en charge une femme de 65 ans qui a chuté au Vallon du Pont de Nant et qui souffre d'une fracture au visage. A été héliportée à l'hôpital de Monthey.\",\n",
    " \"un enfant de 12 ans s'est blessé à un doigt. Ambulance engagée, situation pas très claire, demande une patrouille\",\n",
    " 'Un enfant a été poussé par un autre. Ambulance engagée pour un traumatisme dorsale.',\n",
    " \"Le fils de 18 ans a traversé une porte vitrée et s'est coupé au niveau de l'épaule et du thorax. Ambulance engagée. Circonstances peu claire.\",\n",
    " 'Des bottes de paille en feu. Pompiers engagés',\n",
    " 'Ambulance et REGA engagé un enfant de 3 ans brûlé par un barbeque, C/O MAGNIN',\n",
    " 'Une dame de 80 ans a été raccompagnée à son domicile par une voisin avec un traumas facial. Une seconde personne serait blessée',\n",
    " 'Accident sur la commune de Billens FR, route coupée, commune de Prévonloup a mis en place une déviation. Constat par PC FR.  Inforoute par FR.',\n",
    " \"Samaritains ont découvert une personne inanimée dans une roulotte, dans le camping de la manifestation.  Avait fixé un tuyau de gaz d'échappement. Ambulance engagée\",\n",
    " 'A glissé sur le trottoir huileux.',\n",
    " 'Un homme en sang qui titube sur le quai. Trains roulent à vue',\n",
    " \"Se promenait sur un chemin aux abords du Château-sec 41, alors qu'elle a croisé une personne avec un chien noir. Au moment du croisement, le chien lui a sauté dessus, ce qui l'a chuté lourdement au sol. Le chien ne l'a pas mordu. Est blessé à un fesse. Va consulter un médecin. Ne connait pas le nom des propriétaires du chien mais peut l'obtenir assez facilement par sa mère qui réside à Moudon dans ce même quartier. \",\n",
    " 'entend des bruits de bagarre chez sa fille au rez-de-chaussée. Ne veut pas intervenir.',\n",
    " \"la porte du garage s'est refermée sur sa voiture. Concierge rens, \",\n",
    " \"Une dame a sauté sur les voies. Inconsciente, réa en cours, pas d'info si elle a été shootée par un train.\",\n",
    " 'Ambulance engagée pour un ouvrier renversé par une camionnette mise en mouvement fortuit. Conscient. ',\n",
    " 'Patient héliporté à Hôpital de Monthey avec blessures inconnues aux jambes suite accident de montagne. Contact SSH M. Wily Brand 079 607 31 62.',\n",
    " 'asdf',\n",
    " 'Reçoivent une alarme \"Accident\" occupant ne répond pas, demande une patrouille pour aller voir.',\n",
    " 'Sur la RC dir Orny, une personne est au sol coincée sous sa chaise roulante. Ambulance engagée. ',\n",
    " 'Une personne est tombée sur la voie.',\n",
    " \"Une dame est tombée à Lausanne, place St-François, peu avant de prendre le bus -> Pully. Elle est montée à bord avec un mouchoirs sur le visage. Mme a refusé la venue d'une ambulance. \",\n",
    " \"Engage pour une personne qui s'est bloqué le bras dans un balcon. PM sur place.\",\n",
    " '1 personne a passé sous le train',\n",
    " \"Un bloc de glace est tombé d'un toit sur une Ford Kuga noire. La détentrice attend sur place.\",\n",
    " 'Un enfant a la main coincée dans un escalator.',\n",
    " \"Une femme s'est blessée à la jambe, après avoir marché sur un couvercle de regard de récupération des eaux, qui n'avait pas été ajusté correctement.\",\n",
    " 'Une personne aurait été agressé au couteau. Blessure au ventre. Ambulance et SMUR engagés',\n",
    " 'Chez LJATISSI, Mme a un couteau dans la hanche. Aucune indication- Serait tombée sur le lave-vaisselle ouvert. Ambulance roule en P1.',\n",
    " \"Un homme trouvé inconscient à côté d'une échelle. Ambulance et SMUR engagé.\",\n",
    " 'Pas forcément accident de travail.',\n",
    " 'auto - cycliste',\n",
    " 'appartement n.9. Les pompiers sont requis pour une personne avec une main coincée dans un syphon de lavabo.',\n",
    " 'Un jeune homme a chuté de 3 mètres. Ambulance & SMUR engagés',\n",
    " \"appel du 144, le MOB leur signale un accident de personne au passage à niveau de Villa d'Oex.\",\n",
    " 'a heurté un cailloux, lequel est tombé du talus.',\n",
    " \"pas besoin d'ambulance. Accident de nature inconnue, informatrice stressée et parle allemand\",\n",
    " 'test',\n",
    " \"La CAT avise qu'une petite fille à une main coincée dans la main courante de l'ecalatore\",\n",
    " \"en ballade en VTT, a dévalé un talus et s'est retrouvé dans le lit d'une petite rivière. N'est pas blessé mais n'arrive pas à remonter la pente. Appel transf sur Police Riviera\",\n",
    " \"une personne s'est blessée à une jambe. Peu compréhensible\",\n",
    " \"-Les trains sont arrêtés au niveau de la Clinique de la Métairie, il est possible qu'une personne a sauté. \",\n",
    " \"M. Nicolas GUILLAUME, se présente au CB pour déclarer avoir eu un accident dans l'après-midi, impliquant un autre véhicule. \",\n",
    " \"en face de l'alimentarium\",\n",
    " 'vfsdfbsfdgbsbgf',\n",
    " \"Signale un homme qui a chuté dans la rivière. Chute d'environ 2 mètres\",\n",
    " 'une dame a été renversée par une voiture. ',\n",
    " 'Pompiers chimique engagés pour une fuite de produit chimique (diéthylamide, selon la CTA).',\n",
    " 'Une personne est tombée dans un bus VMCV. Saigne à la tête. Circonstances pas clair. ',\n",
    " 'Une personne est tombée dans le ruisseau. Ambulance et pompiers (GRIMP) engagés',\n",
    " \"L'Opel Meriva VD499357, propriété de la Police de sûreté s'est mise en mouvement fortuit. \",\n",
    " 'un homme est tombé dans un trou de 3 à 4 mètres de profondeur. Pas plus de renseignements. Ambulance engagée.',\n",
    " 'accident au carrefour entre un camion et une voiture ',\n",
    " \"la CTA a reçu un appel en italien d'une personne se trouvant au carrefour du solitaire. Un accident entre 2 voitures. Pas d'informations si blessés ou pas. L'informateur a le 079 273 09 07\",\n",
    " \"Le 3.10.2016, à son domicile, une dame âgée s'est brûlée à raison de 35 % de son corps. A priori, alors qu'elle faisait la cuisine, son chiffon a pris feu. A ce moment, elle se trouvait seule, car elle vit seule. C'est la famille qui l'a amenée au CHUV. Identité : DUMAUTHIOZ Janine, 04.01.1933, Pully, chemin de Mallieu 11. Le décès de cette dame devrait intervenir cette nuit, suite à une complication des brûlures et un arrêt des médicaments pour éviter un acharnement thérapeutique.\",\n",
    " 'Un homme aurait été trainé par le LEB sur quelque 10 mètres. Une ambulance a été engagée.  ',\n",
    " \"Chien de la famille, race Hovawart poids 40 kg, a mordu la petite-fille de l'informateur (2 ans et demi) à la tête vers l'oreille, vers 18:45. Conduite à HZ Aigle par la mère, transfert éventuel au CHUV. \",\n",
    " 'un homme a chuté sur la route. ambulance engagée',\n",
    " \"Un deux roues VD-276'644 a touché le véhicule de l'informateur VD-166'573 et les deux individus se trouvant sur l'engin ont pris la fuite en courant.\",\n",
    " 'Un cycliste inconscient au sol.',\n",
    " \"Signale qu'un train a heurté 3 gros animaux. Convoi arrêté pour constater les dégâts. N'a pas déraillé. Circule en direction de Lausanne. Trains circulent à vue.\",\n",
    " \"Une voiture s'est probablement mise en mouvement fortuit. \",\n",
    " 'Son mari est coincé sous la voiture.',\n",
    " 'Dans le centre commercial, voit des gens jouer avec des caddy dans le parking et une auto de location endommagée. ',\n",
    " 'REGA 4 est engagé pour une personne qui a fait une chute. Problèmes de genou. ',\n",
    " '1 militaire a chuté de son cheval. Souffre du ventre. REGA engagée',\n",
    " \"Chez Fernandez Philippe, pour un homme de 89 ans qui a chuté d'une échelle d'une hauteur d'env 3 mètres. Semi conscient. Ambulance et SMUR engagés. \"]"
   ]
  },
  {
   "cell_type": "markdown",
   "metadata": {},
   "source": [
    "On transforme la liste de strings def_categories en liste de TextBlob"
   ]
  },
  {
   "cell_type": "code",
   "execution_count": 4,
   "metadata": {},
   "outputs": [],
   "source": [
    "bloblist = [tb(expo) for expo in def_categories]"
   ]
  },
  {
   "cell_type": "code",
   "execution_count": 5,
   "metadata": {},
   "outputs": [
    {
     "name": "stdout",
     "output_type": "stream",
     "text": [
      "<class 'textblob.blob.TextBlob'>\n"
     ]
    }
   ],
   "source": [
    "print(type(bloblist[0]))"
   ]
  },
  {
   "cell_type": "markdown",
   "metadata": {},
   "source": [
    "Le corpus est en fait une liste de documents (chez nous une liste de définitions de catégories), c'est-à-dire une liste de listes où chaque liste interne est une liste contenant les mots d'un document, chez nous les mots d'une définition de catégorie"
   ]
  },
  {
   "cell_type": "code",
   "execution_count": 6,
   "metadata": {},
   "outputs": [
    {
     "data": {
      "text/plain": [
       "['Personne',\n",
       " 'âgée',\n",
       " 'est',\n",
       " 'tombée',\n",
       " 'sur',\n",
       " 'la',\n",
       " 'chaussée',\n",
       " 'Circulation',\n",
       " 'perturbée',\n",
       " 'Ambulance',\n",
       " 'engagée']"
      ]
     },
     "execution_count": 6,
     "metadata": {},
     "output_type": "execute_result"
    }
   ],
   "source": [
    "corpus = [list(blob.words) for blob in bloblist]\n",
    "corpus[7]"
   ]
  },
  {
   "cell_type": "markdown",
   "metadata": {},
   "source": [
    "On calcule les poids (the weight or BM25 scores) du corpus selon la ranking function BM25. \n",
    "\n",
    "Si N est le nombre de définitions des catégories, les poids représentent une liste avec N listes internes où chaque liste interne contiennent N scores, à savoir la liste interne i contient les scores de la définition i par rapport aux N définitions (donc y compris par rapport à soi-même) "
   ]
  },
  {
   "cell_type": "code",
   "execution_count": 7,
   "metadata": {},
   "outputs": [],
   "source": [
    "poids = bm25.get_bm25_weights(corpus)\n",
    "#poids\n",
    "#result[2]"
   ]
  },
  {
   "cell_type": "markdown",
   "metadata": {},
   "source": [
    "## Exemple simple"
   ]
  },
  {
   "cell_type": "markdown",
   "metadata": {},
   "source": [
    "Ci-dessous, un simple exemple de poids pour un corpus simple donné"
   ]
  },
  {
   "cell_type": "markdown",
   "metadata": {},
   "source": [
    "Un corpus avec $N=3$ documents (en fait une liste de N listes où la liste interne i contient les mots (avec doublons) du document i"
   ]
  },
  {
   "cell_type": "code",
   "execution_count": 8,
   "metadata": {},
   "outputs": [],
   "source": [
    "corpus_exemple = [\n",
    "    [\"accident\", \"voiture\", \"blessé\", \"personne\", \"femme\"],\n",
    "    [\"route\", \"voiture\", \"personne\", \"ambulance\", \"voiture\", \"personne\", \"fuite\", \"personne\"],\n",
    "    [\"personne\", \"chute\", \"cheval\"] ]"
   ]
  },
  {
   "cell_type": "markdown",
   "metadata": {},
   "source": [
    "**bm25.BM25(corpus_exemple)** crée un objet de type helper class BM25 associé au corpus_exemple"
   ]
  },
  {
   "cell_type": "code",
   "execution_count": 9,
   "metadata": {},
   "outputs": [
    {
     "name": "stdout",
     "output_type": "stream",
     "text": [
      "Le BM25\n",
      " <gensim.summarization.bm25.BM25 object at 0x7f62faccb908>\n"
     ]
    }
   ],
   "source": [
    "bm_exemple = bm25.BM25(corpus_exemple)\n",
    "print(\"Le BM25\\n\", bm_exemple)"
   ]
  },
  {
   "cell_type": "markdown",
   "metadata": {},
   "source": [
    "**bm_exemple.corpus** retourne la liste de listes correspondant à l'objet bm_exemple de type BM25"
   ]
  },
  {
   "cell_type": "code",
   "execution_count": 10,
   "metadata": {},
   "outputs": [
    {
     "name": "stdout",
     "output_type": "stream",
     "text": [
      "Le corpus de BM25\n",
      " [['accident', 'voiture', 'blessé', 'personne', 'femme'], ['route', 'voiture', 'personne', 'ambulance', 'voiture', 'personne', 'fuite', 'personne'], ['personne', 'chute', 'cheval']]\n"
     ]
    }
   ],
   "source": [
    "print(\"Le corpus de BM25\\n\", bm_exemple.corpus)"
   ]
  },
  {
   "cell_type": "markdown",
   "metadata": {},
   "source": [
    "**bm_exemple.corpus_size** retourne le nombre N de documents dans le corpus associé à bm_exemple"
   ]
  },
  {
   "cell_type": "code",
   "execution_count": 11,
   "metadata": {},
   "outputs": [
    {
     "name": "stdout",
     "output_type": "stream",
     "text": [
      "3\n"
     ]
    }
   ],
   "source": [
    "print(bm_exemple.corpus_size)"
   ]
  },
  {
   "cell_type": "markdown",
   "metadata": {},
   "source": [
    "**bm_exemple.doc_len** retourne une liste avec les longueurs (en mots) de chacun des N documents du corpus"
   ]
  },
  {
   "cell_type": "code",
   "execution_count": 12,
   "metadata": {},
   "outputs": [
    {
     "name": "stdout",
     "output_type": "stream",
     "text": [
      "[5, 8, 3]\n"
     ]
    }
   ],
   "source": [
    "print(bm_exemple.doc_len)"
   ]
  },
  {
   "cell_type": "markdown",
   "metadata": {},
   "source": [
    "**bm_exemple.avgdl** retourne la longueur moyenne (en mots) d'un document dans le corpus (la somme de toutes les longueurs divisée par le N nombre de documents"
   ]
  },
  {
   "cell_type": "code",
   "execution_count": 13,
   "metadata": {},
   "outputs": [
    {
     "name": "stdout",
     "output_type": "stream",
     "text": [
      "5.333333333333333\n"
     ]
    }
   ],
   "source": [
    "print(bm_exemple.avgdl)"
   ]
  },
  {
   "cell_type": "markdown",
   "metadata": {},
   "source": [
    "**bm_exemple.f** retourne les **terms frequencies** dans **chaque document** qui précisent le nombre d'occurences (par abus de langage, la fréquence) de chaque mot (distinct) dans un document donné sous la forme d'une liste de N dictionnaires : un dictionnaire par document avec comme clés les mots distincts **du document** et comme valeurs les nombres d'occurences dans ce document\n",
    "\n",
    "Ci-dessous, dans le deuxième dictionnaire, 'personne': 3 indique que le mot \"personne\" apparaît 3 fois dans le deuxième dictionnaire."
   ]
  },
  {
   "cell_type": "code",
   "execution_count": 14,
   "metadata": {},
   "outputs": [
    {
     "name": "stdout",
     "output_type": "stream",
     "text": [
      "[{'accident': 1, 'voiture': 1, 'blessé': 1, 'personne': 1, 'femme': 1}, {'route': 1, 'voiture': 2, 'personne': 3, 'ambulance': 1, 'fuite': 1}, {'personne': 1, 'chute': 1, 'cheval': 1}]\n"
     ]
    }
   ],
   "source": [
    "print(bm_exemple.f)"
   ]
  },
  {
   "cell_type": "markdown",
   "metadata": {},
   "source": [
    "**bm_exemple.df** retourne les **terms frequencies** pour **tout le corpus** qui précisent le nombre d'occurences (la fréquence) de chaque mot (distinct) dans le corpus sous la forme d'un dictionnaire unique avec autant d'éléments que de **mots distincts** dans le corpus et où un élément a : \n",
    "- comme clé un **mot distinct** $mot_i$ **du corpus**\n",
    "- comme valeur le nombre de documents $n(mot_i)$ contenant (au moins une fois) le mot respectif\n",
    "\n",
    "Ci-dessous, dans le seul dictionnaire, 'personne': 3 indique que le mot \"personne\" est apparu (au moins une fois) dans 3 documents différents."
   ]
  },
  {
   "cell_type": "code",
   "execution_count": 40,
   "metadata": {},
   "outputs": [
    {
     "name": "stdout",
     "output_type": "stream",
     "text": [
      "Le df du BM25\n",
      " {'accident': 1, 'voiture': 2, 'blessé': 1, 'personne': 3, 'femme': 1, 'route': 1, 'ambulance': 1, 'fuite': 1, 'chute': 1, 'cheval': 1}\n"
     ]
    }
   ],
   "source": [
    "print(\"Le df du BM25\\n\", bm_exemple.df)"
   ]
  },
  {
   "cell_type": "markdown",
   "metadata": {},
   "source": [
    "**bm_exemple.idf** retourne les **inversed terms frequencies** (inverse document frequency) pour **tout le corpus** qui précisent la fréquence inverse pour tout le corpus sous la forme d'un dictionnaire unique avec autant d'éléments que de mots distincts dans le corpus et où un élément a : \n",
    "- comme clé un mot distinct **du corpus**\n",
    "- comme valeur la fréquence inverse du mot respectif\n",
    "\n",
    "La fréquence inverse d'un mot $IDF(mot_i)$ est calculée comme le logarithme naturel du quotient :\n",
    "\n",
    "$$IDF(mot_i) = log{\\frac{N-n(mot_i)+0.5}{n(mot_i)+0.5}}$$\n",
    "\n",
    "où $N$ est le nombre total de documents dans le corpus et $n(mot_i)$ est le nombre de documents qui contiennent (au moins une fois) le $mot_i$"
   ]
  },
  {
   "cell_type": "code",
   "execution_count": 16,
   "metadata": {},
   "outputs": [
    {
     "name": "stdout",
     "output_type": "stream",
     "text": [
      "Le idf du BM25\n",
      " {'accident': 0.5108256237659907, 'voiture': -0.5108256237659907, 'blessé': 0.5108256237659907, 'personne': -1.9459101490553135, 'femme': 0.5108256237659907, 'route': 0.5108256237659907, 'ambulance': 0.5108256237659907, 'fuite': 0.5108256237659907, 'chute': 0.5108256237659907, 'cheval': 0.5108256237659907}\n"
     ]
    }
   ],
   "source": [
    "print(\"Le idf du BM25\\n\", bm_exemple.idf)"
   ]
  },
  {
   "cell_type": "markdown",
   "metadata": {},
   "source": [
    "On crée un **nouveau document** \"doc_a_comparer\" qui n'appartient pas au corpus (pour trouver ensuite son score par rapport à un certain document d'indice donné du corpus ou par rapport à tous les documents du corpus)  "
   ]
  },
  {
   "cell_type": "code",
   "execution_count": 17,
   "metadata": {},
   "outputs": [],
   "source": [
    "doc_a_comparer = [\"voiture\", \"école\", \"dégât\"]"
   ]
  },
  {
   "cell_type": "markdown",
   "metadata": {},
   "source": [
    "On calcule la **moyenne IDF** du corpus dont on a besoin plus bas afin d'appeler la méthode get_score()"
   ]
  },
  {
   "cell_type": "code",
   "execution_count": 18,
   "metadata": {},
   "outputs": [
    {
     "name": "stdout",
     "output_type": "stream",
     "text": [
      "{'accident': 0.5108256237659907, 'voiture': -0.5108256237659907, 'blessé': 0.5108256237659907, 'personne': -1.9459101490553135, 'femme': 0.5108256237659907, 'route': 0.5108256237659907, 'ambulance': 0.5108256237659907, 'fuite': 0.5108256237659907, 'chute': 0.5108256237659907, 'cheval': 0.5108256237659907}\n"
     ]
    }
   ],
   "source": [
    "bm_idf = bm_exemple.idf\n",
    "print(bm_idf)"
   ]
  },
  {
   "cell_type": "code",
   "execution_count": 19,
   "metadata": {},
   "outputs": [
    {
     "name": "stdout",
     "output_type": "stream",
     "text": [
      "0.16298692173066215\n"
     ]
    }
   ],
   "source": [
    "bm_average_idf = sum(bm_idf.values())/len(bm_idf.values())\n",
    "print(bm_average_idf)"
   ]
  },
  {
   "cell_type": "markdown",
   "metadata": {},
   "source": [
    "**bm_exemple.get_score** donne le score d'un certain document $D$ fourni comme premier argument par rapport au document $Q$ qui a dans le corpus l'indice précisé comme deuxième argument et pour une moyenne IDF du corpus indiqué comme troisième argument\n",
    "\n",
    "$$score(D,Q) = \\sum_{i=1}^{n} {IDF(mot_i)}\\cdot{\\frac{f(mot_i,D)\\cdot(k_1+1)}{f(mot_i,D)+k_1\\cdot(1-b+b\\cdot\\frac{len(D)}{avgdl})}}$$\n",
    "\n",
    "où :\n",
    "- le document $Q$ a $n$ mots et il est le document par rapport auquel on calcule le score du document $D$\n",
    "- $mot_i$ est un mot courant du document $Q$ par rapport auquel on calcule le score du document $D$\n",
    "- $k_1\\in [1.2,2.0]$\n",
    "- $b=0.75$\n",
    "\n",
    "Concrètement, on obtient ci-dessous le score (de similitude) du \"doc_a_comparer\" par rapport au document d'indice 0 du corpus"
   ]
  },
  {
   "cell_type": "code",
   "execution_count": 20,
   "metadata": {},
   "outputs": [
    {
     "name": "stdout",
     "output_type": "stream",
     "text": [
      "0.041925896265122095\n"
     ]
    }
   ],
   "source": [
    "print(bm_exemple.get_score(doc_a_comparer, 0, bm_average_idf))"
   ]
  },
  {
   "cell_type": "markdown",
   "metadata": {},
   "source": [
    "**bm_exemple.get_scores** retourne la liste des scores d'un certain document fourni comme premier argument par rapport à **tous** les documents du corpus, pour une moyenne IDF du corpus indiqué comme deuxième argument"
   ]
  },
  {
   "cell_type": "code",
   "execution_count": 21,
   "metadata": {},
   "outputs": [
    {
     "name": "stdout",
     "output_type": "stream",
     "text": [
      "[0.041925896265122095, 0.05014982207097297, 0]\n"
     ]
    }
   ],
   "source": [
    "print(bm_exemple.get_scores(doc_a_comparer, bm_average_idf))"
   ]
  },
  {
   "cell_type": "markdown",
   "metadata": {},
   "source": [
    "**bm25.get_bm25_weights(corpus_exemple)** retourne les scores (les poids) des documents dans le corpus sous la forme d'une liste de N listes internes contenant chacune N scores\n",
    "\n",
    "La liste interne i contient les N scores du document i par rapport aux N documents du corpus (y compris par rapport à lui-même)"
   ]
  },
  {
   "cell_type": "code",
   "execution_count": 22,
   "metadata": {
    "scrolled": true
   },
   "outputs": [
    {
     "name": "stdout",
     "output_type": "stream",
     "text": [
      "Les scores\n",
      " [[1.6606768691069356, 0.11051534863788487, 0.05073522855429172], [0.2096294813256105, 1.5323977514328628, 0.15220568566287515], [0.041925896265122095, 0.06036552656691191, 1.3228301671155136]]\n"
     ]
    }
   ],
   "source": [
    "poids_exemple = bm25.get_bm25_weights(corpus_exemple)\n",
    "print(\"Les scores\\n\", poids_exemple)"
   ]
  },
  {
   "cell_type": "markdown",
   "metadata": {},
   "source": [
    "## Recherche de la \"bonne\" catégorie"
   ]
  },
  {
   "cell_type": "markdown",
   "metadata": {},
   "source": [
    "On crée un objet de type (helper class) BM25 pour le corpus des définitions des catégories"
   ]
  },
  {
   "cell_type": "code",
   "execution_count": 23,
   "metadata": {
    "scrolled": true
   },
   "outputs": [
    {
     "data": {
      "text/plain": [
       "<gensim.summarization.bm25.BM25 at 0x7f62faccbc50>"
      ]
     },
     "execution_count": 23,
     "metadata": {},
     "output_type": "execute_result"
    }
   ],
   "source": [
    "bm = bm25.BM25(corpus)\n",
    "bm"
   ]
  },
  {
   "cell_type": "markdown",
   "metadata": {},
   "source": [
    "La taille du corpus qui a servi à la création de l'objet de type BM25 (c'est-à-dire le nombre de définitions de catégories)\n",
    "\n",
    "Size of corpus (number of documents)"
   ]
  },
  {
   "cell_type": "code",
   "execution_count": 24,
   "metadata": {},
   "outputs": [
    {
     "name": "stdout",
     "output_type": "stream",
     "text": [
      "94\n"
     ]
    }
   ],
   "source": [
    "print(bm.corpus_size)"
   ]
  },
  {
   "cell_type": "markdown",
   "metadata": {},
   "source": [
    "La longueur moyenne (en mots) de chaque définition de catégorie du corpus qui a servi en la création de l'objet de type BM25\n",
    "\n",
    "Average length of document in corpus"
   ]
  },
  {
   "cell_type": "code",
   "execution_count": 25,
   "metadata": {
    "scrolled": true
   },
   "outputs": [
    {
     "name": "stdout",
     "output_type": "stream",
     "text": [
      "17.27659574468085\n"
     ]
    }
   ],
   "source": [
    "print(bm.avgdl)"
   ]
  },
  {
   "cell_type": "markdown",
   "metadata": {},
   "source": [
    "**bm.corpus** donne le corpus qui a servi en la création de l'objet de type BM25"
   ]
  },
  {
   "cell_type": "code",
   "execution_count": 26,
   "metadata": {},
   "outputs": [],
   "source": [
    "#print(bm.corpus)"
   ]
  },
  {
   "cell_type": "markdown",
   "metadata": {},
   "source": [
    "**bm.f** donne une liste de N dictionnaires dans laquelle le i-ème dictionnaire correspond à la i-ème définition de catégorie et il contient comme clés tous les mots distincts de cette définition et comme valeurs la \"fréquence\" (en fait le nombre d'occurences) de chaque mot distinct dans cette définition"
   ]
  },
  {
   "cell_type": "code",
   "execution_count": 27,
   "metadata": {},
   "outputs": [],
   "source": [
    "#print(bm.f)"
   ]
  },
  {
   "cell_type": "markdown",
   "metadata": {},
   "source": [
    "Par exemple, on a ci-dessous le premier dictionnaire de la liste des dictionnaires"
   ]
  },
  {
   "cell_type": "code",
   "execution_count": 28,
   "metadata": {
    "scrolled": true
   },
   "outputs": [
    {
     "name": "stdout",
     "output_type": "stream",
     "text": [
      "{'Une': 1, 'fille': 4, 'serait': 1, 'tombé': 1, 'au': 1, 'sol': 1, 'la': 4, 'saigne': 1, 'de': 2, 'bouche': 1, 'va': 1, 'mal': 1, 'Pas': 1, 'plus': 1, 'précisions': 1, 'concernant': 1}\n"
     ]
    }
   ],
   "source": [
    "print(bm.f[0])"
   ]
  },
  {
   "cell_type": "markdown",
   "metadata": {},
   "source": [
    "**bm.df** donne le df de l'objet BM25, c'est-à-dire un dictionnaire avec :\n",
    "    - comme clés, tous les mots distincts de tout le corpus associé \n",
    "    - comme valeurs, les nombres de définitions de catégories (de documents) (appelé par abus de langage fréquence) dans lesquelles chaque mot apparaît au moins une fois \n",
    "\n",
    "Dictionary with terms frequencies for whole corpus. Words used as keys and \"frequencies\" as values."
   ]
  },
  {
   "cell_type": "code",
   "execution_count": 29,
   "metadata": {},
   "outputs": [
    {
     "name": "stdout",
     "output_type": "stream",
     "text": [
      "{'Une': 20, 'fille': 4, 'serait': 3, 'tombé': 6, 'au': 19, 'sol': 4, 'la': 34, 'saigne': 1, 'de': 43, 'bouche': 1, 'va': 1, 'mal': 2, 'Pas': 4, 'plus': 2, 'précisions': 1, 'concernant': 1, 'femme': 4, 'a': 38, 'été': 11, 'blessée': 6, 'par': 15, 'une': 34, 'tente': 2, 'qui': 16, \"s'est\": 15, 'envolée': 2, 'ambulance': 5, 'sur': 29, 'place': 6, 'et': 23, 'acheminent': 2, 'à': 27, \"l'Hôpital\": 2, 'Montreux': 2, 'grue': 3, 'cassé': 1, 'ligne': 1, 'contact': 2, 'des': 8, 'trolley-bus': 1, 'Un': 12, 'homme': 12, 'est': 18, \"d'une\": 7, 'échelle': 3, 'route': 4, 'Pour': 1, 'dame': 7, 'chuté': 14, 'en': 18, 'vélo': 1, 'personne': 23, 'bord': 2, 'Demande': 1, 'patrouille': 3, 'pour': 18, 'sécurité': 1, 'un': 31, 'témoin': 1, 'entendu': 1, 'choc': 1, 'trouvé': 2, 'inconsciente': 2, 'tête': 5, 'Personne': 2, 'âgée': 3, 'tombée': 10, 'chaussée': 1, 'Circulation': 1, 'perturbée': 1, 'Ambulance': 18, 'engagée': 12, 'Chute': 2, 'dans': 17, 'escaliers': 3, 'M': 3, 'LIMA': 1, 'Est': 2, 'actuellement': 1, 'CHUV': 4, 'ambulatoire': 1, 'Le': 4, '144': 5, \"n'avait\": 2, 'pas': 13, 'cette': 2, 'information': 1, 'début': 1, 'accident': 7, 'travail': 2, 'En': 1, 'fait': 3, 'il': 2, 'était': 1, 'domicile': 3, 'lors': 1, 'sa': 6, 'chute': 4, 'domestique': 1, 'du': 12, 'coup': 1, 'Blessures': 1, 'inconnues': 2, 'mais': 4, 'visiblement': 1, 'graves': 1, 'voiture': 8, 'Sa': 1, '27': 1, 'ans': 8, 'pris': 4, 'carton': 1, 'peine': 1, 'bouger': 2, 'Se': 2, 'trouve': 1, 'magasin': 1, 'LIDLE': 1, 'faite': 1, 'heurté': 3, 'roller': 1, 'se': 7, 'tirer': 1, 'son': 4, 'chien': 2, 'passage': 3, 'piétons': 1, 'Mme': 3, 'bras': 2, 'refuse': 1, \"l'ambulance\": 1, 'La': 3, 'balise': 1, 'VD332216': 1, 'enclenchée': 1, 'aucun': 1, 'avec': 7, 'le': 18, 'détenteur': 1, 'Romain': 1, 'THEVOZ': 1, 'Appel': 2, 'transmis': 1, 'PM': 2, 'Lausanne': 3, 'les': 8, 'voies': 4, 'Prilly-Malley': 1, 'POL': 1, 'déjà': 1, 'rens': 2, 'blessé': 6, 'aux': 3, 'jambes': 2, 'avis': 1, \"d'un\": 2, 'lieu': 1, 'élevé': 1, '2': 5, 'personnes': 1, 'seraient': 1, 'blessées': 1, 'piéton': 1, 'Blessée': 1, 'ne': 3, 'peut': 2, \"L'ambulance\": 1, 'demande': 3, 'notre': 1, 'aide': 1, 'circulation': 1, '4': 3, 'mètres': 6, 'SMUR': 6, 'roulent': 2, 'sont': 3, 'intervenus': 1, 'trouvait': 2, 'bas': 1, 'Faits': 1, 'survenu': 1, 'vers': 2, '2336': 1, 'suite': 3, 'appel': 3, 'héliportée': 2, 'état': 1, 'grave': 1, 'Mr': 1, 'Arrêt': 1, 'MOB': 2, 'Vuarennes': 1, 'coincée': 5, 'entre': 3, 'quai': 2, 'train': 4, 'Pompiers': 3, 'engagés': 8, 'aurait': 3, 'handicapés': 1, 'chaise': 2, 'roulante': 2, 'ont': 3, 'rivière': 3, 'secourus': 1, 'passants': 1, 'Semblent': 1, 'bien': 1, 'porter': 1, 'pompier': 1, 'sortir': 1, 'même': 2, 'que': 1, 'ambulances': 1, 'prévention': 1, 'balcon': 2, 'décroché': 1, 'Il': 1, 'emmené': 1, 'directement': 1, \"l'hôpital\": 2, 'barrière': 1, 'chantier': 1, 'REGA': 4, 'informe': 1, 'avoir': 3, 'charge': 1, '65': 1, 'Vallon': 1, 'Pont': 1, 'Nant': 1, 'souffre': 1, 'fracture': 1, 'visage': 2, 'A': 3, 'Monthey': 2, 'enfant': 4, '12': 1, 'doigt': 1, 'situation': 1, 'très': 1, 'claire': 2, 'poussé': 1, 'autre': 2, 'traumatisme': 1, 'dorsale': 1, 'fils': 1, '18': 1, 'traversé': 1, 'porte': 2, 'vitrée': 1, 'coupé': 1, 'niveau': 3, \"l'épaule\": 1, 'thorax': 1, 'Circonstances': 2, 'peu': 2, 'Des': 1, 'bottes': 1, 'paille': 1, 'feu': 2, 'engagé': 3, '3': 5, 'brûlé': 1, 'barbeque': 1, 'C/O': 1, 'MAGNIN': 1, '80': 1, 'raccompagnée': 1, 'voisin': 1, 'traumas': 1, 'facial': 1, 'seconde': 1, 'Accident': 3, 'commune': 1, 'Billens': 1, 'FR': 1, 'coupée': 1, 'Prévonloup': 1, 'mis': 1, 'déviation': 1, 'Constat': 1, 'PC': 1, 'Inforoute': 1, 'Samaritains': 1, 'découvert': 1, 'inanimée': 1, 'roulotte': 1, 'camping': 1, 'manifestation': 1, 'Avait': 1, 'fixé': 1, 'tuyau': 1, 'gaz': 1, \"d'échappement\": 1, 'glissé': 1, 'trottoir': 1, 'huileux': 1, 'sang': 1, 'titube': 1, 'Trains': 2, 'vue': 2, 'promenait': 1, 'chemin': 2, 'abords': 1, 'Château-sec': 1, '41': 1, 'alors': 2, \"qu'elle\": 2, 'croisé': 1, 'noir': 1, 'Au': 1, 'moment': 2, 'croisement': 1, 'lui': 1, 'sauté': 3, 'dessus': 1, 'ce': 2, \"l'a\": 2, 'lourdement': 1, 'mordu': 2, 'fesse': 1, 'Va': 1, 'consulter': 1, 'médecin': 1, 'Ne': 2, 'connait': 1, 'nom': 1, 'propriétaires': 1, \"l'obtenir\": 1, 'assez': 1, 'facilement': 1, 'mère': 2, 'réside': 1, 'Moudon': 1, 'quartier': 1, 'entend': 1, 'bruits': 1, 'bagarre': 1, 'chez': 1, 'rez-de-chaussée': 1, 'veut': 1, 'intervenir': 2, 'garage': 1, 'refermée': 1, 'Concierge': 1, 'Inconsciente': 1, 'réa': 1, 'cours': 1, \"d'info\": 1, 'si': 2, 'elle': 2, 'shootée': 1, 'ouvrier': 1, 'renversé': 1, 'camionnette': 1, 'mise': 3, 'mouvement': 3, 'fortuit': 3, 'Conscient': 1, 'Patient': 1, 'héliporté': 1, 'Hôpital': 1, 'blessures': 1, 'montagne': 1, 'Contact': 1, 'SSH': 1, 'Wily': 1, 'Brand': 1, '079': 2, '607': 1, '31': 1, '62': 1, 'asdf': 1, 'Reçoivent': 1, 'alarme': 1, 'occupant': 1, 'répond': 1, 'aller': 1, 'voir': 1, 'Sur': 1, 'RC': 1, 'dir': 1, 'Orny': 1, 'sous': 3, 'voie': 1, 'St-François': 1, 'avant': 1, 'prendre': 1, 'bus': 2, 'Pully': 2, 'Elle': 1, 'montée': 1, 'mouchoirs': 1, 'refusé': 1, 'venue': 1, 'Engage': 1, 'bloqué': 1, '1': 2, 'passé': 1, 'bloc': 1, 'glace': 1, 'toit': 1, 'Ford': 1, 'Kuga': 1, 'noire': 1, 'détentrice': 1, 'attend': 1, 'main': 3, 'escalator': 1, 'jambe': 2, 'après': 1, 'marché': 1, 'couvercle': 1, 'regard': 1, 'récupération': 1, 'eaux': 1, 'ajusté': 1, 'correctement': 1, 'agressé': 1, 'couteau': 2, 'Blessure': 1, 'ventre': 2, 'Chez': 2, 'LJATISSI': 1, 'hanche': 1, 'Aucune': 1, 'indication': 1, 'Serait': 1, 'lave-vaisselle': 1, 'ouvert': 1, 'roule': 1, 'P1': 1, 'inconscient': 2, 'côté': 1, 'forcément': 1, 'auto': 2, 'cycliste': 2, 'appartement': 1, 'n.9': 1, 'Les': 2, 'pompiers': 2, 'requis': 1, 'syphon': 1, 'lavabo': 1, 'jeune': 1, 'leur': 1, 'signale': 1, 'Villa': 1, \"d'Oex\": 1, 'cailloux': 1, 'lequel': 1, 'talus': 2, 'besoin': 1, \"d'ambulance\": 1, 'nature': 1, 'inconnue': 1, 'informatrice': 1, 'stressée': 1, 'parle': 1, 'allemand': 1, 'test': 1, 'CAT': 1, 'avise': 1, \"qu'une\": 2, 'petite': 2, 'courante': 1, \"l'ecalatore\": 1, 'ballade': 1, 'VTT': 1, 'dévalé': 1, 'retrouvé': 1, 'lit': 1, \"N'est\": 1, \"n'arrive\": 1, 'remonter': 1, 'pente': 1, 'transf': 1, 'Police': 2, 'Riviera': 1, 'Peu': 1, 'compréhensible': 1, 'trains': 1, 'arrêtés': 1, 'Clinique': 1, 'Métairie': 1, 'possible': 1, 'Nicolas': 1, 'GUILLAUME': 1, 'présente': 1, 'CB': 1, 'déclarer': 1, 'eu': 1, \"l'après-midi\": 1, 'impliquant': 1, 'véhicule': 2, 'face': 1, \"l'alimentarium\": 1, 'vfsdfbsfdgbsbgf': 1, 'Signale': 2, \"d'environ\": 1, 'renversée': 1, 'chimique': 1, 'fuite': 2, 'produit': 1, 'diéthylamide': 1, 'selon': 1, 'CTA': 2, 'VMCV': 1, 'Saigne': 1, 'clair': 1, 'ruisseau': 1, 'GRIMP': 1, \"L'Opel\": 1, 'Meriva': 1, 'VD499357': 1, 'propriété': 1, 'sûreté': 1, 'trou': 1, 'profondeur': 1, 'renseignements': 1, 'carrefour': 2, 'camion': 1, 'reçu': 1, 'italien': 1, 'trouvant': 2, 'solitaire': 1, 'voitures': 1, \"d'informations\": 1, 'blessés': 1, 'ou': 1, \"L'informateur\": 1, '273': 1, '09': 1, '07': 1, '3.10.2016': 1, 'brûlée': 1, 'raison': 1, '35': 1, 'corps': 1, 'priori': 1, 'faisait': 1, 'cuisine': 1, 'chiffon': 1, 'seule': 1, 'car': 1, 'vit': 1, \"C'est\": 1, 'famille': 2, 'amenée': 1, 'Identité': 1, 'DUMAUTHIOZ': 1, 'Janine': 1, '04.01.1933': 1, 'Mallieu': 1, '11': 1, 'décès': 1, 'devrait': 1, 'nuit': 1, 'complication': 1, 'brûlures': 1, 'arrêt': 1, 'médicaments': 1, 'éviter': 1, 'acharnement': 1, 'thérapeutique': 1, 'trainé': 1, 'LEB': 1, 'quelque': 1, '10': 1, 'Chien': 1, 'race': 1, 'Hovawart': 1, 'poids': 1, '40': 1, 'kg': 1, 'petite-fille': 1, \"l'informateur\": 2, 'demi': 1, \"l'oreille\": 1, '18:45': 1, 'Conduite': 1, 'HZ': 1, 'Aigle': 1, 'transfert': 1, 'éventuel': 1, 'deux': 1, 'roues': 1, \"VD-276'644\": 1, 'touché': 1, \"VD-166'573\": 1, 'individus': 1, \"l'engin\": 1, 'courant': 1, \"qu'un\": 1, 'gros': 1, 'animaux': 1, 'Convoi': 1, 'arrêté': 1, 'constater': 1, 'dégâts': 1, \"N'a\": 1, 'déraillé': 1, 'Circule': 1, 'direction': 1, 'circulent': 1, 'probablement': 1, 'Son': 1, 'mari': 1, 'coincé': 1, 'Dans': 1, 'centre': 1, 'commercial': 1, 'voit': 1, 'gens': 1, 'jouer': 1, 'caddy': 1, 'parking': 1, 'location': 1, 'endommagée': 1, 'Problèmes': 1, 'genou': 1, 'militaire': 1, 'cheval': 1, 'Souffre': 1, 'Fernandez': 1, 'Philippe': 1, '89': 1, 'hauteur': 1, \"d'env\": 1, 'Semi': 1, 'conscient': 1}\n"
     ]
    }
   ],
   "source": [
    "print(bm.df)"
   ]
  },
  {
   "cell_type": "markdown",
   "metadata": {},
   "source": [
    "**bm.idf** donne le idf de l'objet BM25, c'est-à-dire un dictionnaire avec tous les mots distincts de tout le corpus associés comme clés et les fréquences inverses de chaques mots comme valeur\n",
    "\n",
    "La fréquence inverse d'un mot est calculée comme le logarithme naturel du quotient entre le nombre total de définitions (documents) et le nombre de définitions (documents) qui contiennent (au moins une fois) le mot respectif\n",
    "\n",
    "Dictionary with inversed terms frequencies for whole corpus. Words used as keys and \"frequencies\" as values."
   ]
  },
  {
   "cell_type": "code",
   "execution_count": 30,
   "metadata": {},
   "outputs": [
    {
     "name": "stdout",
     "output_type": "stream",
     "text": [
      "{'Une': 1.2903742392411512, 'fille': 3.0012724539296065, 'serait': 3.263576003786108, 'tombé': 2.611200375112292, 'au': 1.353718190685278, 'sol': 3.0012724539296065, 'la': 0.5616840409994817, 'saigne': 4.132496328186477, 'de': 0.16882086957505216, 'bouche': 4.132496328186477, 'va': 4.132496328186477, 'mal': 3.610917912644225, 'Pas': 3.0012724539296065, 'plus': 3.610917912644225, 'précisions': 4.132496328186477, 'concernant': 4.132496328186477, 'femme': 3.0012724539296065, 'a': 0.3835823968586567, 'été': 1.9824995964876058, 'blessée': 2.611200375112292, 'par': 1.6349169977350853, 'une': 0.5616840409994817, 'tente': 3.610917912644225, 'qui': 1.5597382438818284, \"s'est\": 1.6349169977350853, 'envolée': 3.610917912644225, 'ambulance': 2.7894905330423843, 'sur': 0.7976598792954324, 'place': 2.611200375112292, 'et': 1.112697028549848, 'acheminent': 3.610917912644225, 'à': 0.8979415932059585, \"l'Hôpital\": 3.610917912644225, 'Montreux': 3.610917912644225, 'grue': 3.263576003786108, 'cassé': 4.132496328186477, 'ligne': 4.132496328186477, 'contact': 3.610917912644225, 'des': 2.320078250441563, 'trolley-bus': 4.132496328186477, 'Un': 1.8870696490323793, 'homme': 1.8870696490323793, 'est': 1.419520008748211, \"d'une\": 2.4567357728213044, 'échelle': 3.263576003786108, 'route': 3.0012724539296065, 'Pour': 4.132496328186477, 'dame': 2.4567357728213044, 'chuté': 1.714108534997989, 'en': 1.419520008748211, 'vélo': 4.132496328186477, 'personne': 1.112697028549848, 'bord': 3.610917912644225, 'Demande': 4.132496328186477, 'patrouille': 3.263576003786108, 'pour': 1.419520008748211, 'sécurité': 4.132496328186477, 'un': 0.7010523600670586, 'témoin': 4.132496328186477, 'entendu': 4.132496328186477, 'choc': 4.132496328186477, 'trouvé': 3.610917912644225, 'inconsciente': 3.610917912644225, 'tête': 2.7894905330423843, 'Personne': 3.610917912644225, 'âgée': 3.263576003786108, 'tombée': 2.0853762771996505, 'chaussée': 4.132496328186477, 'Circulation': 4.132496328186477, 'perturbée': 4.132496328186477, 'Ambulance': 1.419520008748211, 'engagée': 1.8870696490323793, 'Chute': 3.610917912644225, 'dans': 1.4880770554298328, 'escaliers': 3.263576003786108, 'M': 3.263576003786108, 'LIMA': 4.132496328186477, 'Est': 3.610917912644225, 'actuellement': 4.132496328186477, 'CHUV': 3.0012724539296065, 'ambulatoire': 4.132496328186477, 'Le': 3.0012724539296065, '144': 2.7894905330423843, \"n'avait\": 3.610917912644225, 'pas': 1.7979133348024332, 'cette': 3.610917912644225, 'information': 4.132496328186477, 'début': 4.132496328186477, 'accident': 2.4567357728213044, 'travail': 3.610917912644225, 'En': 4.132496328186477, 'fait': 3.263576003786108, 'il': 3.610917912644225, 'était': 4.132496328186477, 'domicile': 3.263576003786108, 'lors': 4.132496328186477, 'sa': 2.611200375112292, 'chute': 3.0012724539296065, 'domestique': 4.132496328186477, 'du': 1.8870696490323793, 'coup': 4.132496328186477, 'Blessures': 4.132496328186477, 'inconnues': 3.610917912644225, 'mais': 3.0012724539296065, 'visiblement': 4.132496328186477, 'graves': 4.132496328186477, 'voiture': 2.320078250441563, 'Sa': 4.132496328186477, '27': 4.132496328186477, 'ans': 2.320078250441563, 'pris': 3.0012724539296065, 'carton': 4.132496328186477, 'peine': 4.132496328186477, 'bouger': 3.610917912644225, 'Se': 3.610917912644225, 'trouve': 4.132496328186477, 'magasin': 4.132496328186477, 'LIDLE': 4.132496328186477, 'faite': 4.132496328186477, 'heurté': 3.263576003786108, 'roller': 4.132496328186477, 'se': 2.4567357728213044, 'tirer': 4.132496328186477, 'son': 3.0012724539296065, 'chien': 3.610917912644225, 'passage': 3.263576003786108, 'piétons': 4.132496328186477, 'Mme': 3.263576003786108, 'bras': 3.610917912644225, 'refuse': 4.132496328186477, \"l'ambulance\": 4.132496328186477, 'La': 3.263576003786108, 'balise': 4.132496328186477, 'VD332216': 4.132496328186477, 'enclenchée': 4.132496328186477, 'aucun': 4.132496328186477, 'avec': 2.4567357728213044, 'le': 1.419520008748211, 'détenteur': 4.132496328186477, 'Romain': 4.132496328186477, 'THEVOZ': 4.132496328186477, 'Appel': 3.610917912644225, 'transmis': 4.132496328186477, 'PM': 3.610917912644225, 'Lausanne': 3.263576003786108, 'les': 2.320078250441563, 'voies': 3.0012724539296065, 'Prilly-Malley': 4.132496328186477, 'POL': 4.132496328186477, 'déjà': 4.132496328186477, 'rens': 3.610917912644225, 'blessé': 2.611200375112292, 'aux': 3.263576003786108, 'jambes': 3.610917912644225, 'avis': 4.132496328186477, \"d'un\": 3.610917912644225, 'lieu': 4.132496328186477, 'élevé': 4.132496328186477, '2': 2.7894905330423843, 'personnes': 4.132496328186477, 'seraient': 4.132496328186477, 'blessées': 4.132496328186477, 'piéton': 4.132496328186477, 'Blessée': 4.132496328186477, 'ne': 3.263576003786108, 'peut': 3.610917912644225, \"L'ambulance\": 4.132496328186477, 'demande': 3.263576003786108, 'notre': 4.132496328186477, 'aide': 4.132496328186477, 'circulation': 4.132496328186477, '4': 3.263576003786108, 'mètres': 2.611200375112292, 'SMUR': 2.611200375112292, 'roulent': 3.610917912644225, 'sont': 3.263576003786108, 'intervenus': 4.132496328186477, 'trouvait': 3.610917912644225, 'bas': 4.132496328186477, 'Faits': 4.132496328186477, 'survenu': 4.132496328186477, 'vers': 3.610917912644225, '2336': 4.132496328186477, 'suite': 3.263576003786108, 'appel': 3.263576003786108, 'héliportée': 3.610917912644225, 'état': 4.132496328186477, 'grave': 4.132496328186477, 'Mr': 4.132496328186477, 'Arrêt': 4.132496328186477, 'MOB': 3.610917912644225, 'Vuarennes': 4.132496328186477, 'coincée': 2.7894905330423843, 'entre': 3.263576003786108, 'quai': 3.610917912644225, 'train': 3.0012724539296065, 'Pompiers': 3.263576003786108, 'engagés': 2.320078250441563, 'aurait': 3.263576003786108, 'handicapés': 4.132496328186477, 'chaise': 3.610917912644225, 'roulante': 3.610917912644225, 'ont': 3.263576003786108, 'rivière': 3.263576003786108, 'secourus': 4.132496328186477, 'passants': 4.132496328186477, 'Semblent': 4.132496328186477, 'bien': 4.132496328186477, 'porter': 4.132496328186477, 'pompier': 4.132496328186477, 'sortir': 4.132496328186477, 'même': 3.610917912644225, 'que': 4.132496328186477, 'ambulances': 4.132496328186477, 'prévention': 4.132496328186477, 'balcon': 3.610917912644225, 'décroché': 4.132496328186477, 'Il': 4.132496328186477, 'emmené': 4.132496328186477, 'directement': 4.132496328186477, \"l'hôpital\": 3.610917912644225, 'barrière': 4.132496328186477, 'chantier': 4.132496328186477, 'REGA': 3.0012724539296065, 'informe': 4.132496328186477, 'avoir': 3.263576003786108, 'charge': 4.132496328186477, '65': 4.132496328186477, 'Vallon': 4.132496328186477, 'Pont': 4.132496328186477, 'Nant': 4.132496328186477, 'souffre': 4.132496328186477, 'fracture': 4.132496328186477, 'visage': 3.610917912644225, 'A': 3.263576003786108, 'Monthey': 3.610917912644225, 'enfant': 3.0012724539296065, '12': 4.132496328186477, 'doigt': 4.132496328186477, 'situation': 4.132496328186477, 'très': 4.132496328186477, 'claire': 3.610917912644225, 'poussé': 4.132496328186477, 'autre': 3.610917912644225, 'traumatisme': 4.132496328186477, 'dorsale': 4.132496328186477, 'fils': 4.132496328186477, '18': 4.132496328186477, 'traversé': 4.132496328186477, 'porte': 3.610917912644225, 'vitrée': 4.132496328186477, 'coupé': 4.132496328186477, 'niveau': 3.263576003786108, \"l'épaule\": 4.132496328186477, 'thorax': 4.132496328186477, 'Circonstances': 3.610917912644225, 'peu': 3.610917912644225, 'Des': 4.132496328186477, 'bottes': 4.132496328186477, 'paille': 4.132496328186477, 'feu': 3.610917912644225, 'engagé': 3.263576003786108, '3': 2.7894905330423843, 'brûlé': 4.132496328186477, 'barbeque': 4.132496328186477, 'C/O': 4.132496328186477, 'MAGNIN': 4.132496328186477, '80': 4.132496328186477, 'raccompagnée': 4.132496328186477, 'voisin': 4.132496328186477, 'traumas': 4.132496328186477, 'facial': 4.132496328186477, 'seconde': 4.132496328186477, 'Accident': 3.263576003786108, 'commune': 4.132496328186477, 'Billens': 4.132496328186477, 'FR': 4.132496328186477, 'coupée': 4.132496328186477, 'Prévonloup': 4.132496328186477, 'mis': 4.132496328186477, 'déviation': 4.132496328186477, 'Constat': 4.132496328186477, 'PC': 4.132496328186477, 'Inforoute': 4.132496328186477, 'Samaritains': 4.132496328186477, 'découvert': 4.132496328186477, 'inanimée': 4.132496328186477, 'roulotte': 4.132496328186477, 'camping': 4.132496328186477, 'manifestation': 4.132496328186477, 'Avait': 4.132496328186477, 'fixé': 4.132496328186477, 'tuyau': 4.132496328186477, 'gaz': 4.132496328186477, \"d'échappement\": 4.132496328186477, 'glissé': 4.132496328186477, 'trottoir': 4.132496328186477, 'huileux': 4.132496328186477, 'sang': 4.132496328186477, 'titube': 4.132496328186477, 'Trains': 3.610917912644225, 'vue': 3.610917912644225, 'promenait': 4.132496328186477, 'chemin': 3.610917912644225, 'abords': 4.132496328186477, 'Château-sec': 4.132496328186477, '41': 4.132496328186477, 'alors': 3.610917912644225, \"qu'elle\": 3.610917912644225, 'croisé': 4.132496328186477, 'noir': 4.132496328186477, 'Au': 4.132496328186477, 'moment': 3.610917912644225, 'croisement': 4.132496328186477, 'lui': 4.132496328186477, 'sauté': 3.263576003786108, 'dessus': 4.132496328186477, 'ce': 3.610917912644225, \"l'a\": 3.610917912644225, 'lourdement': 4.132496328186477, 'mordu': 3.610917912644225, 'fesse': 4.132496328186477, 'Va': 4.132496328186477, 'consulter': 4.132496328186477, 'médecin': 4.132496328186477, 'Ne': 3.610917912644225, 'connait': 4.132496328186477, 'nom': 4.132496328186477, 'propriétaires': 4.132496328186477, \"l'obtenir\": 4.132496328186477, 'assez': 4.132496328186477, 'facilement': 4.132496328186477, 'mère': 3.610917912644225, 'réside': 4.132496328186477, 'Moudon': 4.132496328186477, 'quartier': 4.132496328186477, 'entend': 4.132496328186477, 'bruits': 4.132496328186477, 'bagarre': 4.132496328186477, 'chez': 4.132496328186477, 'rez-de-chaussée': 4.132496328186477, 'veut': 4.132496328186477, 'intervenir': 3.610917912644225, 'garage': 4.132496328186477, 'refermée': 4.132496328186477, 'Concierge': 4.132496328186477, 'Inconsciente': 4.132496328186477, 'réa': 4.132496328186477, 'cours': 4.132496328186477, \"d'info\": 4.132496328186477, 'si': 3.610917912644225, 'elle': 3.610917912644225, 'shootée': 4.132496328186477, 'ouvrier': 4.132496328186477, 'renversé': 4.132496328186477, 'camionnette': 4.132496328186477, 'mise': 3.263576003786108, 'mouvement': 3.263576003786108, 'fortuit': 3.263576003786108, 'Conscient': 4.132496328186477, 'Patient': 4.132496328186477, 'héliporté': 4.132496328186477, 'Hôpital': 4.132496328186477, 'blessures': 4.132496328186477, 'montagne': 4.132496328186477, 'Contact': 4.132496328186477, 'SSH': 4.132496328186477, 'Wily': 4.132496328186477, 'Brand': 4.132496328186477, '079': 3.610917912644225, '607': 4.132496328186477, '31': 4.132496328186477, '62': 4.132496328186477, 'asdf': 4.132496328186477, 'Reçoivent': 4.132496328186477, 'alarme': 4.132496328186477, 'occupant': 4.132496328186477, 'répond': 4.132496328186477, 'aller': 4.132496328186477, 'voir': 4.132496328186477, 'Sur': 4.132496328186477, 'RC': 4.132496328186477, 'dir': 4.132496328186477, 'Orny': 4.132496328186477, 'sous': 3.263576003786108, 'voie': 4.132496328186477, 'St-François': 4.132496328186477, 'avant': 4.132496328186477, 'prendre': 4.132496328186477, 'bus': 3.610917912644225, 'Pully': 3.610917912644225, 'Elle': 4.132496328186477, 'montée': 4.132496328186477, 'mouchoirs': 4.132496328186477, 'refusé': 4.132496328186477, 'venue': 4.132496328186477, 'Engage': 4.132496328186477, 'bloqué': 4.132496328186477, '1': 3.610917912644225, 'passé': 4.132496328186477, 'bloc': 4.132496328186477, 'glace': 4.132496328186477, 'toit': 4.132496328186477, 'Ford': 4.132496328186477, 'Kuga': 4.132496328186477, 'noire': 4.132496328186477, 'détentrice': 4.132496328186477, 'attend': 4.132496328186477, 'main': 3.263576003786108, 'escalator': 4.132496328186477, 'jambe': 3.610917912644225, 'après': 4.132496328186477, 'marché': 4.132496328186477, 'couvercle': 4.132496328186477, 'regard': 4.132496328186477, 'récupération': 4.132496328186477, 'eaux': 4.132496328186477, 'ajusté': 4.132496328186477, 'correctement': 4.132496328186477, 'agressé': 4.132496328186477, 'couteau': 3.610917912644225, 'Blessure': 4.132496328186477, 'ventre': 3.610917912644225, 'Chez': 3.610917912644225, 'LJATISSI': 4.132496328186477, 'hanche': 4.132496328186477, 'Aucune': 4.132496328186477, 'indication': 4.132496328186477, 'Serait': 4.132496328186477, 'lave-vaisselle': 4.132496328186477, 'ouvert': 4.132496328186477, 'roule': 4.132496328186477, 'P1': 4.132496328186477, 'inconscient': 3.610917912644225, 'côté': 4.132496328186477, 'forcément': 4.132496328186477, 'auto': 3.610917912644225, 'cycliste': 3.610917912644225, 'appartement': 4.132496328186477, 'n.9': 4.132496328186477, 'Les': 3.610917912644225, 'pompiers': 3.610917912644225, 'requis': 4.132496328186477, 'syphon': 4.132496328186477, 'lavabo': 4.132496328186477, 'jeune': 4.132496328186477, 'leur': 4.132496328186477, 'signale': 4.132496328186477, 'Villa': 4.132496328186477, \"d'Oex\": 4.132496328186477, 'cailloux': 4.132496328186477, 'lequel': 4.132496328186477, 'talus': 3.610917912644225, 'besoin': 4.132496328186477, \"d'ambulance\": 4.132496328186477, 'nature': 4.132496328186477, 'inconnue': 4.132496328186477, 'informatrice': 4.132496328186477, 'stressée': 4.132496328186477, 'parle': 4.132496328186477, 'allemand': 4.132496328186477, 'test': 4.132496328186477, 'CAT': 4.132496328186477, 'avise': 4.132496328186477, \"qu'une\": 3.610917912644225, 'petite': 3.610917912644225, 'courante': 4.132496328186477, \"l'ecalatore\": 4.132496328186477, 'ballade': 4.132496328186477, 'VTT': 4.132496328186477, 'dévalé': 4.132496328186477, 'retrouvé': 4.132496328186477, 'lit': 4.132496328186477, \"N'est\": 4.132496328186477, \"n'arrive\": 4.132496328186477, 'remonter': 4.132496328186477, 'pente': 4.132496328186477, 'transf': 4.132496328186477, 'Police': 3.610917912644225, 'Riviera': 4.132496328186477, 'Peu': 4.132496328186477, 'compréhensible': 4.132496328186477, 'trains': 4.132496328186477, 'arrêtés': 4.132496328186477, 'Clinique': 4.132496328186477, 'Métairie': 4.132496328186477, 'possible': 4.132496328186477, 'Nicolas': 4.132496328186477, 'GUILLAUME': 4.132496328186477, 'présente': 4.132496328186477, 'CB': 4.132496328186477, 'déclarer': 4.132496328186477, 'eu': 4.132496328186477, \"l'après-midi\": 4.132496328186477, 'impliquant': 4.132496328186477, 'véhicule': 3.610917912644225, 'face': 4.132496328186477, \"l'alimentarium\": 4.132496328186477, 'vfsdfbsfdgbsbgf': 4.132496328186477, 'Signale': 3.610917912644225, \"d'environ\": 4.132496328186477, 'renversée': 4.132496328186477, 'chimique': 4.132496328186477, 'fuite': 3.610917912644225, 'produit': 4.132496328186477, 'diéthylamide': 4.132496328186477, 'selon': 4.132496328186477, 'CTA': 3.610917912644225, 'VMCV': 4.132496328186477, 'Saigne': 4.132496328186477, 'clair': 4.132496328186477, 'ruisseau': 4.132496328186477, 'GRIMP': 4.132496328186477, \"L'Opel\": 4.132496328186477, 'Meriva': 4.132496328186477, 'VD499357': 4.132496328186477, 'propriété': 4.132496328186477, 'sûreté': 4.132496328186477, 'trou': 4.132496328186477, 'profondeur': 4.132496328186477, 'renseignements': 4.132496328186477, 'carrefour': 3.610917912644225, 'camion': 4.132496328186477, 'reçu': 4.132496328186477, 'italien': 4.132496328186477, 'trouvant': 3.610917912644225, 'solitaire': 4.132496328186477, 'voitures': 4.132496328186477, \"d'informations\": 4.132496328186477, 'blessés': 4.132496328186477, 'ou': 4.132496328186477, \"L'informateur\": 4.132496328186477, '273': 4.132496328186477, '09': 4.132496328186477, '07': 4.132496328186477, '3.10.2016': 4.132496328186477, 'brûlée': 4.132496328186477, 'raison': 4.132496328186477, '35': 4.132496328186477, 'corps': 4.132496328186477, 'priori': 4.132496328186477, 'faisait': 4.132496328186477, 'cuisine': 4.132496328186477, 'chiffon': 4.132496328186477, 'seule': 4.132496328186477, 'car': 4.132496328186477, 'vit': 4.132496328186477, \"C'est\": 4.132496328186477, 'famille': 3.610917912644225, 'amenée': 4.132496328186477, 'Identité': 4.132496328186477, 'DUMAUTHIOZ': 4.132496328186477, 'Janine': 4.132496328186477, '04.01.1933': 4.132496328186477, 'Mallieu': 4.132496328186477, '11': 4.132496328186477, 'décès': 4.132496328186477, 'devrait': 4.132496328186477, 'nuit': 4.132496328186477, 'complication': 4.132496328186477, 'brûlures': 4.132496328186477, 'arrêt': 4.132496328186477, 'médicaments': 4.132496328186477, 'éviter': 4.132496328186477, 'acharnement': 4.132496328186477, 'thérapeutique': 4.132496328186477, 'trainé': 4.132496328186477, 'LEB': 4.132496328186477, 'quelque': 4.132496328186477, '10': 4.132496328186477, 'Chien': 4.132496328186477, 'race': 4.132496328186477, 'Hovawart': 4.132496328186477, 'poids': 4.132496328186477, '40': 4.132496328186477, 'kg': 4.132496328186477, 'petite-fille': 4.132496328186477, \"l'informateur\": 3.610917912644225, 'demi': 4.132496328186477, \"l'oreille\": 4.132496328186477, '18:45': 4.132496328186477, 'Conduite': 4.132496328186477, 'HZ': 4.132496328186477, 'Aigle': 4.132496328186477, 'transfert': 4.132496328186477, 'éventuel': 4.132496328186477, 'deux': 4.132496328186477, 'roues': 4.132496328186477, \"VD-276'644\": 4.132496328186477, 'touché': 4.132496328186477, \"VD-166'573\": 4.132496328186477, 'individus': 4.132496328186477, \"l'engin\": 4.132496328186477, 'courant': 4.132496328186477, \"qu'un\": 4.132496328186477, 'gros': 4.132496328186477, 'animaux': 4.132496328186477, 'Convoi': 4.132496328186477, 'arrêté': 4.132496328186477, 'constater': 4.132496328186477, 'dégâts': 4.132496328186477, \"N'a\": 4.132496328186477, 'déraillé': 4.132496328186477, 'Circule': 4.132496328186477, 'direction': 4.132496328186477, 'circulent': 4.132496328186477, 'probablement': 4.132496328186477, 'Son': 4.132496328186477, 'mari': 4.132496328186477, 'coincé': 4.132496328186477, 'Dans': 4.132496328186477, 'centre': 4.132496328186477, 'commercial': 4.132496328186477, 'voit': 4.132496328186477, 'gens': 4.132496328186477, 'jouer': 4.132496328186477, 'caddy': 4.132496328186477, 'parking': 4.132496328186477, 'location': 4.132496328186477, 'endommagée': 4.132496328186477, 'Problèmes': 4.132496328186477, 'genou': 4.132496328186477, 'militaire': 4.132496328186477, 'cheval': 4.132496328186477, 'Souffre': 4.132496328186477, 'Fernandez': 4.132496328186477, 'Philippe': 4.132496328186477, '89': 4.132496328186477, 'hauteur': 4.132496328186477, \"d'env\": 4.132496328186477, 'Semi': 4.132496328186477, 'conscient': 4.132496328186477}\n"
     ]
    }
   ],
   "source": [
    "av_idf = bm.idf\n",
    "print(av_idf)"
   ]
  },
  {
   "cell_type": "markdown",
   "metadata": {},
   "source": [
    "**bm.doc_len** donne la liste avec la longueur (en mots) de chaque document (chez nous de chaque définition de catégorie) du corpus qui a servi en la création de l'objet de type BM25\n",
    "\n",
    "List of document lenghts"
   ]
  },
  {
   "cell_type": "code",
   "execution_count": 31,
   "metadata": {
    "scrolled": false
   },
   "outputs": [
    {
     "name": "stdout",
     "output_type": "stream",
     "text": [
      "[23, 22, 10, 9, 8, 15, 16, 11, 44, 7, 22, 24, 34, 14, 19, 12, 13, 24, 9, 29, 7, 7, 15, 11, 31, 17, 9, 34, 19, 14, 25, 8, 15, 23, 25, 24, 6, 13, 77, 14, 11, 21, 14, 24, 1, 14, 17, 7, 33, 15, 7, 18, 9, 25, 14, 21, 12, 5, 2, 18, 11, 18, 9, 12, 1, 16, 32, 9, 19, 19, 4, 1, 13, 8, 13, 15, 12, 14, 20, 9, 34, 82, 17, 37, 9, 25, 5, 26, 8, 7, 20, 15, 12, 25]\n"
     ]
    }
   ],
   "source": [
    "print(bm.doc_len)"
   ]
  },
  {
   "cell_type": "markdown",
   "metadata": {},
   "source": [
    "## Recherche de la catégorie correspondant à un certain exposé"
   ]
  },
  {
   "cell_type": "markdown",
   "metadata": {},
   "source": [
    "Soit un exposé (plus précisément la liste des mots de cet exposé) \"à classer\", c'est-à-dire pour lequel on cherche la bonne définition "
   ]
  },
  {
   "cell_type": "code",
   "execution_count": 32,
   "metadata": {},
   "outputs": [],
   "source": [
    "expo_a_classer = ['enfant', 'femme', 'homme', 'voiture', 'blessé', 'blessée', 'voiture']"
   ]
  },
  {
   "cell_type": "markdown",
   "metadata": {},
   "source": [
    "Ci-dessous, on calcule le score BM25 de l'exposé à classer par rapport à un certain document (chez nous une certaine définition de catégorie) dans le corpus, plus précisément par rapport à la 4ème définition\n",
    "\n",
    "Computes BM25 score of given document in relation to item of corpus selected by index."
   ]
  },
  {
   "cell_type": "code",
   "execution_count": 33,
   "metadata": {
    "scrolled": true
   },
   "outputs": [
    {
     "data": {
      "text/plain": [
       "2.4056842060040693"
      ]
     },
     "execution_count": 33,
     "metadata": {},
     "output_type": "execute_result"
    }
   ],
   "source": [
    "bm.get_score(expo_a_classer, 3, av_idf)"
   ]
  },
  {
   "cell_type": "markdown",
   "metadata": {},
   "source": [
    "Idem pour l'indice 9 (à savoir 'Une grue est tombée sur une voiture.')"
   ]
  },
  {
   "cell_type": "code",
   "execution_count": 34,
   "metadata": {},
   "outputs": [
    {
     "data": {
      "text/plain": [
       "6.336176034166481"
      ]
     },
     "execution_count": 34,
     "metadata": {},
     "output_type": "execute_result"
    }
   ],
   "source": [
    "bm.get_score(expo_a_classer, 9, av_idf)"
   ]
  },
  {
   "cell_type": "markdown",
   "metadata": {},
   "source": [
    "Une liste avec les scores BM25 de l'exposé à classer par rapport à tous les documents (chez nous toutes les définitions des catégories) dans le corpus.\n",
    "\n",
    "Computes and returns BM25 scores of given document in relation to every item in corpus"
   ]
  },
  {
   "cell_type": "code",
   "execution_count": 35,
   "metadata": {},
   "outputs": [
    {
     "name": "stdout",
     "output_type": "stream",
     "text": [
      "<class 'list'>\n"
     ]
    }
   ],
   "source": [
    "scores = bm.get_scores(expo_a_classer, av_idf)\n",
    "#scores\n",
    "print(type(scores))"
   ]
  },
  {
   "cell_type": "markdown",
   "metadata": {},
   "source": [
    "Le score maximal (qui peut être obtenu par plusieurs documents, i.e. par plusieurs définitions de catégories)."
   ]
  },
  {
   "cell_type": "code",
   "execution_count": 36,
   "metadata": {
    "scrolled": true
   },
   "outputs": [
    {
     "data": {
      "text/plain": [
       "6.336176034166481"
      ]
     },
     "execution_count": 36,
     "metadata": {},
     "output_type": "execute_result"
    }
   ],
   "source": [
    "score_max = max(scores)\n",
    "score_max"
   ]
  },
  {
   "cell_type": "markdown",
   "metadata": {},
   "source": [
    "On vérifie s'il y a plusieurs documents (définitions de catégorie) qui obtiennent le score maximal"
   ]
  },
  {
   "cell_type": "code",
   "execution_count": 37,
   "metadata": {
    "scrolled": true
   },
   "outputs": [
    {
     "name": "stdout",
     "output_type": "stream",
     "text": [
      "6.336176034166481\n",
      "6.336176034166481\n",
      "6.336176034166481\n"
     ]
    },
    {
     "data": {
      "text/plain": [
       "[None, None, None]"
      ]
     },
     "execution_count": 37,
     "metadata": {},
     "output_type": "execute_result"
    }
   ],
   "source": [
    "[print(str(score)) for score in scores if score==score_max]"
   ]
  },
  {
   "cell_type": "markdown",
   "metadata": {},
   "source": [
    "La liste avec les indices des documents (définitions de catégories) qui ont obtenu le score maximal"
   ]
  },
  {
   "cell_type": "code",
   "execution_count": 38,
   "metadata": {},
   "outputs": [
    {
     "data": {
      "text/plain": [
       "[9, 21, 89]"
      ]
     },
     "execution_count": 38,
     "metadata": {},
     "output_type": "execute_result"
    }
   ],
   "source": [
    "#a_scores = np.asarray(scores)\n",
    "#a_indexes_max = np.argwhere(a_scores == score_max)\n",
    "#print(a_indexes_max)\n",
    "#l_indexes_max = a_indexes_max.flatten().tolist()\n",
    "#print(l_indexes_max)\n",
    "indexes_max = np.argwhere(np.asarray(scores) == score_max).flatten().tolist()\n",
    "indexes_max"
   ]
  },
  {
   "cell_type": "markdown",
   "metadata": {},
   "source": [
    "La liste avec les documents (définitions de catégories) qui ont obtenu le score maximal"
   ]
  },
  {
   "cell_type": "code",
   "execution_count": 39,
   "metadata": {},
   "outputs": [
    {
     "data": {
      "text/plain": [
       "['Une grue est tombée sur une voiture.',\n",
       " 'Une grue est tombée sur une voiture.',\n",
       " 'Son mari est coincé sous la voiture.']"
      ]
     },
     "execution_count": 39,
     "metadata": {},
     "output_type": "execute_result"
    }
   ],
   "source": [
    "#a_def_cats_finales = np.array(def_categories)[l_indexes_max]\n",
    "#l_defs_cats_finales = list(a_def_cats_finales)\n",
    "#l_defs_cats_finales = a_def_cats_finales.tolist()\n",
    "#l_defs_cats_finales\n",
    "def_cats_finales = np.array(def_categories)[indexes_max].tolist()\n",
    "def_cats_finales"
   ]
  },
  {
   "cell_type": "code",
   "execution_count": null,
   "metadata": {},
   "outputs": [],
   "source": []
  },
  {
   "cell_type": "code",
   "execution_count": null,
   "metadata": {},
   "outputs": [],
   "source": []
  },
  {
   "cell_type": "code",
   "execution_count": null,
   "metadata": {},
   "outputs": [],
   "source": []
  }
 ],
 "metadata": {
  "kernelspec": {
   "display_name": "Python 3",
   "language": "python",
   "name": "python3"
  },
  "language_info": {
   "codemirror_mode": {
    "name": "ipython",
    "version": 3
   },
   "file_extension": ".py",
   "mimetype": "text/x-python",
   "name": "python",
   "nbconvert_exporter": "python",
   "pygments_lexer": "ipython3",
   "version": "3.6.7"
  }
 },
 "nbformat": 4,
 "nbformat_minor": 2
}
