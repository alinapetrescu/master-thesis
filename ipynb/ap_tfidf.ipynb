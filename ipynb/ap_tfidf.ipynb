{
 "cells": [
  {
   "cell_type": "markdown",
   "metadata": {},
   "source": [
    "https://gist.github.com/sloria/6407257"
   ]
  },
  {
   "cell_type": "code",
   "execution_count": 2,
   "metadata": {},
   "outputs": [],
   "source": [
    "import math\n",
    "from textblob import TextBlob as tb"
   ]
  },
  {
   "cell_type": "markdown",
   "metadata": {},
   "source": [
    "tf(word, blob) computes \"term frequency\" which is the number of times a word appears in a document blob, normalized by dividing by the total number of words in blob. We use TextBlob for breaking up the text into words and getting the word counts."
   ]
  },
  {
   "cell_type": "code",
   "execution_count": 3,
   "metadata": {},
   "outputs": [],
   "source": [
    "def tf(word, blob):\n",
    "    return blob.words.count(word) / len(blob.words)"
   ]
  },
  {
   "cell_type": "markdown",
   "metadata": {},
   "source": [
    "n_containing(word, bloblist) returns the number of documents containing word. A generator expression is passed to the sum() function.\n",
    "\n",
    "Le n_containing correspond au bm.df du bm25"
   ]
  },
  {
   "cell_type": "code",
   "execution_count": 4,
   "metadata": {},
   "outputs": [],
   "source": [
    "def n_containing(word, bloblist):\n",
    "    return sum(1 for blob in bloblist if word in blob)"
   ]
  },
  {
   "cell_type": "markdown",
   "metadata": {},
   "source": [
    "idf(word, bloblist) computes \"inverse document frequency\" which measures how common a word is among all documents in bloblist. The more common a word is, the lower its idf. We take the ratio of the total number of documents to the number of documents containing word, then take the log of that. Add 1 to the divisor to prevent division by zero."
   ]
  },
  {
   "cell_type": "code",
   "execution_count": 5,
   "metadata": {},
   "outputs": [],
   "source": [
    "def idf(word, bloblist):\n",
    "    return math.log(len(bloblist) / (1 + n_containing(word, bloblist)))"
   ]
  },
  {
   "cell_type": "markdown",
   "metadata": {},
   "source": [
    "tfidf(word, blob, bloblist) computes the TF-IDF score. It's the product of tf and idf."
   ]
  },
  {
   "cell_type": "code",
   "execution_count": 6,
   "metadata": {},
   "outputs": [],
   "source": [
    "def tfidf(word, blob, bloblist):\n",
    "    return tf(word, blob) * idf(word, bloblist)"
   ]
  },
  {
   "cell_type": "code",
   "execution_count": null,
   "metadata": {},
   "outputs": [],
   "source": []
  },
  {
   "cell_type": "markdown",
   "metadata": {},
   "source": [
    "## Un exemple concret"
   ]
  },
  {
   "cell_type": "code",
   "execution_count": 7,
   "metadata": {},
   "outputs": [],
   "source": [
    "expos = [\"L'ex-ami de sa voisine (Mme LADRIERE, rez-de-chaussée) fait du scandale dans le bâtiment. S'agit d'un dénommé LOSET.\",\n",
    " \"Un voisin s'engeule avec les client, filme tout le monde et hurle.\",\n",
    " \"Un requérant sous l'influence de l'alcool crée du trouble dans le centre. Se montre menaçant verbalement\",\n",
    " \"les esprits s'échauffent devant le magasin, entre 2 groupes de jeunes\",\n",
    " 'Code entrée 6184, ne veut plus de son ami chez elle. Ce dernier ivre, fait du scandale dans le corridor.',\n",
    " 'un homme crée du scandale à la réception de la caisse de Chômage',\n",
    " \"Des jeunes font du scandale au bas de l'immeuble, à côté d'un bar.\",\n",
    " '1 client alcoolisé sème la zizanie dans le secteur',\n",
    " 'Signale des individus avinés qui font du grabuge sur le quai 5.',\n",
    " \"Par une trentaine de personnes, vers l'air de la station.\"]"
   ]
  },
  {
   "cell_type": "code",
   "execution_count": 8,
   "metadata": {},
   "outputs": [],
   "source": [
    "bloblist = [tb(expo) for expo in expos]"
   ]
  },
  {
   "cell_type": "code",
   "execution_count": 9,
   "metadata": {},
   "outputs": [
    {
     "data": {
      "text/plain": [
       "10"
      ]
     },
     "execution_count": 9,
     "metadata": {},
     "output_type": "execute_result"
    }
   ],
   "source": [
    "len(bloblist)"
   ]
  },
  {
   "cell_type": "code",
   "execution_count": 28,
   "metadata": {},
   "outputs": [
    {
     "data": {
      "text/plain": [
       "TextBlob(\"L'ex-ami de sa voisine (Mme LADRIERE, rez-de-chaussée) fait du scandale dans le bâtiment. S'agit d'un dénommé LOSET.\")"
      ]
     },
     "execution_count": 28,
     "metadata": {},
     "output_type": "execute_result"
    }
   ],
   "source": [
    "bloblist[0]"
   ]
  },
  {
   "cell_type": "code",
   "execution_count": 29,
   "metadata": {},
   "outputs": [
    {
     "name": "stdout",
     "output_type": "stream",
     "text": [
      "<class 'textblob.blob.TextBlob'>\n"
     ]
    }
   ],
   "source": [
    "print(type(bloblist[0]))"
   ]
  },
  {
   "cell_type": "code",
   "execution_count": 30,
   "metadata": {},
   "outputs": [
    {
     "name": "stdout",
     "output_type": "stream",
     "text": [
      "L'ex-ami de sa voisine (Mme LADRIERE, rez-de-chaussée) fait du scandale dans le bâtiment. S'agit d'un dénommé LOSET.\n"
     ]
    }
   ],
   "source": [
    "print(bloblist[0])"
   ]
  },
  {
   "cell_type": "markdown",
   "metadata": {},
   "source": [
    "For each document, we store the TF-IDF scores in a dictionary scores mapping word => score using a dict comprehension. We then sort the words by their scores and output the top 3 words."
   ]
  },
  {
   "cell_type": "code",
   "execution_count": 31,
   "metadata": {},
   "outputs": [
    {
     "data": {
      "text/plain": [
       "WordList([\"L'ex-ami\", 'de', 'sa', 'voisine', 'Mme', 'LADRIERE', 'rez-de-chaussée', 'fait', 'du', 'scandale', 'dans', 'le', 'bâtiment', \"S'agit\", \"d'un\", 'dénommé', 'LOSET'])"
      ]
     },
     "execution_count": 31,
     "metadata": {},
     "output_type": "execute_result"
    }
   ],
   "source": [
    "bloblist[0].words"
   ]
  },
  {
   "cell_type": "code",
   "execution_count": 33,
   "metadata": {},
   "outputs": [
    {
     "data": {
      "text/plain": [
       "[\"L'ex-ami\",\n",
       " 'de',\n",
       " 'sa',\n",
       " 'voisine',\n",
       " 'Mme',\n",
       " 'LADRIERE',\n",
       " 'rez-de-chaussée',\n",
       " 'fait',\n",
       " 'du',\n",
       " 'scandale',\n",
       " 'dans',\n",
       " 'le',\n",
       " 'bâtiment',\n",
       " \"S'agit\",\n",
       " \"d'un\",\n",
       " 'dénommé',\n",
       " 'LOSET']"
      ]
     },
     "execution_count": 33,
     "metadata": {},
     "output_type": "execute_result"
    }
   ],
   "source": [
    "l = list(bloblist[0].words)\n",
    "l"
   ]
  },
  {
   "cell_type": "code",
   "execution_count": 26,
   "metadata": {},
   "outputs": [
    {
     "name": "stdout",
     "output_type": "stream",
     "text": [
      "Top words in expo 1\n",
      "Word: L'ex-ami, TF-IDF: 0.09467\n",
      "Word: sa, TF-IDF: 0.09467\n",
      "Word: voisine, TF-IDF: 0.09467\n",
      "*******************************\n",
      "Top words in expo 2\n",
      "Word: s'engeule, TF-IDF: 0.13412\n",
      "Word: avec, TF-IDF: 0.13412\n",
      "Word: filme, TF-IDF: 0.13412\n",
      "*******************************\n",
      "Top words in expo 3\n",
      "Word: requérant, TF-IDF: 0.10059\n",
      "Word: sous, TF-IDF: 0.10059\n",
      "Word: l'influence, TF-IDF: 0.10059\n",
      "*******************************\n",
      "Top words in expo 4\n",
      "Word: esprits, TF-IDF: 0.14631\n",
      "Word: s'échauffent, TF-IDF: 0.14631\n",
      "Word: devant, TF-IDF: 0.14631\n",
      "*******************************\n",
      "Top words in expo 5\n",
      "Word: Code, TF-IDF: 0.08047\n",
      "Word: entrée, TF-IDF: 0.08047\n",
      "Word: 6184, TF-IDF: 0.08047\n",
      "*******************************\n",
      "Top words in expo 6\n",
      "Word: la, TF-IDF: 0.14097\n",
      "Word: homme, TF-IDF: 0.1238\n",
      "Word: réception, TF-IDF: 0.1238\n",
      "*******************************\n",
      "Top words in expo 7\n",
      "Word: Des, TF-IDF: 0.1238\n",
      "Word: bas, TF-IDF: 0.1238\n",
      "Word: l'immeuble, TF-IDF: 0.1238\n",
      "*******************************\n",
      "Top words in expo 8\n",
      "Word: alcoolisé, TF-IDF: 0.17883\n",
      "Word: sème, TF-IDF: 0.17883\n",
      "Word: zizanie, TF-IDF: 0.17883\n",
      "*******************************\n",
      "Top words in expo 9\n",
      "Word: Signale, TF-IDF: 0.13412\n",
      "Word: des, TF-IDF: 0.13412\n",
      "Word: individus, TF-IDF: 0.13412\n",
      "*******************************\n",
      "Top words in expo 10\n",
      "Word: Par, TF-IDF: 0.16094\n",
      "Word: trentaine, TF-IDF: 0.16094\n",
      "Word: personnes, TF-IDF: 0.16094\n",
      "*******************************\n"
     ]
    }
   ],
   "source": [
    "for i, blob in enumerate(bloblist):\n",
    "    print(\"Top words in expo {}\".format(i + 1))\n",
    "    scores = {word: tfidf(word, blob, bloblist) for word in blob.words}\n",
    "    sorted_words = sorted(scores.items(), key=lambda x: x[1], reverse=True)\n",
    "    for word, score in sorted_words[:3]:\n",
    "        print(\"Word: {}, TF-IDF: {}\".format(word, round(score, 5)))\n",
    "    print(\"*******************************\")"
   ]
  },
  {
   "cell_type": "code",
   "execution_count": null,
   "metadata": {},
   "outputs": [],
   "source": []
  }
 ],
 "metadata": {
  "kernelspec": {
   "display_name": "Python 3",
   "language": "python",
   "name": "python3"
  },
  "language_info": {
   "codemirror_mode": {
    "name": "ipython",
    "version": 3
   },
   "file_extension": ".py",
   "mimetype": "text/x-python",
   "name": "python",
   "nbconvert_exporter": "python",
   "pygments_lexer": "ipython3",
   "version": "3.6.7"
  }
 },
 "nbformat": 4,
 "nbformat_minor": 2
}
