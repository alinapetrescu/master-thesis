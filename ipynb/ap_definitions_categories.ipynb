{
 "cells": [
  {
   "cell_type": "markdown",
   "metadata": {},
   "source": [
    "### A partir de cette version, on veut plutôt sélectionner les **catégories significatives** avec un \"grand\" nombre d'exposés des faits associé."
   ]
  },
  {
   "cell_type": "code",
   "execution_count": 1,
   "metadata": {},
   "outputs": [],
   "source": [
    "import pandas as pd\n",
    "import numpy as np\n",
    "import math\n",
    "import random\n",
    "import re\n",
    "pd.options.mode.chained_assignment = None  # default='warn', Mutes warnings when copying a slice from a DataFrame. \n",
    "                                           # no warning message and no exception is raised\n",
    "import spacy\n",
    "nlp = spacy.load('fr')\n",
    "spacy.load('en')\n",
    "\n",
    "import gensim.summarization.bm25 as bm25\n",
    "from textblob import TextBlob as tb\n",
    "\n",
    "import nltk \n",
    "import operator"
   ]
  },
  {
   "cell_type": "markdown",
   "metadata": {},
   "source": [
    "A **DataFrame** is a two-dimensional size-mutable, potentially heterogeneous tabular data structure with labeled axes (rows and columns). Arithmetic operations align on both row and column labels. Can be thought of as a dict-like container for Series objects. The primary pandas data structure."
   ]
  },
  {
   "cell_type": "markdown",
   "metadata": {},
   "source": [
    "Ci-dessous, efs est un DataFrame.\n",
    "L'argument header=0 indique que les noms des colonnes se trouvent sur la première ligne (d'indice 0)."
   ]
  },
  {
   "cell_type": "code",
   "execution_count": 2,
   "metadata": {
    "scrolled": false
   },
   "outputs": [
    {
     "data": {
      "text/html": [
       "<div>\n",
       "<style scoped>\n",
       "    .dataframe tbody tr th:only-of-type {\n",
       "        vertical-align: middle;\n",
       "    }\n",
       "\n",
       "    .dataframe tbody tr th {\n",
       "        vertical-align: top;\n",
       "    }\n",
       "\n",
       "    .dataframe thead th {\n",
       "        text-align: right;\n",
       "    }\n",
       "</style>\n",
       "<table border=\"1\" class=\"dataframe\">\n",
       "  <thead>\n",
       "    <tr style=\"text-align: right;\">\n",
       "      <th></th>\n",
       "      <th>EXPOSES</th>\n",
       "      <th>CATEGORIE</th>\n",
       "    </tr>\n",
       "  </thead>\n",
       "  <tbody>\n",
       "    <tr>\n",
       "      <th>0</th>\n",
       "      <td>Une trace de mazout sur env 20 mètres. Pompier...</td>\n",
       "      <td>POLLUTION - HYDROCARBURES</td>\n",
       "    </tr>\n",
       "    <tr>\n",
       "      <th>1</th>\n",
       "      <td>avis prudence météo</td>\n",
       "      <td>FEUX A ECLIPSES - 45 TOURS</td>\n",
       "    </tr>\n",
       "    <tr>\n",
       "      <th>2</th>\n",
       "      <td>Un renard sur la voie gauche.</td>\n",
       "      <td>ANIMAUX</td>\n",
       "    </tr>\n",
       "    <tr>\n",
       "      <th>3</th>\n",
       "      <td>Interpellation de M. Ndue GESHTEJA</td>\n",
       "      <td>INDIVIDU - RECHERCHE</td>\n",
       "    </tr>\n",
       "    <tr>\n",
       "      <th>4</th>\n",
       "      <td>Bras cassé suite glissade sur le verglas.</td>\n",
       "      <td>DEMANDE - D'AMBULANCE</td>\n",
       "    </tr>\n",
       "  </tbody>\n",
       "</table>\n",
       "</div>"
      ],
      "text/plain": [
       "                                             EXPOSES  \\\n",
       "0  Une trace de mazout sur env 20 mètres. Pompier...   \n",
       "1                                avis prudence météo   \n",
       "2                      Un renard sur la voie gauche.   \n",
       "3                 Interpellation de M. Ndue GESHTEJA   \n",
       "4          Bras cassé suite glissade sur le verglas.   \n",
       "\n",
       "                    CATEGORIE  \n",
       "0   POLLUTION - HYDROCARBURES  \n",
       "1  FEUX A ECLIPSES - 45 TOURS  \n",
       "2                     ANIMAUX  \n",
       "3        INDIVIDU - RECHERCHE  \n",
       "4       DEMANDE - D'AMBULANCE  "
      ]
     },
     "execution_count": 2,
     "metadata": {},
     "output_type": "execute_result"
    }
   ],
   "source": [
    "efs = pd.read_csv('/home/alina/UNIFR/TM/random/ExposesDesFaits/exposes_faits_preproc_TEMOIN.csv', header=0, sep=';')\n",
    "efs.head(5)"
   ]
  },
  {
   "cell_type": "code",
   "execution_count": 3,
   "metadata": {
    "scrolled": true
   },
   "outputs": [
    {
     "name": "stdout",
     "output_type": "stream",
     "text": [
      "<class 'pandas.core.frame.DataFrame'>\n"
     ]
    }
   ],
   "source": [
    "print(type(efs))"
   ]
  },
  {
   "cell_type": "markdown",
   "metadata": {},
   "source": [
    "**Le nombre d'enregistrements** de la DataFrame efs"
   ]
  },
  {
   "cell_type": "code",
   "execution_count": 4,
   "metadata": {},
   "outputs": [
    {
     "data": {
      "text/plain": [
       "158071"
      ]
     },
     "execution_count": 4,
     "metadata": {},
     "output_type": "execute_result"
    }
   ],
   "source": [
    "len(efs)"
   ]
  },
  {
   "cell_type": "markdown",
   "metadata": {},
   "source": [
    "## Manipulations des enregistrements"
   ]
  },
  {
   "cell_type": "markdown",
   "metadata": {},
   "source": [
    "Les enregistrements qui ont comme **CATEGORIE** ANIMAUX ou animaux ou Animaux"
   ]
  },
  {
   "cell_type": "code",
   "execution_count": 5,
   "metadata": {},
   "outputs": [
    {
     "data": {
      "text/html": [
       "<div>\n",
       "<style scoped>\n",
       "    .dataframe tbody tr th:only-of-type {\n",
       "        vertical-align: middle;\n",
       "    }\n",
       "\n",
       "    .dataframe tbody tr th {\n",
       "        vertical-align: top;\n",
       "    }\n",
       "\n",
       "    .dataframe thead th {\n",
       "        text-align: right;\n",
       "    }\n",
       "</style>\n",
       "<table border=\"1\" class=\"dataframe\">\n",
       "  <thead>\n",
       "    <tr style=\"text-align: right;\">\n",
       "      <th></th>\n",
       "      <th>EXPOSES</th>\n",
       "      <th>CATEGORIE</th>\n",
       "    </tr>\n",
       "  </thead>\n",
       "  <tbody>\n",
       "    <tr>\n",
       "      <th>2</th>\n",
       "      <td>Un renard sur la voie gauche.</td>\n",
       "      <td>ANIMAUX</td>\n",
       "    </tr>\n",
       "    <tr>\n",
       "      <th>11</th>\n",
       "      <td>1 chien dans la Renault Kangoo blanche (F) AN8...</td>\n",
       "      <td>ANIMAUX</td>\n",
       "    </tr>\n",
       "    <tr>\n",
       "      <th>86</th>\n",
       "      <td>retrouvé un chat en mauvais état</td>\n",
       "      <td>ANIMAUX</td>\n",
       "    </tr>\n",
       "    <tr>\n",
       "      <th>95</th>\n",
       "      <td>un serpent vivant au milieu de la route</td>\n",
       "      <td>ANIMAUX</td>\n",
       "    </tr>\n",
       "    <tr>\n",
       "      <th>101</th>\n",
       "      <td>Des chèvres sur la route.</td>\n",
       "      <td>ANIMAUX</td>\n",
       "    </tr>\n",
       "  </tbody>\n",
       "</table>\n",
       "</div>"
      ],
      "text/plain": [
       "                                               EXPOSES CATEGORIE\n",
       "2                        Un renard sur la voie gauche.   ANIMAUX\n",
       "11   1 chien dans la Renault Kangoo blanche (F) AN8...   ANIMAUX\n",
       "86                    retrouvé un chat en mauvais état   ANIMAUX\n",
       "95             un serpent vivant au milieu de la route   ANIMAUX\n",
       "101                          Des chèvres sur la route.   ANIMAUX"
      ]
     },
     "execution_count": 5,
     "metadata": {},
     "output_type": "execute_result"
    }
   ],
   "source": [
    "efs_categorie_animaux = efs.query('CATEGORIE == \"ANIMAUX\" or CATEGORIE == \"animaux\" or CATEGORIE == \"Animaux\"')\n",
    "efs_categorie_animaux.head(5)"
   ]
  },
  {
   "cell_type": "markdown",
   "metadata": {},
   "source": [
    "Les indices des enregistrements ayant comme **CATEGORIE** ANIMAUX ou animaux ou Animaux"
   ]
  },
  {
   "cell_type": "code",
   "execution_count": 6,
   "metadata": {
    "scrolled": true
   },
   "outputs": [
    {
     "data": {
      "text/plain": [
       "Int64Index([     2,     11,     86,     95,    101,    184,    190,    208,\n",
       "               230,    295,\n",
       "            ...\n",
       "            157689, 157696, 157747, 157777, 157833, 157892, 157911, 157937,\n",
       "            158016, 158050],\n",
       "           dtype='int64', length=6847)"
      ]
     },
     "execution_count": 6,
     "metadata": {},
     "output_type": "execute_result"
    }
   ],
   "source": [
    "efs_categorie_animaux.index"
   ]
  },
  {
   "cell_type": "markdown",
   "metadata": {},
   "source": [
    "ATTENTION : le dernier enregistrement de la DataFrame efs est bien len(data) car on n'a pas effacé des enregistrements (cas où les indices n'auraient pas été mis à jour).\n",
    "\n",
    "Le **dernier** enregistrement de la DataFrame **efs**."
   ]
  },
  {
   "cell_type": "code",
   "execution_count": 7,
   "metadata": {
    "scrolled": true
   },
   "outputs": [
    {
     "name": "stdout",
     "output_type": "stream",
     "text": [
      "EXPOSES      4 paires de skis sur la chaussée.\n",
      "CATEGORIE                          AR - DIVERS\n",
      "Name: 158070, dtype: object\n"
     ]
    }
   ],
   "source": [
    "print(efs.iloc[-1])"
   ]
  },
  {
   "cell_type": "markdown",
   "metadata": {},
   "source": [
    "Les **derniers** enregistrements de la DataFrame **efs**"
   ]
  },
  {
   "cell_type": "code",
   "execution_count": 8,
   "metadata": {},
   "outputs": [
    {
     "name": "stdout",
     "output_type": "stream",
     "text": [
      "                                                  EXPOSES  \\\n",
      "158068  Adj IMSAND GDM/Protection des personnalités di...   \n",
      "158069  Demande de venir sur place. N'arrivons pas à d...   \n",
      "158070                  4 paires de skis sur la chaussée.   \n",
      "\n",
      "                     CATEGORIE  \n",
      "158068             INFORMATION  \n",
      "158069  DEMANDE - D'ASSISTANCE  \n",
      "158070             AR - DIVERS  \n"
     ]
    }
   ],
   "source": [
    "print(efs.tail(3))"
   ]
  },
  {
   "cell_type": "markdown",
   "metadata": {},
   "source": [
    "Une **tranche** d'enregistrements (entre les indices 50500 et 50505) de la DataFrame efs"
   ]
  },
  {
   "cell_type": "code",
   "execution_count": 9,
   "metadata": {},
   "outputs": [
    {
     "data": {
      "text/html": [
       "<div>\n",
       "<style scoped>\n",
       "    .dataframe tbody tr th:only-of-type {\n",
       "        vertical-align: middle;\n",
       "    }\n",
       "\n",
       "    .dataframe tbody tr th {\n",
       "        vertical-align: top;\n",
       "    }\n",
       "\n",
       "    .dataframe thead th {\n",
       "        text-align: right;\n",
       "    }\n",
       "</style>\n",
       "<table border=\"1\" class=\"dataframe\">\n",
       "  <thead>\n",
       "    <tr style=\"text-align: right;\">\n",
       "      <th></th>\n",
       "      <th>EXPOSES</th>\n",
       "      <th>CATEGORIE</th>\n",
       "    </tr>\n",
       "  </thead>\n",
       "  <tbody>\n",
       "    <tr>\n",
       "      <th>50500</th>\n",
       "      <td>1 arbre en travers de la route</td>\n",
       "      <td>INTEMPERIE</td>\n",
       "    </tr>\n",
       "    <tr>\n",
       "      <th>50501</th>\n",
       "      <td>Intervention spontanée suite à bruits audibles...</td>\n",
       "      <td>DEMANDE - D'ASSISTANCE</td>\n",
       "    </tr>\n",
       "    <tr>\n",
       "      <th>50502</th>\n",
       "      <td>A trouvé des cartouches d'arme dans le corrido...</td>\n",
       "      <td>OBJETS - TROUVES</td>\n",
       "    </tr>\n",
       "    <tr>\n",
       "      <th>50503</th>\n",
       "      <td>en face du camping de Vidy à 400m du bord, 2 a...</td>\n",
       "      <td>ACCIDENT - DE NAVIGATION / NAUFRAGE - NAVIGATE...</td>\n",
       "    </tr>\n",
       "    <tr>\n",
       "      <th>50504</th>\n",
       "      <td>Pour un homme qui sème le scandale et ne veux ...</td>\n",
       "      <td>INDESIRABLE</td>\n",
       "    </tr>\n",
       "    <tr>\n",
       "      <th>50505</th>\n",
       "      <td>Retrouve une voiture à plaques Valaisannes pla...</td>\n",
       "      <td>ACCIDENT - DE CIRCULATION - AVEC FUITE</td>\n",
       "    </tr>\n",
       "  </tbody>\n",
       "</table>\n",
       "</div>"
      ],
      "text/plain": [
       "                                                 EXPOSES  \\\n",
       "50500                     1 arbre en travers de la route   \n",
       "50501  Intervention spontanée suite à bruits audibles...   \n",
       "50502  A trouvé des cartouches d'arme dans le corrido...   \n",
       "50503  en face du camping de Vidy à 400m du bord, 2 a...   \n",
       "50504  Pour un homme qui sème le scandale et ne veux ...   \n",
       "50505  Retrouve une voiture à plaques Valaisannes pla...   \n",
       "\n",
       "                                               CATEGORIE  \n",
       "50500                                         INTEMPERIE  \n",
       "50501                             DEMANDE - D'ASSISTANCE  \n",
       "50502                                   OBJETS - TROUVES  \n",
       "50503  ACCIDENT - DE NAVIGATION / NAUFRAGE - NAVIGATE...  \n",
       "50504                                        INDESIRABLE  \n",
       "50505             ACCIDENT - DE CIRCULATION - AVEC FUITE  "
      ]
     },
     "execution_count": 9,
     "metadata": {},
     "output_type": "execute_result"
    }
   ],
   "source": [
    "efs.loc[50500:50505]"
   ]
  },
  {
   "cell_type": "markdown",
   "metadata": {},
   "source": [
    "**L'enregistrement** avec l'indice 50500 de la DataFrame efs, en tant qu'objet **Series**"
   ]
  },
  {
   "cell_type": "code",
   "execution_count": 10,
   "metadata": {
    "scrolled": true
   },
   "outputs": [
    {
     "name": "stdout",
     "output_type": "stream",
     "text": [
      "<class 'pandas.core.series.Series'>\n"
     ]
    },
    {
     "data": {
      "text/plain": [
       "EXPOSES      1 arbre en travers de la route\n",
       "CATEGORIE                        INTEMPERIE\n",
       "Name: 50500, dtype: object"
      ]
     },
     "execution_count": 10,
     "metadata": {},
     "output_type": "execute_result"
    }
   ],
   "source": [
    "print(type(efs.loc[50500]))\n",
    "efs.loc[50500]"
   ]
  },
  {
   "cell_type": "markdown",
   "metadata": {},
   "source": [
    "**L'exposé** (premier indice donc de valeur 0) de l'enregistrement avec l'indice 50500 de la DataFrame efs"
   ]
  },
  {
   "cell_type": "code",
   "execution_count": 11,
   "metadata": {},
   "outputs": [
    {
     "data": {
      "text/plain": [
       "'1 arbre en travers de la route'"
      ]
     },
     "execution_count": 11,
     "metadata": {},
     "output_type": "execute_result"
    }
   ],
   "source": [
    "efs.loc[50500][0]"
   ]
  },
  {
   "cell_type": "markdown",
   "metadata": {},
   "source": [
    "**La catégorie** (deuxième indice donc de valeur 1) de l'enregistrement avec l'indice 50500 de la DataFrame efs"
   ]
  },
  {
   "cell_type": "code",
   "execution_count": 12,
   "metadata": {},
   "outputs": [
    {
     "data": {
      "text/plain": [
       "'INTEMPERIE'"
      ]
     },
     "execution_count": 12,
     "metadata": {},
     "output_type": "execute_result"
    }
   ],
   "source": [
    "efs.loc[50500][1]"
   ]
  },
  {
   "cell_type": "markdown",
   "metadata": {},
   "source": [
    "On obtient ci-dessous les indices des lignes (donc les étiquettes des lignes qui chez nous sont des entiers) de la **DataFrame**."
   ]
  },
  {
   "cell_type": "code",
   "execution_count": 13,
   "metadata": {},
   "outputs": [
    {
     "data": {
      "text/plain": [
       "RangeIndex(start=0, stop=158071, step=1)"
      ]
     },
     "execution_count": 13,
     "metadata": {},
     "output_type": "execute_result"
    }
   ],
   "source": [
    "efs.index"
   ]
  },
  {
   "cell_type": "markdown",
   "metadata": {},
   "source": [
    "La liste des axes de la **DataFrame**.\n",
    "\n",
    "En particulier, on peut y trouver les noms (les étiquettes) des colonnes."
   ]
  },
  {
   "cell_type": "code",
   "execution_count": 14,
   "metadata": {},
   "outputs": [
    {
     "data": {
      "text/plain": [
       "[RangeIndex(start=0, stop=158071, step=1),\n",
       " Index(['EXPOSES', 'CATEGORIE'], dtype='object')]"
      ]
     },
     "execution_count": 14,
     "metadata": {},
     "output_type": "execute_result"
    }
   ],
   "source": [
    "efs.axes"
   ]
  },
  {
   "cell_type": "markdown",
   "metadata": {},
   "source": [
    "Si jamais on veut intervertir l'ordre des catégories"
   ]
  },
  {
   "cell_type": "code",
   "execution_count": 15,
   "metadata": {},
   "outputs": [],
   "source": [
    "efs_mix = efs[['CATEGORIE','EXPOSES']]"
   ]
  },
  {
   "cell_type": "code",
   "execution_count": 16,
   "metadata": {
    "scrolled": true
   },
   "outputs": [
    {
     "data": {
      "text/html": [
       "<div>\n",
       "<style scoped>\n",
       "    .dataframe tbody tr th:only-of-type {\n",
       "        vertical-align: middle;\n",
       "    }\n",
       "\n",
       "    .dataframe tbody tr th {\n",
       "        vertical-align: top;\n",
       "    }\n",
       "\n",
       "    .dataframe thead th {\n",
       "        text-align: right;\n",
       "    }\n",
       "</style>\n",
       "<table border=\"1\" class=\"dataframe\">\n",
       "  <thead>\n",
       "    <tr style=\"text-align: right;\">\n",
       "      <th></th>\n",
       "      <th>CATEGORIE</th>\n",
       "      <th>EXPOSES</th>\n",
       "    </tr>\n",
       "  </thead>\n",
       "  <tbody>\n",
       "    <tr>\n",
       "      <th>0</th>\n",
       "      <td>POLLUTION - HYDROCARBURES</td>\n",
       "      <td>Une trace de mazout sur env 20 mètres. Pompier...</td>\n",
       "    </tr>\n",
       "    <tr>\n",
       "      <th>1</th>\n",
       "      <td>FEUX A ECLIPSES - 45 TOURS</td>\n",
       "      <td>avis prudence météo</td>\n",
       "    </tr>\n",
       "    <tr>\n",
       "      <th>2</th>\n",
       "      <td>ANIMAUX</td>\n",
       "      <td>Un renard sur la voie gauche.</td>\n",
       "    </tr>\n",
       "    <tr>\n",
       "      <th>3</th>\n",
       "      <td>INDIVIDU - RECHERCHE</td>\n",
       "      <td>Interpellation de M. Ndue GESHTEJA</td>\n",
       "    </tr>\n",
       "    <tr>\n",
       "      <th>4</th>\n",
       "      <td>DEMANDE - D'AMBULANCE</td>\n",
       "      <td>Bras cassé suite glissade sur le verglas.</td>\n",
       "    </tr>\n",
       "  </tbody>\n",
       "</table>\n",
       "</div>"
      ],
      "text/plain": [
       "                    CATEGORIE  \\\n",
       "0   POLLUTION - HYDROCARBURES   \n",
       "1  FEUX A ECLIPSES - 45 TOURS   \n",
       "2                     ANIMAUX   \n",
       "3        INDIVIDU - RECHERCHE   \n",
       "4       DEMANDE - D'AMBULANCE   \n",
       "\n",
       "                                             EXPOSES  \n",
       "0  Une trace de mazout sur env 20 mètres. Pompier...  \n",
       "1                                avis prudence météo  \n",
       "2                      Un renard sur la voie gauche.  \n",
       "3                 Interpellation de M. Ndue GESHTEJA  \n",
       "4          Bras cassé suite glissade sur le verglas.  "
      ]
     },
     "execution_count": 16,
     "metadata": {},
     "output_type": "execute_result"
    }
   ],
   "source": [
    "efs_mix.head(5)"
   ]
  },
  {
   "cell_type": "markdown",
   "metadata": {},
   "source": [
    "### Catégories"
   ]
  },
  {
   "cell_type": "markdown",
   "metadata": {},
   "source": [
    "Les catégories des premiers enregistrements "
   ]
  },
  {
   "cell_type": "code",
   "execution_count": 17,
   "metadata": {},
   "outputs": [
    {
     "name": "stdout",
     "output_type": "stream",
     "text": [
      "<class 'pandas.core.series.Series'>\n"
     ]
    },
    {
     "data": {
      "text/plain": [
       "0     POLLUTION - HYDROCARBURES\n",
       "1    FEUX A ECLIPSES - 45 TOURS\n",
       "2                       ANIMAUX\n",
       "Name: CATEGORIE, dtype: object"
      ]
     },
     "execution_count": 17,
     "metadata": {},
     "output_type": "execute_result"
    }
   ],
   "source": [
    "print(type(efs['CATEGORIE']))\n",
    "efs['CATEGORIE'].head(3)"
   ]
  },
  {
   "cell_type": "markdown",
   "metadata": {},
   "source": [
    "Les catégories des derniers enregistrements"
   ]
  },
  {
   "cell_type": "code",
   "execution_count": 18,
   "metadata": {},
   "outputs": [
    {
     "data": {
      "text/plain": [
       "158068               INFORMATION\n",
       "158069    DEMANDE - D'ASSISTANCE\n",
       "158070               AR - DIVERS\n",
       "Name: CATEGORIE, dtype: object"
      ]
     },
     "execution_count": 18,
     "metadata": {},
     "output_type": "execute_result"
    }
   ],
   "source": [
    "efs['CATEGORIE'].tail(3)"
   ]
  },
  {
   "cell_type": "markdown",
   "metadata": {},
   "source": [
    "Les catégories de tous les enregistrements (donc les éléments de la colonne CATEGORIE) de la DataFrame efs en tant qu'objet de type pandas.core.series.Series et aussi liste de strings"
   ]
  },
  {
   "cell_type": "code",
   "execution_count": 19,
   "metadata": {},
   "outputs": [
    {
     "name": "stdout",
     "output_type": "stream",
     "text": [
      "<class 'pandas.core.series.Series'>\n"
     ]
    },
    {
     "data": {
      "text/plain": [
       "['POLLUTION - HYDROCARBURES',\n",
       " 'FEUX A ECLIPSES - 45 TOURS',\n",
       " 'ANIMAUX',\n",
       " 'INDIVIDU - RECHERCHE',\n",
       " \"DEMANDE - D'AMBULANCE\"]"
      ]
     },
     "execution_count": 19,
     "metadata": {},
     "output_type": "execute_result"
    }
   ],
   "source": [
    "categories = efs['CATEGORIE']\n",
    "#categories = efs.CATEGORIE\n",
    "print(type(categories))\n",
    "l_categories = list(categories)\n",
    "l_categories[0:5:1]"
   ]
  },
  {
   "cell_type": "markdown",
   "metadata": {},
   "source": [
    "Les catégories SANS doublons comme set et liste\n",
    "On transforme la Series \"categories\" en un set nommé \"set_categories\" pour éliminer les doublons"
   ]
  },
  {
   "cell_type": "code",
   "execution_count": 20,
   "metadata": {},
   "outputs": [
    {
     "name": "stdout",
     "output_type": "stream",
     "text": [
      "<class 'set'>\n",
      "431\n"
     ]
    }
   ],
   "source": [
    "set_categories = set(categories)\n",
    "print(type(set_categories))\n",
    "print(len(set_categories))\n",
    "#set_categories"
   ]
  },
  {
   "cell_type": "markdown",
   "metadata": {},
   "source": [
    "Quelques exemples de catégories choisis aléatoirement"
   ]
  },
  {
   "cell_type": "code",
   "execution_count": 21,
   "metadata": {
    "scrolled": true
   },
   "outputs": [
    {
     "data": {
      "text/plain": [
       "{'ABUS - DE CONFIANCE',\n",
       " \"ALARME MISE EN TEST - 421250 - MISTEST  - FONDATION DE L'HERMITAGE (MUSEE)\",\n",
       " 'DISPARITION - PERSONNE AGEE',\n",
       " 'RECHERCHE - ALARME - VAUD',\n",
       " \"VOL - A L'ASTUCE\"}"
      ]
     },
     "execution_count": 21,
     "metadata": {},
     "output_type": "execute_result"
    }
   ],
   "source": [
    "set(random.sample(set_categories,5))"
   ]
  },
  {
   "cell_type": "markdown",
   "metadata": {},
   "source": [
    "En affichant toutes les catégories avec l'instruction commentée ci-dessous, on constate qu'il y a encore des enregistrements pour lesquels la valeur de la CATEGORIE est en fait un exposé des faits.\n",
    "Par la suite, on efface ces faux enregistrements. "
   ]
  },
  {
   "cell_type": "code",
   "execution_count": 22,
   "metadata": {
    "scrolled": false
   },
   "outputs": [
    {
     "data": {
      "text/plain": [
       "['PIEGE - PIEGES SMS-GTM - 121  - Alarmes piège',\n",
       " 'FUITE - HOPITAL',\n",
       " 'PIEGE - PIEGES SMS-GTM - 129  - Alarmes piège',\n",
       " 'ALARME GTC  CHAUFFAGE-VENTILATION - ESPA - 192  - Alarmes bâtiment ESPA',\n",
       " 'ALARME MISE EN TEST - 420627 - MISTEST  - GRANDS MAGASINS MANOR - MAUS & CIE LAUSANNE (MAGASIN)',\n",
       " 'EPIZOOTIE - PANDEMIE',\n",
       " 'AR - ACCIDENT',\n",
       " 'ALARME - CONDUITE SPEN',\n",
       " 'AR - INCENDIE',\n",
       " 'COLLABORATION - FRANCO-SUISSE.  - DEMANDE FRANCAISE',\n",
       " 'ACCIDENT - DE TIR']"
      ]
     },
     "execution_count": 22,
     "metadata": {},
     "output_type": "execute_result"
    }
   ],
   "source": [
    "list(set_categories)[0:11]"
   ]
  },
  {
   "cell_type": "markdown",
   "metadata": {},
   "source": [
    "On veut éliminer les enregistrements dont la CATEGORIE ne commence pas directement par une majuscule.\n",
    "\n",
    "On stocke dans set_categories_to_delete les valeurs des fausses catégories."
   ]
  },
  {
   "cell_type": "code",
   "execution_count": 23,
   "metadata": {
    "scrolled": true
   },
   "outputs": [
    {
     "data": {
      "text/plain": [
       "{\" Des véhicules gênent l'accès.\",\n",
       " ' GOSENDE passera dès demain dans un poste.',\n",
       " ' Toute la journée',\n",
       " ' VD 216322 Citroën Berlingo blanche avec inscription Alvazzi. ',\n",
       " ' du 0337ème positif à domicile.',\n",
       " \" il lui a répondu que c'était pour la famille. Trouvait cela suspect, mais n'a pas pensé à nous appeler de suite.\",\n",
       " ' jogging) qui est parti avec un trottinnette direction Chauderon.',\n",
       " ' mi-trottoir en direction de la Maladière.',\n",
       " ' puis jets de bouteilles contre police.',\n",
       " ': homme, chauve, Lunette noires, veste cuire marron, sac à dos.'}"
      ]
     },
     "execution_count": 23,
     "metadata": {},
     "output_type": "execute_result"
    }
   ],
   "source": [
    "set_categories_to_delete = set(   filter(lambda x:not x[0].isupper(), set_categories)    )\n",
    "set_categories_to_delete"
   ]
  },
  {
   "cell_type": "markdown",
   "metadata": {},
   "source": [
    "On efface les enregistrements qui sont faux et on rénumérote les enregistrements après effacement.\n",
    "\n",
    "Attention: une même fausse catégorie peut apparaître pour plusieurs enregistrements => l'intérêt de la boucle for interne"
   ]
  },
  {
   "cell_type": "code",
   "execution_count": 24,
   "metadata": {},
   "outputs": [
    {
     "data": {
      "text/plain": [
       "RangeIndex(start=0, stop=158058, step=1)"
      ]
     },
     "execution_count": 24,
     "metadata": {},
     "output_type": "execute_result"
    }
   ],
   "source": [
    "for cat in set_categories_to_delete:\n",
    "    indices = efs.index[efs['CATEGORIE']==cat].tolist()\n",
    "    #print(indices)\n",
    "    for ind in indices:\n",
    "        #print(ind)\n",
    "        efs.drop(ind, inplace=True)\n",
    "efs.reset_index(inplace=True)\n",
    "efs.index"
   ]
  },
  {
   "cell_type": "markdown",
   "metadata": {},
   "source": [
    "Les nouvelles catégories restantes (donc justes)."
   ]
  },
  {
   "cell_type": "code",
   "execution_count": 25,
   "metadata": {},
   "outputs": [
    {
     "name": "stdout",
     "output_type": "stream",
     "text": [
      "421\n"
     ]
    }
   ],
   "source": [
    "categories = efs['CATEGORIE']\n",
    "#categories = efs.CATEGORIE\n",
    "set_categories = set(categories)\n",
    "print(len(set_categories))"
   ]
  },
  {
   "cell_type": "markdown",
   "metadata": {},
   "source": [
    "## Catégories comme nouveaux DataFrame"
   ]
  },
  {
   "cell_type": "markdown",
   "metadata": {},
   "source": [
    "On peut obtenir un nouveau DataFrame correspondant seulement aux enregistrements dont la CATEGORIE a une certaine valeur.\n",
    "\n",
    "On considère par exemple la catégorie d'indice 22."
   ]
  },
  {
   "cell_type": "code",
   "execution_count": 26,
   "metadata": {},
   "outputs": [
    {
     "data": {
      "text/plain": [
       "'MORT - NATURELLE'"
      ]
     },
     "execution_count": 26,
     "metadata": {},
     "output_type": "execute_result"
    }
   ],
   "source": [
    "l_categories = list(set_categories)\n",
    "l_categories[22]"
   ]
  },
  {
   "cell_type": "markdown",
   "metadata": {},
   "source": [
    "Les indices des enregistrements dans la DataFrame globale efs correspondant aux enregistrements dont la catégorie a une certaine valeur"
   ]
  },
  {
   "cell_type": "code",
   "execution_count": 27,
   "metadata": {},
   "outputs": [
    {
     "name": "stdout",
     "output_type": "stream",
     "text": [
      "286\n"
     ]
    },
    {
     "data": {
      "text/plain": [
       "[242, 801, 2120, 2365, 4132, 5695, 6757, 8216, 8284, 8505]"
      ]
     },
     "execution_count": 27,
     "metadata": {},
     "output_type": "execute_result"
    }
   ],
   "source": [
    "indices_22 = efs.index[efs['CATEGORIE']==l_categories[22]].tolist()\n",
    "print(len(indices_22))\n",
    "indices_22[0:10]"
   ]
  },
  {
   "cell_type": "markdown",
   "metadata": {},
   "source": [
    "Le nouveau DataFrame contenant seulement les enregistrements dont la CATEGORIE a une certaine valeur."
   ]
  },
  {
   "cell_type": "code",
   "execution_count": 28,
   "metadata": {
    "scrolled": true
   },
   "outputs": [
    {
     "name": "stdout",
     "output_type": "stream",
     "text": [
      "286\n"
     ]
    },
    {
     "data": {
      "text/html": [
       "<div>\n",
       "<style scoped>\n",
       "    .dataframe tbody tr th:only-of-type {\n",
       "        vertical-align: middle;\n",
       "    }\n",
       "\n",
       "    .dataframe tbody tr th {\n",
       "        vertical-align: top;\n",
       "    }\n",
       "\n",
       "    .dataframe thead th {\n",
       "        text-align: right;\n",
       "    }\n",
       "</style>\n",
       "<table border=\"1\" class=\"dataframe\">\n",
       "  <thead>\n",
       "    <tr style=\"text-align: right;\">\n",
       "      <th></th>\n",
       "      <th>index</th>\n",
       "      <th>EXPOSES</th>\n",
       "      <th>CATEGORIE</th>\n",
       "    </tr>\n",
       "  </thead>\n",
       "  <tbody>\n",
       "    <tr>\n",
       "      <th>242</th>\n",
       "      <td>242</td>\n",
       "      <td>Une femme d'un certain âge est tombée après êt...</td>\n",
       "      <td>MORT - NATURELLE</td>\n",
       "    </tr>\n",
       "    <tr>\n",
       "      <th>801</th>\n",
       "      <td>801</td>\n",
       "      <td>Dr Sellrath se trouve au domicile de Mme Ganty...</td>\n",
       "      <td>MORT - NATURELLE</td>\n",
       "    </tr>\n",
       "    <tr>\n",
       "      <th>2120</th>\n",
       "      <td>2120</td>\n",
       "      <td>Le docteur du cabinet MEDICAVO (au numéro 7) a...</td>\n",
       "      <td>MORT - NATURELLE</td>\n",
       "    </tr>\n",
       "  </tbody>\n",
       "</table>\n",
       "</div>"
      ],
      "text/plain": [
       "      index                                            EXPOSES  \\\n",
       "242     242  Une femme d'un certain âge est tombée après êt...   \n",
       "801     801  Dr Sellrath se trouve au domicile de Mme Ganty...   \n",
       "2120   2120  Le docteur du cabinet MEDICAVO (au numéro 7) a...   \n",
       "\n",
       "             CATEGORIE  \n",
       "242   MORT - NATURELLE  \n",
       "801   MORT - NATURELLE  \n",
       "2120  MORT - NATURELLE  "
      ]
     },
     "execution_count": 28,
     "metadata": {},
     "output_type": "execute_result"
    }
   ],
   "source": [
    "efs_categorie_22 = efs.loc[efs['CATEGORIE']==l_categories[22]]\n",
    "print(len(efs_categorie_22))\n",
    "efs_categorie_22.head(3)"
   ]
  },
  {
   "cell_type": "code",
   "execution_count": 29,
   "metadata": {},
   "outputs": [
    {
     "data": {
      "text/plain": [
       "pandas.core.series.Series"
      ]
     },
     "execution_count": 29,
     "metadata": {},
     "output_type": "execute_result"
    }
   ],
   "source": [
    "type(efs['CATEGORIE']==l_categories[22])"
   ]
  },
  {
   "cell_type": "code",
   "execution_count": 30,
   "metadata": {},
   "outputs": [
    {
     "data": {
      "text/html": [
       "<div>\n",
       "<style scoped>\n",
       "    .dataframe tbody tr th:only-of-type {\n",
       "        vertical-align: middle;\n",
       "    }\n",
       "\n",
       "    .dataframe tbody tr th {\n",
       "        vertical-align: top;\n",
       "    }\n",
       "\n",
       "    .dataframe thead th {\n",
       "        text-align: right;\n",
       "    }\n",
       "</style>\n",
       "<table border=\"1\" class=\"dataframe\">\n",
       "  <thead>\n",
       "    <tr style=\"text-align: right;\">\n",
       "      <th></th>\n",
       "      <th>EXPOSES</th>\n",
       "      <th>CATEGORIE</th>\n",
       "    </tr>\n",
       "  </thead>\n",
       "  <tbody>\n",
       "    <tr>\n",
       "      <th>242</th>\n",
       "      <td>Une femme d'un certain âge est tombée après êt...</td>\n",
       "      <td>MORT - NATURELLE</td>\n",
       "    </tr>\n",
       "    <tr>\n",
       "      <th>801</th>\n",
       "      <td>Dr Sellrath se trouve au domicile de Mme Ganty...</td>\n",
       "      <td>MORT - NATURELLE</td>\n",
       "    </tr>\n",
       "    <tr>\n",
       "      <th>2120</th>\n",
       "      <td>Le docteur du cabinet MEDICAVO (au numéro 7) a...</td>\n",
       "      <td>MORT - NATURELLE</td>\n",
       "    </tr>\n",
       "  </tbody>\n",
       "</table>\n",
       "</div>"
      ],
      "text/plain": [
       "                                                EXPOSES         CATEGORIE\n",
       "242   Une femme d'un certain âge est tombée après êt...  MORT - NATURELLE\n",
       "801   Dr Sellrath se trouve au domicile de Mme Ganty...  MORT - NATURELLE\n",
       "2120  Le docteur du cabinet MEDICAVO (au numéro 7) a...  MORT - NATURELLE"
      ]
     },
     "execution_count": 30,
     "metadata": {},
     "output_type": "execute_result"
    }
   ],
   "source": [
    "efs_categorie_22.drop(['index'], axis=1, inplace=True)\n",
    "efs_categorie_22.head(3)"
   ]
  },
  {
   "cell_type": "code",
   "execution_count": 31,
   "metadata": {},
   "outputs": [
    {
     "data": {
      "text/html": [
       "<div>\n",
       "<style scoped>\n",
       "    .dataframe tbody tr th:only-of-type {\n",
       "        vertical-align: middle;\n",
       "    }\n",
       "\n",
       "    .dataframe tbody tr th {\n",
       "        vertical-align: top;\n",
       "    }\n",
       "\n",
       "    .dataframe thead th {\n",
       "        text-align: right;\n",
       "    }\n",
       "</style>\n",
       "<table border=\"1\" class=\"dataframe\">\n",
       "  <thead>\n",
       "    <tr style=\"text-align: right;\">\n",
       "      <th></th>\n",
       "      <th>EXPOSES</th>\n",
       "      <th>CATEGORIE</th>\n",
       "    </tr>\n",
       "  </thead>\n",
       "  <tbody>\n",
       "    <tr>\n",
       "      <th>0</th>\n",
       "      <td>Une femme d'un certain âge est tombée après êt...</td>\n",
       "      <td>MORT - NATURELLE</td>\n",
       "    </tr>\n",
       "    <tr>\n",
       "      <th>1</th>\n",
       "      <td>Dr Sellrath se trouve au domicile de Mme Ganty...</td>\n",
       "      <td>MORT - NATURELLE</td>\n",
       "    </tr>\n",
       "    <tr>\n",
       "      <th>2</th>\n",
       "      <td>Le docteur du cabinet MEDICAVO (au numéro 7) a...</td>\n",
       "      <td>MORT - NATURELLE</td>\n",
       "    </tr>\n",
       "  </tbody>\n",
       "</table>\n",
       "</div>"
      ],
      "text/plain": [
       "                                             EXPOSES         CATEGORIE\n",
       "0  Une femme d'un certain âge est tombée après êt...  MORT - NATURELLE\n",
       "1  Dr Sellrath se trouve au domicile de Mme Ganty...  MORT - NATURELLE\n",
       "2  Le docteur du cabinet MEDICAVO (au numéro 7) a...  MORT - NATURELLE"
      ]
     },
     "execution_count": 31,
     "metadata": {},
     "output_type": "execute_result"
    }
   ],
   "source": [
    "efs_categorie_22.reset_index(inplace=True, drop=True)\n",
    "efs_categorie_22.head(3)"
   ]
  },
  {
   "cell_type": "code",
   "execution_count": 32,
   "metadata": {
    "scrolled": true
   },
   "outputs": [
    {
     "data": {
      "text/plain": [
       "['ABUS - DE CONFIANCE',\n",
       " 'ABUS - DU TELEPHONE',\n",
       " 'ACCIDENT',\n",
       " 'ACCIDENT - AVEC DES EXPLOSIFS',\n",
       " \"ACCIDENT - D'ASCENCEUR\"]"
      ]
     },
     "execution_count": 32,
     "metadata": {},
     "output_type": "execute_result"
    }
   ],
   "source": [
    "l_cat_tri = sorted(l_categories)\n",
    "l_cat_tri[:5]"
   ]
  },
  {
   "cell_type": "markdown",
   "metadata": {},
   "source": [
    "On crée une liste réduite de catégories qui seront utilisées par la suite, à savoir les catégories :\n",
    "- ACCIDENT\n",
    "- ACCIDENT - DE TRAVAIL\n",
    "- ACCIDENT - DE CIRCULATION - AVEC ANIMAUX\n",
    "- ACCIDENT - DE CIRCULATION - AVEC BLESSE\n",
    "- INONDATION"
   ]
  },
  {
   "cell_type": "code",
   "execution_count": 33,
   "metadata": {},
   "outputs": [],
   "source": [
    "categories_red = ['ACCIDENT', 'ACCIDENT - DE TRAVAIL', 'ACCIDENT - DE CIRCULATION - AVEC ANIMAL', \n",
    "                      'ACCIDENT - DE CIRCULATION - AVEC BLESSE', 'INONDATION']"
   ]
  },
  {
   "cell_type": "markdown",
   "metadata": {},
   "source": [
    "La variable efs_par_cat est une liste dont chaque élément est un DataFrame qui correspond à une certaine catégorie.\n",
    "\n",
    "Pour le cas général, il suffit de remplacer dans le for ci-dessous **categories_red** par **categories**."
   ]
  },
  {
   "cell_type": "code",
   "execution_count": 34,
   "metadata": {},
   "outputs": [
    {
     "name": "stdout",
     "output_type": "stream",
     "text": [
      "ACCIDENT   90\n",
      "ACCIDENT - DE TRAVAIL   426\n",
      "ACCIDENT - DE CIRCULATION - AVEC ANIMAL   1714\n",
      "ACCIDENT - DE CIRCULATION - AVEC BLESSE   1960\n",
      "INONDATION   476\n"
     ]
    }
   ],
   "source": [
    "efs_par_cat = []\n",
    "for cat in categories_red:\n",
    "    df = efs.query('CATEGORIE == @cat')\n",
    "    df.drop(['index'], axis=1, inplace=True)\n",
    "    df.reset_index(inplace=True, drop=True)\n",
    "    print(cat, ' ', len(df))\n",
    "    efs_par_cat.append(df)"
   ]
  },
  {
   "cell_type": "code",
   "execution_count": 35,
   "metadata": {},
   "outputs": [
    {
     "data": {
      "text/html": [
       "<div>\n",
       "<style scoped>\n",
       "    .dataframe tbody tr th:only-of-type {\n",
       "        vertical-align: middle;\n",
       "    }\n",
       "\n",
       "    .dataframe tbody tr th {\n",
       "        vertical-align: top;\n",
       "    }\n",
       "\n",
       "    .dataframe thead th {\n",
       "        text-align: right;\n",
       "    }\n",
       "</style>\n",
       "<table border=\"1\" class=\"dataframe\">\n",
       "  <thead>\n",
       "    <tr style=\"text-align: right;\">\n",
       "      <th></th>\n",
       "      <th>EXPOSES</th>\n",
       "      <th>CATEGORIE</th>\n",
       "    </tr>\n",
       "  </thead>\n",
       "  <tbody>\n",
       "    <tr>\n",
       "      <th>0</th>\n",
       "      <td>Une fille serait tombé au sol, saigne de la bo...</td>\n",
       "      <td>ACCIDENT</td>\n",
       "    </tr>\n",
       "    <tr>\n",
       "      <th>1</th>\n",
       "      <td>Une femme a été blessée par une tente qui s'es...</td>\n",
       "      <td>ACCIDENT</td>\n",
       "    </tr>\n",
       "    <tr>\n",
       "      <th>2</th>\n",
       "      <td>Une grue a cassé la ligne de contact des troll...</td>\n",
       "      <td>ACCIDENT</td>\n",
       "    </tr>\n",
       "  </tbody>\n",
       "</table>\n",
       "</div>"
      ],
      "text/plain": [
       "                                             EXPOSES CATEGORIE\n",
       "0  Une fille serait tombé au sol, saigne de la bo...  ACCIDENT\n",
       "1  Une femme a été blessée par une tente qui s'es...  ACCIDENT\n",
       "2  Une grue a cassé la ligne de contact des troll...  ACCIDENT"
      ]
     },
     "execution_count": 35,
     "metadata": {},
     "output_type": "execute_result"
    }
   ],
   "source": [
    "efs_par_cat[0].head(3)"
   ]
  },
  {
   "cell_type": "markdown",
   "metadata": {},
   "source": [
    "## Dictionnaire"
   ]
  },
  {
   "cell_type": "markdown",
   "metadata": {},
   "source": [
    "Par la suite, on va travailler avec un dictionnaire **dico** dont les éléments sont des couples où la clé est une catégorie et la valeur est une liste de strings correspondant aux exposés des faits associés à cette catégorie."
   ]
  },
  {
   "cell_type": "markdown",
   "metadata": {},
   "source": [
    "On crée d'abord une fonction qui affiche les **n_cats** premiers couples d'un dictionnaire et pour chaque couple affiche sa catégorie et les **n_expos** exposés des faits associés à cette catégorie."
   ]
  },
  {
   "cell_type": "code",
   "execution_count": 36,
   "metadata": {},
   "outputs": [],
   "source": [
    "# TODO : à vérifier et à améliorer\n",
    "def show(dictionnaire, n_cats, n_expos):\n",
    "    i=0\n",
    "    for cat,expos in dictionnaire.items():\n",
    "        j=0\n",
    "        print(cat,end='\\n***************\\n')\n",
    "        for expo in expos:\n",
    "            print(expo,end='\\n----------------\\n')\n",
    "            j+=1\n",
    "            if j == n_expos:\n",
    "                break \n",
    "        i+=1\n",
    "        if i == n_cats:\n",
    "            break"
   ]
  },
  {
   "cell_type": "markdown",
   "metadata": {},
   "source": [
    "On crée un **dictionnaire** qui a comme clés les catégories et comme valeurs une liste avec les exposés des faits correspondants (à chaque catégorie, on associe la liste avec ses exposés des faits).\n",
    "\n",
    "Pour le moment, la variable efs_par_cat contient seulement les DataFrame pour les 5 catégories qu'on utilise pour exemplifier notre démarche."
   ]
  },
  {
   "cell_type": "code",
   "execution_count": 37,
   "metadata": {},
   "outputs": [],
   "source": [
    "dico = {}\n",
    "for df in efs_par_cat:\n",
    "    #expos = list(data.query('CATEGORIE == @cat')['EXPOSES'].values)\n",
    "    #print(df['CATEGORIE'][0])\n",
    "    #print(type(list(df['EXPOSES'].values)))\n",
    "    dico[df['CATEGORIE'][0]] = list(df['EXPOSES'].values)"
   ]
  },
  {
   "cell_type": "code",
   "execution_count": 38,
   "metadata": {
    "scrolled": false
   },
   "outputs": [
    {
     "name": "stdout",
     "output_type": "stream",
     "text": [
      "ACCIDENT\n",
      "***************\n",
      "Une fille serait tombé au sol, saigne de la bouche. Pas plus de précisions. \n",
      "----------------\n",
      "Une femme a été blessée par une tente qui s'est envolée, ambulance sur place et acheminent la blessée à l'Hôpital de Montreux.\n",
      "----------------\n",
      "ACCIDENT - DE TRAVAIL\n",
      "***************\n",
      "Un homme fait une hémorragie au niveau d'un avant-bras. SMUR et ambulance engagés\n",
      "----------------\n",
      "1 chasse-neige a écrasé un piéton\n",
      "----------------\n",
      "ACCIDENT - DE CIRCULATION - AVEC ANIMAL\n",
      "***************\n",
      "1 auto & 1 cervidé, animal à priori \"DCD\" en bordure de route. La voiture Opel Corsa, blanche, VD454348, conduite par la concubine de l'informateur n'a pas de dommage et a quitté les lieux !\n",
      "----------------\n",
      "A heurté du gibier ce jour vers 0800, a mis la bête sur le côté et a avisé le garde-faune qui prendra la bête en charge. \n",
      "----------------\n",
      "ACCIDENT - DE CIRCULATION - AVEC BLESSE\n",
      "***************\n",
      "Accident auto VD-563'166  Audi Q3 blanc - auto VD-262'160. Informateur se plaint de douleur dorsale. Veut pas d'ambulance pour le moment. Pas de souci pour la circulation. 1834: Arrestation provisoire pour IQ\n",
      "----------------\n",
      "1 motard seul en cause - ambulance engagée\n",
      "----------------\n",
      "INONDATION\n",
      "***************\n",
      "Les pompiers interviennent pour une inondation et demande une ouverture forcée\n",
      "----------------\n",
      "Signale qu'un dispositif d'arrosage du terrain de foot va endommager le terrain de foot si personne ne l'arrête\n",
      "----------------\n"
     ]
    }
   ],
   "source": [
    "show(dico,5,2)"
   ]
  },
  {
   "cell_type": "markdown",
   "metadata": {},
   "source": [
    "**efs_par_cat_global** est une liste des DataFrame où chaque DataFrame a la même valeur pour la colonne catégorie"
   ]
  },
  {
   "cell_type": "code",
   "execution_count": 56,
   "metadata": {},
   "outputs": [
    {
     "name": "stdout",
     "output_type": "stream",
     "text": [
      "421\n"
     ]
    },
    {
     "data": {
      "text/html": [
       "<div>\n",
       "<style scoped>\n",
       "    .dataframe tbody tr th:only-of-type {\n",
       "        vertical-align: middle;\n",
       "    }\n",
       "\n",
       "    .dataframe tbody tr th {\n",
       "        vertical-align: top;\n",
       "    }\n",
       "\n",
       "    .dataframe thead th {\n",
       "        text-align: right;\n",
       "    }\n",
       "</style>\n",
       "<table border=\"1\" class=\"dataframe\">\n",
       "  <thead>\n",
       "    <tr style=\"text-align: right;\">\n",
       "      <th></th>\n",
       "      <th>EXPOSES</th>\n",
       "      <th>CATEGORIE</th>\n",
       "    </tr>\n",
       "  </thead>\n",
       "  <tbody>\n",
       "    <tr>\n",
       "      <th>0</th>\n",
       "      <td>5BF6B042-1456-40CB-8BA2-65CE454CA2C2</td>\n",
       "      <td>PIEGE - PIEGES SMS-GTM - 134  - Alarmes piège</td>\n",
       "    </tr>\n",
       "  </tbody>\n",
       "</table>\n",
       "</div>"
      ],
      "text/plain": [
       "                                EXPOSES  \\\n",
       "0  5BF6B042-1456-40CB-8BA2-65CE454CA2C2   \n",
       "\n",
       "                                       CATEGORIE  \n",
       "0  PIEGE - PIEGES SMS-GTM - 134  - Alarmes piège  "
      ]
     },
     "execution_count": 56,
     "metadata": {},
     "output_type": "execute_result"
    }
   ],
   "source": [
    "efs_par_cat_global = []\n",
    "for cat in set_categories:\n",
    "    df = efs.query('CATEGORIE == @cat')\n",
    "    df.drop(['index'], axis=1, inplace=True)\n",
    "    df.reset_index(inplace=True, drop=True)\n",
    "    efs_par_cat_global.append(df)\n",
    "print(len(efs_par_cat_global))    \n",
    "efs_par_cat_global[21][0:5]\n",
    "#efs_par_cat_global[21]\n",
    "#print(efs_par_cat_global)"
   ]
  },
  {
   "cell_type": "markdown",
   "metadata": {},
   "source": [
    "**dico_global** est un dictionnaire dont les clés sont les catégories distinctes et les valeurs des listes d'exposés associés à ces catégories "
   ]
  },
  {
   "cell_type": "code",
   "execution_count": 57,
   "metadata": {},
   "outputs": [
    {
     "name": "stdout",
     "output_type": "stream",
     "text": [
      "PIEGE - PIEGES SMS-GTM - 121  - Alarmes piège\n",
      "***************\n",
      "527FE30B-AE42-4B59-AB5F-2EBBDA191294\n",
      "----------------\n",
      "FUITE - HOPITAL\n",
      "***************\n",
      "Mme Odette Margot, Clair-Joly à Lutry (86 ans, cheveux noirs, queue de cheval à gauche, habillée en noir, chausson) a quitté L'Hôpital Nestlé. Lors du tél. elle a été récupérée à Victor-Ruffy 51 par un passant et amené à son domicile, 3ème étage, chez Poncelet.\n",
      "----------------\n",
      "Une patiente en décompensation (auto et hétéro agression) qui est partie du PLI vers 1700. Signalement: corpulence forte (90kg), chx bruns, peau claire, leggins blanc, haut foncé épaules dénudées. REARDON Marguerite (Margo) 24.06.1981 DAVEL 21 Lsne\n",
      "----------------\n",
      "PIEGE - PIEGES SMS-GTM - 129  - Alarmes piège\n",
      "***************\n",
      "EE774088-0087-48E2-90C7-A864571EE204\n",
      "----------------\n",
      "ALARME GTC  CHAUFFAGE-VENTILATION - ESPA - 192  - Alarmes bâtiment ESPA\n",
      "***************\n",
      "Alarme chauffage-ventilation\n",
      "----------------\n",
      "Alarme chauffage-ventilation\n",
      "----------------\n",
      "ALARME MISE EN TEST - 420627 - MISTEST  - GRANDS MAGASINS MANOR - MAUS & CIE LAUSANNE (MAGASIN)\n",
      "***************\n",
      "Mise en test jusqu'à 1800\n",
      "----------------\n",
      "-> 1600\n",
      "----------------\n"
     ]
    }
   ],
   "source": [
    "dico_global = {}\n",
    "for df in efs_par_cat_global:\n",
    "    dico_global[df['CATEGORIE'][0]] = list(df['EXPOSES'].values)\n",
    "show(dico_global,5,2)    "
   ]
  },
  {
   "cell_type": "markdown",
   "metadata": {},
   "source": [
    "**dico_categories_nb_expos** est un dictionnaire dont les clés sont les catégories et les valeurs les nombres d'exposés par catégories"
   ]
  },
  {
   "cell_type": "code",
   "execution_count": 41,
   "metadata": {},
   "outputs": [],
   "source": [
    "dico_categories_nb_expos = {}\n",
    "for key,value in dico_global.items():\n",
    "    #print(key, ' ', len(value))\n",
    "    dico_categories_nb_expos[key] = len(value)"
   ]
  },
  {
   "cell_type": "markdown",
   "metadata": {},
   "source": [
    "On peut afficher les catégories avec les nombres d'exposés associés à chacune d'entre elles en ordre croissant"
   ]
  },
  {
   "cell_type": "code",
   "execution_count": 42,
   "metadata": {},
   "outputs": [
    {
     "name": "stdout",
     "output_type": "stream",
     "text": [
      "DEMANDE - D'ASSISTANCE     17968\n",
      "TAPAGE NOCTURNE     7182\n",
      "ACCIDENT - DE CIRCULATION - DEGATS MATERIEL     7091\n",
      "ANIMAUX     6847\n",
      "VOL - PAR EFFRACTION     6657\n",
      "AR - DIVERS     5617\n",
      "INDIVIDU - SUSPECT     5261\n",
      "INFRACTION - LCR     5141\n",
      "INDIVIDU - PERTURBE     4727\n",
      "AR - PANNE - VEHICULE     3318\n",
      "OPERATION     3149\n",
      "DOMMAGES - A LA PROPRIETE     2867\n",
      "APPREHENSION / ARRESTATION     2510\n",
      "BAGARRE     2496\n",
      "CIRCULATION - ROUTIERE     2447\n",
      "AR - ACCIDENT     2337\n",
      "REVOCATION     2317\n",
      "LITIGE     2296\n",
      "MINEUR - IMPLIQUE     2287\n",
      "INDESIRABLE     2265\n",
      "ACCIDENT - DE CIRCULATION - AVEC FUITE     2213\n",
      "VEHICULE - SUSPECT     2199\n",
      "INCENDIE     2085\n",
      "ACCIDENT - DE CIRCULATION - AVEC BLESSE     1960\n",
      "VOL     1918\n",
      "DROGUE     1813\n",
      "ACCIDENT - DE CIRCULATION - AVEC ANIMAL     1714\n",
      "DEMANDE - D'AMBULANCE     1662\n",
      "VOL - A L'ETALAGE     1611\n",
      "FUITE - D'UN LIEU DE PLACEMENT     1466\n",
      "VIOLENCE - DOMESTIQUE     1437\n",
      "TENTATIVE     1369\n",
      "COLLABORATION - INTERPOLICE     1340\n",
      "DEMANDE - IDENTIFICATION     1262\n",
      "VEHICULE     1164\n",
      "TROUBLE - DE LA TRANQUILLITE / NUISANCE     1144\n",
      "BRUIT     1067\n",
      "DANGER     988\n",
      "VOIES DE FAIT     947\n",
      "INDIVIDU - RECHERCHE     869\n",
      "ESCORTE     807\n",
      "DISPARITION     797\n",
      "FUITE - D'UN HOPITAL PSY     782\n",
      "DEMANDE - AMBULANCE     765\n",
      "POLLUTION - HYDROCARBURES     719\n",
      "DEMANDE - DE CANTONNIERS     709\n",
      "OBJETS - TROUVES     673\n",
      "INQUIETUDE - POUR UNE PERSONNE     669\n",
      "MENACES     624\n",
      "IDENTIFICATION     615\n",
      "TRANSPORT - SPECIAL     609\n",
      "VOL - PAR INTRODUCTION CLANDESTINE     591\n",
      "SCANDALE     579\n",
      "INFRACTION - LETR     553\n",
      "MOEURS     536\n",
      "ALARME - EFFRACTION     529\n",
      "INFORMATION     523\n",
      "MORT - SUSPECTE     516\n",
      "INTEMPERIE     516\n",
      "SIGNALISATION - ROUTIERE     515\n",
      "SIGNALISATION ROUTIERE - FOURNITURE - PANNE     496\n",
      "NAVIGATEUR EN DIFFICULTE     479\n",
      "INONDATION     476\n",
      "VOL - D'USAGE     474\n",
      "ARMES     470\n",
      "CAMBRIOLEUR A L'OEUVRE     445\n",
      "OPERATION - SPECIALE     438\n",
      "MANIFESTATION     438\n",
      "ACCIDENT - DE TRAVAIL     426\n",
      "OBJETS - SUSPECTS     402\n",
      "VIOLATION - DE DOMICILE     390\n",
      "IVRESSE     388\n",
      "INFRACTION - REGLEMENTS COMMUNAUX     372\n",
      "ACTIONS - SUBSEQUENTES     354\n",
      "AR - CHANTIER     351\n",
      "INTERPELLATION / ARRESTATION - APPREHENSION     343\n",
      "DIFFUSION - SIGNALEMENT     340\n",
      "AR - PANNE - TECHNIQUE     339\n",
      "DISPARITION - PERSONNE - A RISQUE     331\n",
      "AGRESSION - BRIGANDAGE     303\n",
      "MORT - NATURELLE     286\n",
      "CONTROLE A DOMICILE     278\n",
      "SUICIDE     267\n",
      "ALARME     264\n",
      "MENDICITE - COLLECTE     263\n",
      "LAC     259\n",
      "INFORMATION - COMPLEMENTAIRE     257\n",
      "REQUERANT D'ASILE     256\n",
      "AR - ALARME     256\n",
      "IMPORTATION - JEP     242\n",
      "PANNE - VEHICULE     241\n",
      "DISPARITION - D'ENFANT     240\n",
      "DISPARITION - ENFANT     237\n",
      "FAUSSE - MONNAIE     235\n",
      "PANNE - TECHNIQUE     234\n",
      "CHUTE - A DOMICILE     228\n",
      "LESIONS - CORPORELLES     212\n",
      "COMMUNIQUE - DE SERVICE     202\n",
      "VOL - A L'ASTUCE     202\n",
      "ODEUR - SUSPECTE     194\n",
      "MENDICITE     181\n",
      "POLLUTION     174\n",
      "PERTURBATION - TRAFIC     157\n",
      "SUICIDE - PAR EXIT     157\n",
      "OPERATION - GITANA     156\n",
      "ELECTRICITE     154\n",
      "VOL - A LA TIRE     150\n",
      "ESCROQUERIE     146\n",
      "FEUX A ECLIPSES - 45 TOURS     144\n",
      "INFRACTION - RGP     143\n",
      "TRANSFERT     140\n",
      "TRANSFERT - SECURISE - PERSONNES/PATIENTS     140\n",
      "DISPARITION - PERSONNE - AGEE     136\n",
      "ISSUE FATALE     135\n",
      "ACCIDENT - DE SPORT / LOISIRS     128\n",
      "COUPS DE FEU     119\n",
      "OBJETS - PERDUS     116\n",
      "FONCTIONNAIRE - IMPLIQUE     111\n",
      "CET - (Message réservé au CET)     108\n",
      "GRAFFITIS     104\n",
      "COFFRE-FORT     104\n",
      "SUICIDE - TENTATIVE     102\n",
      "FUITE - HOPITAL     100\n",
      "OPERATION - BO     100\n",
      "LOCAUX OUVERTS     100\n",
      "EXERCICE     99\n",
      "FUITE - CERY     95\n",
      "VOL - A L'ARRACHE     91\n",
      "ACCIDENT     90\n",
      "AVIS - METEO - LAC     90\n",
      "MUNITION / EXPLOSIF     86\n",
      "RUPTURE - CONDUITE EAU     84\n",
      "AGRESSION - SEXUELLE     83\n",
      "OPERATION - STRADA     82\n",
      "FUITE     82\n",
      "VIP     79\n",
      "AR - INCENDIE     74\n",
      "RECHERCHE - EN MONTAGNE     74\n",
      "DARD - UAT - ENGAGEMENT     73\n",
      "CHUTE - D'UN LIEU ELEVE     68\n",
      "VIOLENCE - CONTRE FONCTIONNAIRES     68\n",
      "DISPARITION - PERSONNE AGEE     67\n",
      "OUVERTURE FORCEE     66\n",
      "AVIATION - CIVILE     66\n",
      "EBLOUISSEMENT - LASER     65\n",
      "CHUTE - EN RUE     63\n",
      "ABUS - DU TELEPHONE     63\n",
      "DROIT GARDE ENFANT     60\n",
      "FILOUTERIE D'AUBERGE     58\n",
      "FALSIFICATION - DE DOCUMENTS     51\n",
      "GAZ     50\n",
      "PERMIS - SAISI     49\n",
      "OBTENTION FRAUDULEUSE D'UNE PRESTATION     47\n",
      "ACCIDENT - DE CIRCULATION - MORTEL     47\n",
      "ALARME EFFRACTION - 420627 - 11  - GRANDS MAGASINS MANOR - MAUS & CIE LAUSANNE (MAGASIN)     46\n",
      "COLPORTAGE     45\n",
      "ALARME - PIEGE     45\n",
      "MAUVAIS TRAITEMENT - ENFANT     40\n",
      "AR - CONTRESENS     40\n",
      "ALARME GTC URGENT - ESPA - 148  - Alarmes bâtiment ESPA     39\n",
      "ALARME - AGRESSION     39\n",
      "EVASION     37\n",
      "ACCIDENT - DE SKI     36\n",
      "DANGERS     36\n",
      "ACCIDENT - DE BAIN / NOYADE     35\n",
      "GRAND RISQUE - METEO     34\n",
      "ACCIDENT - DE NAVIGATION / NAUFRAGE     33\n",
      "ACCIDENT - PARACHUTE / PARAPENTE / AILE DELTA     30\n",
      "PANNE - SAE     30\n",
      "MILITAIRE - IMPLIQUE     30\n",
      "MEURTRE     29\n",
      "ACCIDENT - DE NAVIGATION / NAUFRAGE - NAVIGATEUR EN DIFFICULTE     27\n",
      "MISE EN DANGER DE LA VIE D'AUTRUI     27\n",
      "GRIPPE - AVIAIRE     27\n",
      "MANIFESTATION - SPONTANEE     26\n",
      "CHUTE - OBJET     26\n",
      "ALARME AGRESSION - 421473 - 1  - ALARME TEST CAE - NE PAS INTERVENIR     25\n",
      "OPERATION - AZUR     25\n",
      "ALARME EFFRACTION - 421796 - 1  - BUCHERER S.A. - SUCCURSALE DE LAUSANNE (BIJOUTERIE)     24\n",
      "FORCENE     23\n",
      "ACCIDENT - DE MONTAGNE     23\n",
      "POLLUTION - CHIMIQUE     22\n",
      "ACCIDENT - PERSONNE - TRAIN     22\n",
      "PIEGE - PIEGES SMS-GTM - 130  - Alarmes piège     21\n",
      "EBOULEMENT     21\n",
      "ALARME EFFRACTION - 421993 - 1  - BANQUE COOP S.A. (BANQUE)     21\n",
      "TERRORISME     21\n",
      "CHUTE - ARBRE     20\n",
      "COLLABORATION - FRANCO-SUISSE.  - DEMANDE FRANCAISE     19\n",
      "EXPLOSION     19\n",
      "ACTES - PERPARATOIRES     19\n",
      "COLIS - OBJET - SUSPECT     18\n",
      "SEQUESTRATION     18\n",
      "ABUS - DE CONFIANCE     18\n",
      "IDENTIFICATION - LOCALISATION - NATEL SCPT     17\n",
      "DELIT - INFORMATIQUE     17\n",
      "VOL - AU RENDEZ-MOI     16\n",
      "ENLEVEMENT     16\n",
      "PANNE - SAGA     15\n",
      "ACCIDENT - D'AVIATION - CIVILE     15\n",
      "HOLD-UP     15\n",
      "DISPARITION - SUR LE LAC     15\n",
      "ALARME - GTC - CHAUFFAGE-VENTILATION-CLIMATISATION     14\n",
      "ALARME EFFRACTION - 421968 - 1  - BCGE PRIVATE BANKING SWITZERLAND (BANQUE)     14\n",
      "ALARME - TECHNIQUE     14\n",
      "NEIGE     14\n",
      "ENLEVEMENT - D'ENFANT     13\n",
      "ALARME - GTC - ASCENSEURS     13\n",
      "ALARME EFFRACTION - 421250 - 2  - FONDATION DE L'HERMITAGE     13\n",
      "DELIT - DE CHASSE     13\n",
      "TREMBLEMENT DE TERRE     12\n",
      "ALARME - FEU     12\n",
      "DEPANNAGE - DOMAINE PRIVE - AVIS     11\n",
      "EVENEMENT - CONSEQUENT     11\n",
      "ALARME - A LA BOMBE     11\n",
      "EXERCICE - PLANIFIE     11\n",
      "PIEGE - PIEGES SMS-GTM - 125  - Alarmes piège     11\n",
      "ALARME - ESPA - 28  - Alarmes bâtiment ESPA     11\n",
      "ALARME EFFRACTION - 420608 - 1  - Administration communale - BUREAU DES FINANCES (ADM.COMMUNALE)     11\n",
      "ALARME MISE EN TEST - 421798 - MISTEST  - BANQUE CANTONALE VAUDOISE (BANQUE)     11\n",
      "EPIZOOTIE - PANDEMIE     10\n",
      "ACCIDENT - D'ASCENCEUR     10\n",
      "ALARME MISE EN TEST - 421250 - MISTEST  - FONDATION DE L'HERMITAGE     10\n",
      "CHUTE - DE PIERRES     10\n",
      "PANNE - TELEPHONE     10\n",
      "CONTROLE - CHANTIER     10\n",
      "SEUIL BAS     9\n",
      "PANNE - INFORMATIQUE - SAGA     9\n",
      "FUITE - DU UHPA     9\n",
      "AGRESSION     9\n",
      "OPERATION - DELESTA     9\n",
      "ALARME MISE EN TEST - 421250 - MISTEST  - FONDATION DE L'HERMITAGE (MUSEE)     8\n",
      "ACCIDENT - DE TRAIN     8\n",
      "PANNE - TELEPHONE - SAGA     8\n",
      "ACCIDENT - DE PLONGEE     8\n",
      "GITANA     8\n",
      "CHANTAGE / - EXTORTION     8\n",
      "ALARME - ESPA - 30  - Alarmes bâtiment ESPA     8\n",
      "EVASION - NON RENTRE DE CONGE     8\n",
      "INJURES     8\n",
      "DISPOSITIF - D31     8\n",
      "ALARME MISE EN TEST - 421577 - MISTEST  - BUREAU DE LA FEDPOL - 3EME ETAGE (ADM. FEDERALE)     8\n",
      "ALARME - SECUTEL     7\n",
      "ALARME EFFRACTION - 421818 - 1  - BANQUE WIR (BANQUE)     7\n",
      "CHUTE - DE PIERRES - EBOULEMENT     7\n",
      "ACCIDENT - D'ASCENSEUR     7\n",
      "ALARME EFFRACTION - 421250 - 4  - FONDATION DE L'HERMITAGE (MUSEE)     7\n",
      "RECEL     7\n",
      "ALARME EFFRACTION - 421250 - 2  - FONDATION DE L'HERMITAGE (MUSEE)     7\n",
      "ALARME MISE EN TEST - 420627 - MISTEST  - GRANDS MAGASINS MANOR - MAUS & CIE LAUSANNE (MAGASIN)     6\n",
      "REQUERANT D'ASILE - DEMANDE D'ASILE     6\n",
      "POLYALERT - FAUSSE ALARME     6\n",
      "CONTROLE CIRCULATION     6\n",
      "ALARME - GTC - INCENDIE     6\n",
      "PIEGE - PIEGES SMS-GTM - 142  - Alarmes piège     6\n",
      "ALARME PIEGE - PIEGES PML - CRITERE PGR21  - PGR     6\n",
      "OSSEMENTS - DECOUVERTS     6\n",
      "SANS ABRI     6\n",
      "PRISE D'OTAGES     6\n",
      "OPERATION - BPS     6\n",
      "ALARME MISE EN TEST - 421796 - MISTEST  - BUCHERER S.A. - SUCCURSALE DE LAUSANNE (BIJOUTERIE)     5\n",
      "AVIATION - MILITAIRE     5\n",
      "FUITE - DU UHPA-CTJA     5\n",
      "ALARME EFFRACTION - 351528 - 1  - Banque Cramer      5\n",
      "ALARME MISE EN TEST - 421137 - MISTEST  - Monsieur Periclès-Paul PETALAS (VILLA)     5\n",
      "ALARME MISE EN TEST - 421993 - MISTEST  - BANQUE COOP S.A. (BANQUE)     5\n",
      "DELIT - DE PECHE     5\n",
      "ALARME AGRESSION - 421796 - 2  - BUCHERER S.A. - SUCCURSALE DE LAUSANNE (BIJOUTERIE)     5\n",
      "COLLABORATION - FRANCO-SUISSE.  - DEMANDE VAUDOISE     5\n",
      "OPERATION - GIRO - EXTERIEURE     5\n",
      "ALARME AGRESSION - 420268 - 8  - PMU - Bugnon Est     5\n",
      "AVALANCHE     5\n",
      "PIEGE - PIEGES SMS-GTM - 141  - Alarmes piège     5\n",
      "ALARME EFFRACTION - 421250 - 4  - FONDATION DE L'HERMITAGE     5\n",
      "INTOXICATION     5\n",
      "ALARME EFFRACTION - 421897 - 1  - SERVICES INDUSTRIELS (ADM. COMMUNALE)     5\n",
      "FUITE - DU CAV     4\n",
      "GIRO     4\n",
      "ALARME - ESPA - 27  - Alarmes bâtiment ESPA     4\n",
      "PANNE - TUSNET     4\n",
      "ALARME AGRESSION - ESPA - 103  - Alarmes bâtiment ESPA     4\n",
      "ALARME AGRESSION - 421473 - 8  - ALARME TEST CAE - NE PAS INTERVENIR     4\n",
      "CHUTE - LIGNE ELECTRIQUE     4\n",
      "TAUDIS     4\n",
      "DIFFAMATION     4\n",
      "OPERATION - ID     4\n",
      "GRAND RISQUE - LAC LEMAN     4\n",
      "ALARME AGRESSION - 421473 - 2  - ALARME TEST CAE - NE PAS INTERVENIR     4\n",
      "ALARME MISE EN TEST - 351528 - MISTEST  - Banque Cramer      3\n",
      "ELECTROCUTION     3\n",
      "ALARME MISE EN TEST - 420610 - MISTEST  - VILLE DE LAUSANNE - SERVICE DES GERANCES (PARKING)     3\n",
      "IDENTIFICATION - RACCORDEMENT TELEPHONIQUE     3\n",
      "ALARME EFFRACTION - 421137 - 1  - Monsieur Periclès-Paul PETALAS (VILLA)     3\n",
      "ALARME - PRISE D'OTAGES     3\n",
      "ALERTE - ENLEVEMENT     3\n",
      "ACCIDENT - EN RIVIERE     3\n",
      "PERTURBATION - RADIO     3\n",
      "ALARME - GTC - LIAISON SERIELLE     3\n",
      "EPIZOOTIE     3\n",
      "OPERATION - JOMA     3\n",
      "PIEGE - PIEGES SMS-GTM - 131  - Alarmes piège     3\n",
      "ALARME - GTC - AGRESSION     3\n",
      "ALARME PRISE OTAGE - 421473 - 3  - ALARME TEST CAE - NE PAS INTERVENIR     3\n",
      "ALARME MISE EN TEST - 420608 - MISTEST  - Administration communale - BUREAU DES FINANCES (ADM.COMMUNALE)     3\n",
      "GRAND RISQUE - CANICULE     3\n",
      "PIEGE - PIEGES SMS-GTM - 124  - Alarmes piège     3\n",
      "TRANSPORT - DE VALEUR     3\n",
      "PIEGE - PIEGES SMS-GTM - 150  - Alarmes piège     3\n",
      "MALADIE - TRANSMISSIBLE     3\n",
      "PIEGE - PIEGES SMS-GTM - 136  - Alarmes piège     3\n",
      "ALARME EFFRACTION - 420610 - 2  - VILLE DE LAUSANNE - SERVICE DES GERANCES (PARKING)     3\n",
      "ALARME AGRESSION - 351522 - 7  - CHUV direction des constructions ingénierie et technique     3\n",
      "ALARME PRISE OTAGE - 421796 - 3  - BUCHERER S.A. - SUCCURSALE DE LAUSANNE (BIJOUTERIE)     3\n",
      "ALARME GTC  CHAUFFAGE-VENTILATION - ESPA - 192  - Alarmes bâtiment ESPA     2\n",
      "PIEGE - PIEGES SMS-GTM - 135  - Alarmes piège     2\n",
      "ACCIDENT - AVEC DES EXPLOSIFS     2\n",
      "RECHERCHE - ALARME - VAUD     2\n",
      "ALARME PIEGE - PIEGES PML - CRITERE PGR24  - PGR     2\n",
      "ALARME MISE EN TEST - 611611 - 611611 MISTEST  - DOSSIER FORMATION CAE     2\n",
      "ALARME MISE EN TEST - 421818 - MISTEST  - BANQUE WIR (BANQUE)     2\n",
      "ALARME AGRESSION - 351528 - 2  - Banque Cramer      2\n",
      "ALARME AGRESSION - 420686 - 2  - LAUSANNE-PALACE S.A. (HÔTEL)     2\n",
      "ACCIDENT - NOMBREUX BLESSES     2\n",
      "FEUX A ECLIPSES - 90 TOURS     2\n",
      "EVASION - DES EPO     2\n",
      "ALARME - ESPA - 26  - Alarmes bâtiment ESPA     2\n",
      "ALARME GTC INCENDIE - ESPA - 131  - Alarmes bâtiment ESPA     2\n",
      "PLAN - RENONCIATION - CET     2\n",
      "RECHERCHE - ALARME - CONFEDEREE     2\n",
      "ALARME PIEGE - PIEGES PML - CRITERE PGR22  - PGR     2\n",
      "PLAN - TRANSFRONTALIER     2\n",
      "ACCIDENT - PERSONNE     2\n",
      "PIEGE - PIEGES SMS-GTM - 127  - Alarmes piège     2\n",
      "ALARME PIEGE - PIEGES PML - CRITERE PGR17  - PGR     2\n",
      "ALARME GTC INCENDIE - ESPA - 134  - Alarmes bâtiment ESPA     2\n",
      "ORCA     2\n",
      "PIEGE - PIEGES SMS-GTM - 123_TEST  - Alarmes piège     2\n",
      "ALARME AGRESSION - 421802 - 2  - SECURITAS S.A. - CERTAS - SECURITAS DIRECT S.A.     2\n",
      "ALARME AGRESSION - 421473 - 4  - ALARME TEST CAE - NE PAS INTERVENIR     2\n",
      "ALARME GTC ASCENSEUR - ESPA - 115  - Alarmes bâtiment ESPA     2\n",
      "ALARME EFFRACTION - 611611 - 611611 K01  - DOSSIER FORMATION CAE     2\n",
      "BLANCHIMENT - ARGENT SALE     2\n",
      "ACCIDENT - DE CHASSE     2\n",
      "ALARME MISE EN TEST - 421968 - MISTEST  - BCGE PRIVATE BANKING SWITZERLAND (BANQUE)     2\n",
      "ALARME - RADIOACTIVITE     2\n",
      "EXPORT - INTER - AGENCES     2\n",
      "AMOK     2\n",
      "PIEGE - PIEGES SMS-GTM - 132  - Alarmes piège     2\n",
      "ATTENTAT     2\n",
      "PIEGE - PIEGES SMS-GTM - 141_TEST  - Alarmes piège     2\n",
      "ALARME AGRESSION - 421798 - 2  - BANQUE CANTONALE VAUDOISE (BANQUE)     2\n",
      "OVNI     2\n",
      "PIEGE - PIEGES SMS-GTM - 121  - Alarmes piège     1\n",
      "PIEGE - PIEGES SMS-GTM - 129  - Alarmes piège     1\n",
      "ALARME - CONDUITE SPEN     1\n",
      "ACCIDENT - DE TIR     1\n",
      "DEGATS - A LA FLORE     1\n",
      "ALARME GTC INCENDIE - ESPA - 137  - Alarmes bâtiment ESPA     1\n",
      "PIEGE - PIEGES SMS-GTM - 134  - Alarmes piège     1\n",
      "REQUERANT D'ASILE - ACTES HOSTILES     1\n",
      "PIEGE - PIEGES SMS-GTM - 124_TEST  - Alarmes piège     1\n",
      "HANDICAP     1\n",
      "ALARME PRISE OTAGE - 420608 - 3  - Administration communale - BUREAU DES FINANCES (ADM.COMMUNALE)     1\n",
      "ALARME - GTC - TELEPHONES     1\n",
      "COLLABORATION - LEMANIQUE     1\n",
      "PIEGE - PIEGES SMS-GTM - 140  - Alarmes piège     1\n",
      "ALARME PIEGE - PIEGES PML - CRITERE PGR16  - PGR     1\n",
      "ALARME - GTC - RESEAU ELECTRIQUE     1\n",
      "ALARME GTC URGENT - ESPA - 147  - Alarmes bâtiment ESPA     1\n",
      "EVASION - ASSISTANCE     1\n",
      "ALARME - 420510 - 1  - 420510 CERTAS     1\n",
      "DISPARITION - MILITAIRE     1\n",
      "ALARME AGRESSION - 421993 - 2  - BANQUE COOP S.A. (BANQUE)     1\n",
      "PIEGE - PIEGES SMS-GTM - 149  - Alarmes piège     1\n",
      "MUTINERIE / EMEUTE     1\n",
      "ALARME GTC INCENDIE - ESPA - 191  - Alarmes bâtiment ESPA     1\n",
      "CONTROLE A RISQUE     1\n",
      "ALARME AGRESSION - 421798 - 1  - BANQUE CANTONALE VAUDOISE (BANQUE)     1\n",
      "ALARME - BIJOUTERIE     1\n",
      "OPERATION - CARBURA - VAUD     1\n",
      "ALARME GTC  CHAUFFAGE-VENTILATION - ESPA - 105  - Alarmes bâtiment ESPA     1\n",
      "EFFONDREMENT     1\n",
      "DEGATS - A LA FAUNE     1\n",
      "ALARME PRISE OTAGE - 420221 - 3  - BANQUE PRIVEE EDMOND DE ROTHSCHILD SA     1\n",
      "ALARME MISE EN TEST - 421897 - MISTEST  - SERVICES INDUSTRIELS (ADM. COMMUNALE)     1\n",
      "PIEGE - PIEGES SMS-GTM - 126  - Alarmes piège     1\n",
      "ALARME AGRESSION - 421802 - 1  - SECURITAS S.A. - CERTAS - SECURITAS DIRECT S.A.     1\n",
      "PIEGE - PIEGES SMS-GTM - 130_TEST  - Alarmes piège     1\n",
      "FAUSSE - ALERTE     1\n",
      "REQUERANT D'ASILE - SIGNALE / REFUS DE DEPART     1\n",
      "ALARME - REELLE     1\n",
      "PIEGE - PIEGES SMS-GTM - 132_TEST  - Alarmes piège     1\n",
      "ALARME AGRESSION - 421250 - 10  - FONDATION DE L'HERMITAGE     1\n",
      "PIEGE - PIEGES SMS-GTM - 145  - Alarmes piège     1\n",
      "MALADIE - INFECTIEUSE     1\n",
      "REQUERANT D'ASILE - - MANIFESTATION     1\n",
      "EVASION - LORS D'UN TRANSFERT     1\n",
      "ALARME AGRESSION - 421818 - 2  - BANQUE WIR (BANQUE)     1\n",
      "ALARME MISE EN TEST - 421802 - MISTEST K02  - SECURITAS S.A. - CERTAS - SECURITAS DIRECT S.A.     1\n",
      "ALARME GTC  CHAUFFAGE-VENTILATION - ESPA - 2  - Alarmes bâtiment ESPA     1\n",
      "ALARME - MALFAITEUR     1\n",
      "GRAND RISQUE - TUNNEL MONT D'OR     1\n",
      "DANGER - D'AVALANCHE     1\n",
      "ETAT MAJOR - DE CONDUITE     1\n",
      "ALARME GTC INCENDIE - ESPA - 36  - Alarmes bâtiment ESPA     1\n",
      "PIEGE - PIEGES SMS-GTM - 111  - Alarmes piège     1\n",
      "ALARME - 270037 - 2  - 270037 CERTAS     1\n",
      "OPERATION - GIRO - VAUD     1\n",
      "D31     1\n",
      "PIEGE - PIEGES SMS-GTM - 123  - Alarmes piège     1\n",
      "TERO     1\n",
      "ALARME PRISE OTAGE - 421793 - 3  - FREDY SADIK S.A. - BIJOUTERIE (COMMERCE)     1\n",
      "ENTRAIDE - JUDICIAIRE     1\n",
      "INDUCTION DE LA JUSTICE EN ERREUR     1\n",
      "ALARME MISE EN TEST - 420616 - MISTEST  - GLOBUS (MAGASIN)     1\n",
      "REQUERANT D'ASILE - - DECEDE     1\n",
      "ALARME PIEGE - PIEGES PML - CRITERE PGR25  - PGR     1\n",
      "ALARME EFFRACTION - 421968 - 4  - BCGE PRIVATE BANKING SWITZERLAND (BANQUE)     1\n",
      "FALSIFICATION - DE MARCHANDISE     1\n",
      "GRAND RISQUE - CRUE     1\n",
      "ALARME EFFRACTION - 420503 - 1  - Piscine de Mon-Repos (Piscine)     1\n"
     ]
    }
   ],
   "source": [
    "for key,value in sorted(dico_categories_nb_expos.items(), key=operator.itemgetter(1), reverse=True):\n",
    "    print(key,'   ', value)"
   ]
  },
  {
   "cell_type": "markdown",
   "metadata": {},
   "source": [
    "On peut afficher les catégories avec les nombres d'exposés associés qui se trouvent dans une plage donnée "
   ]
  },
  {
   "cell_type": "code",
   "execution_count": 62,
   "metadata": {},
   "outputs": [
    {
     "name": "stdout",
     "output_type": "stream",
     "text": [
      "DEMANDE - D'ASSISTANCE     17968\n",
      "TAPAGE NOCTURNE     7182\n",
      "ACCIDENT - DE CIRCULATION - DEGATS MATERIEL     7091\n",
      "ANIMAUX     6847\n",
      "VOL - PAR EFFRACTION     6657\n",
      "AR - DIVERS     5617\n",
      "INDIVIDU - SUSPECT     5261\n",
      "INFRACTION - LCR     5141\n",
      "INDIVIDU - PERTURBE     4727\n",
      "AR - PANNE - VEHICULE     3318\n",
      "OPERATION     3149\n",
      "DOMMAGES - A LA PROPRIETE     2867\n",
      "APPREHENSION / ARRESTATION     2510\n",
      "BAGARRE     2496\n",
      "CIRCULATION - ROUTIERE     2447\n",
      "AR - ACCIDENT     2337\n",
      "REVOCATION     2317\n",
      "LITIGE     2296\n",
      "MINEUR - IMPLIQUE     2287\n",
      "INDESIRABLE     2265\n",
      "ACCIDENT - DE CIRCULATION - AVEC FUITE     2213\n",
      "VEHICULE - SUSPECT     2199\n",
      "INCENDIE     2085\n",
      "ACCIDENT - DE CIRCULATION - AVEC BLESSE     1960\n",
      "VOL     1918\n",
      "DROGUE     1813\n",
      "ACCIDENT - DE CIRCULATION - AVEC ANIMAL     1714\n",
      "DEMANDE - D'AMBULANCE     1662\n",
      "VOL - A L'ETALAGE     1611\n",
      "FUITE - D'UN LIEU DE PLACEMENT     1466\n",
      "VIOLENCE - DOMESTIQUE     1437\n",
      "TENTATIVE     1369\n",
      "COLLABORATION - INTERPOLICE     1340\n",
      "DEMANDE - IDENTIFICATION     1262\n",
      "VEHICULE     1164\n",
      "TROUBLE - DE LA TRANQUILLITE / NUISANCE     1144\n",
      "BRUIT     1067\n",
      "Nombre catégories dans la plage :  37\n",
      "Nombre total d'exposés dans la plage :  122204\n"
     ]
    }
   ],
   "source": [
    "nb_cats = 0\n",
    "val_min = 1000\n",
    "val_max = 100000\n",
    "nb_expos_tot = 0\n",
    "for key,value in sorted(dico_categories_nb_expos.items(), key=operator.itemgetter(1), reverse=True):\n",
    "    if value >= val_min and value <= val_max:  \n",
    "        print(key,'   ', value)\n",
    "        nb_cats+=1\n",
    "        nb_expos_tot+=value\n",
    "print('Nombre catégories dans la plage : ', nb_cats)\n",
    "print('Nombre total d\\'exposés dans la plage : ', nb_expos_tot)"
   ]
  },
  {
   "cell_type": "markdown",
   "metadata": {},
   "source": [
    "**main_dico** est un dictionnaire dont les clés sont les catégories distinctes **avec, par exemple, plus de 1000 exposés associés** et les valeurs sont des listes d'exposés associés à ces catégories\n",
    "\n",
    "**l_main_cats** est une liste avec les catégories principales, i.e. avec par exemple plus de 1000 exposés associés"
   ]
  },
  {
   "cell_type": "code",
   "execution_count": 73,
   "metadata": {},
   "outputs": [
    {
     "name": "stdout",
     "output_type": "stream",
     "text": [
      "Le nombre de catégories dans le main_dico : 37\n",
      "\n",
      "Nombre total d'exposés dans le main_dico : 122204\n",
      "\n",
      "[\"DEMANDE - D'ASSISTANCE\", 'TAPAGE NOCTURNE', 'ACCIDENT - DE CIRCULATION - DEGATS MATERIEL', 'ANIMAUX', 'VOL - PAR EFFRACTION', 'AR - DIVERS', 'INDIVIDU - SUSPECT', 'INFRACTION - LCR', 'INDIVIDU - PERTURBE', 'AR - PANNE - VEHICULE', 'OPERATION', 'DOMMAGES - A LA PROPRIETE', 'APPREHENSION / ARRESTATION', 'BAGARRE', 'CIRCULATION - ROUTIERE', 'AR - ACCIDENT', 'REVOCATION', 'LITIGE', 'MINEUR - IMPLIQUE', 'INDESIRABLE', 'ACCIDENT - DE CIRCULATION - AVEC FUITE', 'VEHICULE - SUSPECT', 'INCENDIE', 'ACCIDENT - DE CIRCULATION - AVEC BLESSE', 'VOL', 'DROGUE', 'ACCIDENT - DE CIRCULATION - AVEC ANIMAL', \"DEMANDE - D'AMBULANCE\", \"VOL - A L'ETALAGE\", \"FUITE - D'UN LIEU DE PLACEMENT\", 'VIOLENCE - DOMESTIQUE', 'TENTATIVE', 'COLLABORATION - INTERPOLICE', 'DEMANDE - IDENTIFICATION', 'VEHICULE', 'TROUBLE - DE LA TRANQUILLITE / NUISANCE', 'BRUIT'] \n",
      "\n"
     ]
    }
   ],
   "source": [
    "main_dico = {}\n",
    "l_main_cats = []\n",
    "val_min = 1000\n",
    "val_max = 100000\n",
    "nb_expos_tot = 0\n",
    "for key,value in sorted(dico_categories_nb_expos.items(), key=operator.itemgetter(1), reverse=True):\n",
    "    if value >= val_min and value <= val_max: \n",
    "        main_dico[key] = dico_global[key]\n",
    "        l_main_cats.append(key)\n",
    "        nb_expos_tot+=value\n",
    "print('Le nombre de catégories dans le main_dico : ' + str(len(main_dico)) + '\\n')\n",
    "print('Nombre total d\\'exposés dans le main_dico : ' + str(nb_expos_tot) + '\\n')\n",
    "print(l_main_cats, '\\n')\n",
    "#print(l_main_cats[0], '\\n')\n",
    "#show(main_dico, 40, 1)"
   ]
  },
  {
   "cell_type": "markdown",
   "metadata": {},
   "source": [
    "**l_couples_expo_noCat** est une liste de couples où le premier élément d'un couple est un exposé des faits et le deuxième élément du même couple est l'indice de la catégorie associée à cet exposé des faits (et avec cet indice on peut trouver le nom de la catégorie comme l'élément ayant cet indice dans la liste **l_main_cats**"
   ]
  },
  {
   "cell_type": "code",
   "execution_count": 79,
   "metadata": {},
   "outputs": [
    {
     "name": "stdout",
     "output_type": "stream",
     "text": [
      "122204 \n",
      "\n"
     ]
    },
    {
     "data": {
      "text/plain": [
       "[('Les voisins cassent tout dans la maison. Ca hurle fort. Cas récurent. ', 0),\n",
       " ('son ex Gyorgi Zoltan SZEKELY 17.11.1982, dom Genève, harcèle l\\'informatrice depuis plusieurs mois. A quitté le logement il y a environ 15 mn. Serait sous MAN par la Procureur WEINGART  de Morges. Il se déplace avec Citroën break grise portant plaques genevoises. A l\\'intérieur, 1 BA, noir. Sign : 180 cm, corp normale, crâne rasé, yeux bleus, veste bleu \"pétant\" Va contacter directement le MP à Morges pour signaler les faits. A très peu de son ex qui pourrait être violent',\n",
       "  0),\n",
       " ('2 jeunes ont lancé des pives sur son balcon. Partis > entrée hôpital. un avec polo blanc et chiffre 10',\n",
       "  0)]"
      ]
     },
     "execution_count": 79,
     "metadata": {},
     "output_type": "execute_result"
    }
   ],
   "source": [
    "l_couples_expo_noCat = []\n",
    "noCat = 0\n",
    "for cat,expos in main_dico.items():\n",
    "    for expo in expos:\n",
    "        l_couples_expo_noCat.append((expo,noCat))\n",
    "    noCat+=1\n",
    "print(len(l_couples_expo_noCat), '\\n')\n",
    "l_couples_expo_noCat[:3]"
   ]
  },
  {
   "cell_type": "code",
   "execution_count": 81,
   "metadata": {},
   "outputs": [
    {
     "name": "stdout",
     "output_type": "stream",
     "text": [
      "('Une vache brune et blanche déambule sur la route. Marche direction Chapelle.', 3)\n"
     ]
    }
   ],
   "source": [
    "print(l_couples_expo_noCat[35783])"
   ]
  },
  {
   "cell_type": "code",
   "execution_count": 82,
   "metadata": {},
   "outputs": [
    {
     "name": "stdout",
     "output_type": "stream",
     "text": [
      "Une vache brune et blanche déambule sur la route. Marche direction Chapelle.\n"
     ]
    }
   ],
   "source": [
    "print(l_couples_expo_noCat[35783][0])"
   ]
  },
  {
   "cell_type": "code",
   "execution_count": 88,
   "metadata": {},
   "outputs": [
    {
     "name": "stdout",
     "output_type": "stream",
     "text": [
      "L'exposé \" Une vache brune et blanche déambule sur la route. Marche direction Chapelle. \" a la catégorie numéro  3  qui est en fait la catégorie : \" ANIMAUX \".\n"
     ]
    }
   ],
   "source": [
    "print('L\\'exposé \"', l_couples_expo_noCat[35783][0], '\" a la catégorie numéro ', l_couples_expo_noCat[35783][1],\n",
    "      ' qui est en fait la catégorie : \"', l_main_cats[l_couples_expo_noCat[35783][1]], '\".')"
   ]
  },
  {
   "cell_type": "code",
   "execution_count": null,
   "metadata": {},
   "outputs": [],
   "source": []
  },
  {
   "cell_type": "code",
   "execution_count": null,
   "metadata": {},
   "outputs": [],
   "source": []
  },
  {
   "cell_type": "markdown",
   "metadata": {},
   "source": [
    "## Les définitions des catégories"
   ]
  },
  {
   "cell_type": "markdown",
   "metadata": {},
   "source": [
    "On a besoin de quelques librairies supplémentaires"
   ]
  },
  {
   "cell_type": "code",
   "execution_count": 45,
   "metadata": {},
   "outputs": [],
   "source": [
    "import gensim.summarization.bm25 as bm25\n",
    "from textblob import TextBlob as tb"
   ]
  },
  {
   "cell_type": "markdown",
   "metadata": {},
   "source": [
    "A ce stade, la variable **dico** représente le dictionnaire avec les catégories (pour le moment les 5 catégories) comme clés et, pour chaque clé, une liste de listes (qui est la liste des exposés des faits correspondants) comme valeur."
   ]
  },
  {
   "cell_type": "markdown",
   "metadata": {},
   "source": [
    "On crée une nouvelle variable **dico_flat** qui a les catégories comme clés et, pour chaque clé, une simple liste comme valeur et cette liste contient tous les mots des exposés associés à la catégorie.\n",
    "\n",
    "De plus, la nouvelle variable **corpus** est une liste de listes dans laquelle chaque liste interne contient tous les mots de tous les exposés pour une catégorie.\n",
    "\n",
    "Par la suite, un **document** du **corpus** représente en fait la liste de tous les mots de tous les exposés des faits d'une catégorie (à part les \"mots sans intérêt\")."
   ]
  },
  {
   "cell_type": "markdown",
   "metadata": {},
   "source": [
    "#TODO Nettoyer encore plus les mots sans intérêt"
   ]
  },
  {
   "cell_type": "markdown",
   "metadata": {},
   "source": [
    "**spacy_stop_words** est un set qui contient les \"stop words\" de la langue française"
   ]
  },
  {
   "cell_type": "code",
   "execution_count": 46,
   "metadata": {},
   "outputs": [
    {
     "name": "stdout",
     "output_type": "stream",
     "text": [
      "<class 'set'>\n",
      "[\"s'\", 'hors', 'autres', 'vivat', 'excepté', 'pu', 'ses', 'moindres', 'allaient', 'd’']\n"
     ]
    }
   ],
   "source": [
    "spacy_stop_words = spacy.lang.fr.stop_words.STOP_WORDS\n",
    "print(type(spacy_stop_words))\n",
    "print(list(spacy_stop_words)[0:10])"
   ]
  },
  {
   "cell_type": "code",
   "execution_count": 47,
   "metadata": {},
   "outputs": [
    {
     "data": {
      "text/plain": [
       "['fille', 'tombé', 'sol', 'saigne', 'bouche']"
      ]
     },
     "execution_count": 47,
     "metadata": {},
     "output_type": "execute_result"
    }
   ],
   "source": [
    "dico_flat = {}\n",
    "corpus = []\n",
    "for key,value in dico.items():\n",
    "    mots = []\n",
    "    for expo in value:\n",
    "        blob = tb(expo.lower())\n",
    "        tokens = list(blob.words)\n",
    "        # on élimine les stop words\n",
    "        tokens = [elem for elem in tokens if elem not in spacy_stop_words]\n",
    "        # on élimine les mots contenant au moins un chiffre\n",
    "        tokens = [elem for elem in tokens if not any(c.isdigit() for c in elem)]\n",
    "        mots+=tokens\n",
    "    corpus.append(mots)\n",
    "    dico_flat[key] = mots\n",
    "#dico_flat\n",
    "corpus[0][0:5]"
   ]
  },
  {
   "cell_type": "markdown",
   "metadata": {},
   "source": [
    "**bm25.BM25(corpus)** crée un objet de type helper class BM25 associé au corpus_exemple"
   ]
  },
  {
   "cell_type": "code",
   "execution_count": 48,
   "metadata": {},
   "outputs": [
    {
     "name": "stdout",
     "output_type": "stream",
     "text": [
      "Le BM25\n",
      " <gensim.summarization.bm25.BM25 object at 0x7f12ad7cbe48>\n"
     ]
    }
   ],
   "source": [
    "bm = bm25.BM25(corpus)\n",
    "print(\"Le BM25\\n\", bm)"
   ]
  },
  {
   "cell_type": "markdown",
   "metadata": {},
   "source": [
    "**bm.corpus** retourne la liste de listes correspondant à l'objet bm de type BM25"
   ]
  },
  {
   "cell_type": "code",
   "execution_count": 49,
   "metadata": {},
   "outputs": [],
   "source": [
    "#print(\"Le corpus de BM25\\n\", bm.corpus)"
   ]
  },
  {
   "cell_type": "markdown",
   "metadata": {},
   "source": [
    "**bm.corpus_size** retourne le nombre N de documents dans le corpus associé à bm"
   ]
  },
  {
   "cell_type": "code",
   "execution_count": 50,
   "metadata": {},
   "outputs": [
    {
     "name": "stdout",
     "output_type": "stream",
     "text": [
      "5\n"
     ]
    }
   ],
   "source": [
    "print(bm.corpus_size)"
   ]
  },
  {
   "cell_type": "markdown",
   "metadata": {},
   "source": [
    "**bm.avgdl** retourne la longueur moyenne (en mots) d'un document dans le corpus (la somme de toutes les longueurs divisée par le N nombre de documents)"
   ]
  },
  {
   "cell_type": "code",
   "execution_count": 51,
   "metadata": {},
   "outputs": [
    {
     "name": "stdout",
     "output_type": "stream",
     "text": [
      "6172.2\n"
     ]
    }
   ],
   "source": [
    "print(bm.avgdl)"
   ]
  },
  {
   "cell_type": "markdown",
   "metadata": {},
   "source": [
    "**bm.f** retourne les terms frequencies **dans chaque document** qui précisent le nombre d'occurences (par abus de langage, la fréquence) de chaque mot (distinct) dans un document donné sous la forme d'une liste de N dictionnaires : un dictionnaire par document avec comme clés les mots distincts du document et comme valeurs les nombres d'occurences dans ce document\n",
    "\n",
    "Ci-dessous, dans le premier dictionnaire, à la clé 'fille' correspond la valeur 4 ce qui indique que le mot \"fille\" apparaît 4 fois dans le premier dictionnaire, donc dans le premier document."
   ]
  },
  {
   "cell_type": "code",
   "execution_count": 52,
   "metadata": {},
   "outputs": [
    {
     "name": "stdout",
     "output_type": "stream",
     "text": [
      "4\n"
     ]
    }
   ],
   "source": [
    "bm_list_dicos_f = bm.f\n",
    "print(bm_list_dicos_f[0]['fille'])"
   ]
  },
  {
   "cell_type": "markdown",
   "metadata": {},
   "source": [
    "On calcule maintenant les fréquences relatives de chaque mot dans les dictionnaires (où la fréquence relative d'un mot dans un document est le quotient entre le nombre d'occurences de ce mot dans le document et le nombre de mots du document).\n",
    "\n",
    "Ci-dessous, dans le premier dictionnaire, à la clé 'fille' correspond la valeur 0.0049 ce qui indique la fréquence relative du mot \"fille\" dans le premier dictionnaire, donc dans le premier document."
   ]
  },
  {
   "cell_type": "code",
   "execution_count": 53,
   "metadata": {
    "scrolled": false
   },
   "outputs": [
    {
     "name": "stdout",
     "output_type": "stream",
     "text": [
      "0.004968944099378882\n"
     ]
    }
   ],
   "source": [
    "bm_list_dicos_f_rel = []\n",
    "for dic in bm_list_dicos_f:\n",
    "    dic_rel = {}\n",
    "    lon = sum(dic.values())\n",
    "    for key,value in dic.items():\n",
    "        dic_rel[key] = value/lon\n",
    "    bm_list_dicos_f_rel.append(dic_rel)\n",
    "print(bm_list_dicos_f_rel[0]['fille'])"
   ]
  },
  {
   "cell_type": "markdown",
   "metadata": {},
   "source": [
    "Comme vérification, on peut s'assurer que la somme des fréquences relatives pour un même document, par exemple le premier, vaut bien 1."
   ]
  },
  {
   "cell_type": "code",
   "execution_count": 54,
   "metadata": {},
   "outputs": [
    {
     "data": {
      "text/plain": [
       "1.0000000000000093"
      ]
     },
     "execution_count": 54,
     "metadata": {},
     "output_type": "execute_result"
    }
   ],
   "source": [
    "somme = 0\n",
    "for value in bm_list_dicos_f_rel[0].values():\n",
    "    somme += value\n",
    "somme"
   ]
  },
  {
   "cell_type": "markdown",
   "metadata": {},
   "source": [
    "**bm.df** retourne les **document frequencies** pour **tout le corpus** qui précisent le nombre d'occurences (la fréquence, par abus de langage) de chaque mot (distinct) dans le corpus sous la forme d'un dictionnaire unique avec autant d'éléments que de **mots distincts** dans le corpus et où un élément a : \n",
    "- comme clé un **mot distinct** $mot_i$ **du corpus**\n",
    "- comme valeur le nombre de documents $n(mot_i)$ contenant (au moins une fois) le mot respectif\n",
    "\n",
    "Ci-dessous, dans le seul dictionnaire, à la clé 'fille' correspond la valeur 3 ce qui indique que le mot \"fille\" est apparu (au moins une fois) dans 3 documents différents."
   ]
  },
  {
   "cell_type": "code",
   "execution_count": 55,
   "metadata": {},
   "outputs": [
    {
     "name": "stdout",
     "output_type": "stream",
     "text": [
      "3\n"
     ]
    }
   ],
   "source": [
    "bm_dico_df = bm.df\n",
    "print(bm_dico_df['fille'])"
   ]
  },
  {
   "cell_type": "markdown",
   "metadata": {},
   "source": [
    "**bm.idf** retourne les **inverse document frequencies** pour **tout le corpus** qui précisent la fréquence inverse pour tout le corpus sous la forme d'un dictionnaire unique avec autant d'éléments que de mots distincts dans le corpus et où un élément a : \n",
    "- comme clé un mot distinct **du corpus**\n",
    "- comme valeur la fréquence inverse du mot respectif\n",
    "\n",
    "La fréquence inverse d'un mot $IDF(mot_i)$ est calculée comme le logarithme naturel du quotient :\n",
    "\n",
    "$$IDF(mot_i) = log{\\frac{N-n(mot_i)+0.5}{n(mot_i)+0.5}}$$\n",
    "\n",
    "où $N$ est le nombre total de documents dans le corpus et $n(mot_i)$ est le nombre de documents qui contiennent (au moins une fois) le $mot_i$\n",
    "\n",
    "Ci-dessous, dans le seul dictionnaire, à la clé 'fille' correspond la valeur -0.3364... qui correspond à sa fréquence inversée."
   ]
  },
  {
   "cell_type": "code",
   "execution_count": 56,
   "metadata": {
    "scrolled": true
   },
   "outputs": [
    {
     "name": "stdout",
     "output_type": "stream",
     "text": [
      "-0.33647223662121295\n"
     ]
    }
   ],
   "source": [
    "bm_dico_idf = bm.idf\n",
    "print(bm_dico_idf['fille'])"
   ]
  },
  {
   "cell_type": "markdown",
   "metadata": {},
   "source": [
    "On peut aussi calculer une autre fréquence inversée d'un mot comme le logarithme naturel du quotient\n",
    "$$IDF_{bis}(mot_i) = log{\\frac{N}{n(mot_i)+1}}$$\n",
    "\n",
    "où $N$ est le nombre total de documents dans le corpus et $n(mot_i)$ est le nombre de documents qui contiennent (au moins une fois) le $mot_i$\n",
    "\n",
    "Ci-dessous, dans le seul dictionnaire, à la clé 'fille' correspond la valeur 0.2231... qui correspond à sa fréquence inversée."
   ]
  },
  {
   "cell_type": "code",
   "execution_count": 57,
   "metadata": {},
   "outputs": [
    {
     "name": "stdout",
     "output_type": "stream",
     "text": [
      "0.22314355131420976\n"
     ]
    }
   ],
   "source": [
    "bm_dico_idf_perso = {}\n",
    "size = bm.corpus_size\n",
    "for key,value in bm_dico_df.items():\n",
    "    bm_dico_idf_perso[key] = math.log(size/(1+value))\n",
    "print(bm_dico_idf_perso['fille'])"
   ]
  },
  {
   "cell_type": "markdown",
   "metadata": {},
   "source": [
    "Pour chaque mot de chaque document, on calcule le produit entre sa fréquence relative (afin de tenir compte du \"rôle\" de ce mot dans le document) et sa fréquence inverse (afin de tenir compte du \"rôle\" de ce mot dans le corpus).\n",
    "\n",
    "Entre autre, grâce à la fréquence inversée, les mots qui interviennent dans toutes les définitions des catégories (et qui ne nous permettent pas de distinguer ces catégories) seront pénalisés."
   ]
  },
  {
   "cell_type": "code",
   "execution_count": 58,
   "metadata": {},
   "outputs": [
    {
     "name": "stdout",
     "output_type": "stream",
     "text": [
      "-0.0016719117347637911\n"
     ]
    }
   ],
   "source": [
    "bm_list_dicos_tfidf = []\n",
    "for dic in bm_list_dicos_f_rel:\n",
    "    dic_tfidf = {}\n",
    "    for key,value in dic.items():\n",
    "        dic_tfidf[key] = value*bm_dico_idf[key]\n",
    "        #dic_tfidf[key] = value*bm_dico_idf_perso[key]\n",
    "    bm_list_dicos_tfidf.append(dic_tfidf)\n",
    "print(bm_list_dicos_tfidf[0]['fille'])"
   ]
  },
  {
   "cell_type": "markdown",
   "metadata": {},
   "source": [
    "**bm_list_dicos_tfidf_sort** représente une double liste de couple où une liste interne correspond à un document et contient des couples où le premier élément est un mot et le deuxième élément est la valeur **tfidf** de ce mot.\n",
    "\n",
    "Pour un document donné, la liste interne correspondante a les couples ordonnés de manière décroissante selon les valeurs tfidf."
   ]
  },
  {
   "cell_type": "code",
   "execution_count": 59,
   "metadata": {},
   "outputs": [
    {
     "data": {
      "text/plain": [
       "[('trains', 0.0040942072869618994),\n",
       " ('fortuit', 0.0040942072869618994),\n",
       " ('héliportée', 0.0027294715246412664),\n",
       " ('roulante', 0.0027294715246412664),\n",
       " ('mordu', 0.0027294715246412664)]"
      ]
     },
     "execution_count": 59,
     "metadata": {},
     "output_type": "execute_result"
    }
   ],
   "source": [
    "bm_list_dicos_tfidf_sort = [sorted(dic.items(), key=operator.itemgetter(1), reverse=True) for dic in bm_list_dicos_tfidf]\n",
    "bm_list_dicos_tfidf_sort[0][0:5]"
   ]
  },
  {
   "cell_type": "markdown",
   "metadata": {},
   "source": [
    "On affiche l'état actuel."
   ]
  },
  {
   "cell_type": "code",
   "execution_count": 60,
   "metadata": {},
   "outputs": [
    {
     "name": "stdout",
     "output_type": "stream",
     "text": [
      "Le nombre de mots distincts pour la catégorie  ACCIDENT  : 471\n",
      "Le nombre de mots distincts pour la catégorie  ACCIDENT - DE TRAVAIL  : 953\n",
      "Le nombre de mots distincts pour la catégorie  ACCIDENT - DE CIRCULATION - AVEC ANIMAL  : 1718\n",
      "Le nombre de mots distincts pour la catégorie  ACCIDENT - DE CIRCULATION - AVEC BLESSE  : 2036\n",
      "Le nombre de mots distincts pour la catégorie  INONDATION  : 996\n"
     ]
    }
   ],
   "source": [
    "cats = list(dico_flat.keys())\n",
    "#for i,dic in enumerate(bm_list_dicos_tfidf_sort):\n",
    "for i,dic in enumerate(bm_list_dicos_f):    \n",
    "    print('Le nombre de mots distincts pour la catégorie ', cats[i], ' :', len(dic))"
   ]
  },
  {
   "cell_type": "markdown",
   "metadata": {},
   "source": [
    "Finalement, on garde comme définition pour chaque catégorie une liste avec au maximum 500 mots les plus fréquents (dans le sens de la valeur tfidf) qui sont apparus dans les exposés des faits associés à la catégorie.\n",
    "\n",
    "**dico_def_categories_sans_doublon** est un dictionnaire où les clés sont les noms des catégories et les valeurs sont des listes avec les 100 mots - uniques sans doublon - les plus fréquents correspondant à la \"définition\" des catégories."
   ]
  },
  {
   "cell_type": "code",
   "execution_count": 61,
   "metadata": {},
   "outputs": [
    {
     "name": "stdout",
     "output_type": "stream",
     "text": [
      "['trains', 'fortuit', 'héliportée', 'roulante', 'mordu', 'trouvant', 'échelle', 'envolée', 'acheminent', 'trolley-bus', 'lima', 'ambulatoire', 'domestique', 'graves', 'lidle']\n"
     ]
    }
   ],
   "source": [
    "cats = list(dico_flat.keys())\n",
    "dico_def_categories_sans_doublon = {}\n",
    "for i,li in enumerate(bm_list_dicos_tfidf_sort):\n",
    "    lis = []\n",
    "    for j,elem in enumerate(li):\n",
    "        if j < 500:\n",
    "            lis.append(elem[0])\n",
    "    dico_def_categories_sans_doublon[cats[i]]=lis\n",
    "print(list(dico_def_categories_sans_doublon.values())[0][0:15])"
   ]
  },
  {
   "cell_type": "markdown",
   "metadata": {},
   "source": [
    "**dico_def_categories** est un dictionnaire où les clés sont les noms des catégories et les valeurs sont des listes avec les 100 mots les plus fréquents correspondant à la \"définition\" des catégories mais apparaissant autant de fois qu'au début.\n",
    "\n",
    "Donc, **dico_def_categories** correspond au **dico_flat** où dans chaque liste correspondant à une définition on a gardé que les mots les plus fréquents.\n",
    "\n",
    "**corpus_def** est une liste de listes dans laquelle chaque liste interne contient les mots les plus fréquents de la définition d'une catégorie."
   ]
  },
  {
   "cell_type": "code",
   "execution_count": 62,
   "metadata": {},
   "outputs": [
    {
     "name": "stdout",
     "output_type": "stream",
     "text": [
      "['fille', 'tombé', 'sol', 'saigne', 'bouche', 'précisions', 'femme', 'blessée', \"s'est\", 'envolée', 'ambulance', 'place', 'acheminent', 'blessée', \"l'hôpital\"]\n",
      "['fille', 'tombé', 'sol', 'saigne', 'bouche', 'précisions', 'femme', 'blessée', \"s'est\", 'envolée', 'ambulance', 'place', 'acheminent', 'blessée', \"l'hôpital\"]\n"
     ]
    }
   ],
   "source": [
    "dico_def_categories = {}\n",
    "corpus_def = []\n",
    "for key,value in dico_flat.items():\n",
    "    new_value = [elem for elem in value if elem in dico_def_categories_sans_doublon[key]]\n",
    "    dico_def_categories[key] = new_value\n",
    "    corpus_def.append(new_value)\n",
    "print(list(dico_def_categories.values())[0][0:15])\n",
    "print(corpus_def[0][0:15])"
   ]
  },
  {
   "cell_type": "markdown",
   "metadata": {},
   "source": [
    "## Prédiction de la \"bonne\" catégorie"
   ]
  },
  {
   "cell_type": "markdown",
   "metadata": {},
   "source": [
    "Au début, on procède comme dans le chapitre d'avant sauf qu'on utilise à la place de la variable **corpus**, la variable **corpus_def** (qui est la liste des listes de mots des définitions des catégories)."
   ]
  },
  {
   "cell_type": "code",
   "execution_count": 63,
   "metadata": {},
   "outputs": [],
   "source": [
    "bm_def = bm25.BM25(corpus_def)"
   ]
  },
  {
   "cell_type": "code",
   "execution_count": 64,
   "metadata": {},
   "outputs": [
    {
     "name": "stdout",
     "output_type": "stream",
     "text": [
      "5\n"
     ]
    }
   ],
   "source": [
    "print(bm_def.corpus_size)"
   ]
  },
  {
   "cell_type": "code",
   "execution_count": 65,
   "metadata": {},
   "outputs": [
    {
     "name": "stdout",
     "output_type": "stream",
     "text": [
      "2206.8\n"
     ]
    }
   ],
   "source": [
    "print(bm_def.avgdl)"
   ]
  },
  {
   "cell_type": "code",
   "execution_count": 66,
   "metadata": {},
   "outputs": [
    {
     "data": {
      "text/plain": [
       "3"
      ]
     },
     "execution_count": 66,
     "metadata": {},
     "output_type": "execute_result"
    }
   ],
   "source": [
    "bm_def_list_dicos_f = bm_def.f\n",
    "bm_def_list_dicos_f[0]['trains']"
   ]
  },
  {
   "cell_type": "code",
   "execution_count": 67,
   "metadata": {},
   "outputs": [
    {
     "data": {
      "text/plain": [
       "1"
      ]
     },
     "execution_count": 67,
     "metadata": {},
     "output_type": "execute_result"
    }
   ],
   "source": [
    "bm_def_dico_df = bm_def.df\n",
    "bm_def_dico_df['trains']"
   ]
  },
  {
   "cell_type": "code",
   "execution_count": 68,
   "metadata": {},
   "outputs": [
    {
     "data": {
      "text/plain": [
       "1.0986122886681098"
      ]
     },
     "execution_count": 68,
     "metadata": {},
     "output_type": "execute_result"
    }
   ],
   "source": [
    "bm_def_dico_idf = bm_def.idf\n",
    "bm_def_dico_idf['trains']"
   ]
  },
  {
   "cell_type": "code",
   "execution_count": 69,
   "metadata": {},
   "outputs": [
    {
     "name": "stdout",
     "output_type": "stream",
     "text": [
      "1.0704677966076261\n"
     ]
    }
   ],
   "source": [
    "bm_def_average_idf = sum(bm_def_dico_idf.values())/len(bm_def_dico_idf.values())\n",
    "print(bm_def_average_idf)"
   ]
  },
  {
   "cell_type": "markdown",
   "metadata": {},
   "source": [
    "On définit la fonction ad-hoc **clean** qui reçoit comme argument un exposé des faits (donc une string formée de plusieurs mots) et qui retourne la liste des mots de l'exposé des faits mais sans les \"mots sans intérêt\"."
   ]
  },
  {
   "cell_type": "code",
   "execution_count": 70,
   "metadata": {},
   "outputs": [],
   "source": [
    "def nettoyer(expo):\n",
    "    spacy_stop_words = spacy.lang.fr.stop_words.STOP_WORDS\n",
    "    blob = tb(expo.lower())\n",
    "    tokens = list(blob.words)\n",
    "    tokens = [elem for elem in tokens if elem not in spacy_stop_words]\n",
    "    tokens = [elem for elem in tokens if not any(c.isdigit() for c in elem)]\n",
    "    return tokens"
   ]
  },
  {
   "cell_type": "markdown",
   "metadata": {},
   "source": [
    "**expo_new_text** est un nouvel exposé (donné normalement comme un texte avec des mots) \"à classer\", c'est-à-dire pour lequel il faut prédire la bonne définition."
   ]
  },
  {
   "cell_type": "code",
   "execution_count": 71,
   "metadata": {},
   "outputs": [
    {
     "data": {
      "text/plain": [
       "'A heurté plusieurs sangliers. 1 animal DCD et beaucoup de débris sur la chaussée. '"
      ]
     },
     "execution_count": 71,
     "metadata": {},
     "output_type": "execute_result"
    }
   ],
   "source": [
    "#expo_new_text = dico['ACCIDENT'][3]\n",
    "#expo_new_text = dico['ACCIDENT - DE TRAVAIL'][3]\n",
    "expo_new_text = dico['ACCIDENT - DE CIRCULATION - AVEC ANIMAL'][9]\n",
    "#expo_new_text = dico['ACCIDENT - DE CIRCULATION - AVEC BLESSE'][3]\n",
    "#expo_new_text = dico['INONDATION'][3]\n",
    "expo_new_text"
   ]
  },
  {
   "cell_type": "markdown",
   "metadata": {},
   "source": [
    "A partir de l'exposé **expo_new_text**, on obtient **expo_new** qui est la liste de ces mots pertinents (sans les \"mots sans intérêt\")"
   ]
  },
  {
   "cell_type": "code",
   "execution_count": 72,
   "metadata": {},
   "outputs": [
    {
     "data": {
      "text/plain": [
       "['heurté', 'sangliers', 'animal', 'dcd', 'débris', 'chaussée']"
      ]
     },
     "execution_count": 72,
     "metadata": {},
     "output_type": "execute_result"
    }
   ],
   "source": [
    "expo_new = nettoyer(expo_new_text)\n",
    "expo_new"
   ]
  },
  {
   "cell_type": "markdown",
   "metadata": {},
   "source": [
    "**bm_def.get_score** donne le score d'un certain document $D$ fourni comme premier argument par rapport au document $Q$ qui a dans le corpus l'indice précisé comme deuxième argument et pour une moyenne IDF du corpus indiqué comme troisième argument\n",
    "\n",
    "$$score(D,Q) = \\sum_{i=1}^{n} {IDF(mot_i)}\\cdot{\\frac{f(mot_i,D)\\cdot(k_1+1)}{f(mot_i,D)+k_1\\cdot(1-b+b\\cdot\\frac{len(D)}{avgdl})}}$$\n",
    "\n",
    "où :\n",
    "- le document $Q$ a $n$ mots et il est le document par rapport auquel on calcule le score du document $D$\n",
    "- $mot_i$ est un mot courant du document $Q$ par rapport auquel on calcule le score du document $D$\n",
    "- $k_1\\in [1.2,2.0]$\n",
    "- $b=0.75$\n",
    "\n",
    "Concrètement, on obtient ci-dessous le score (de similitude) du \"expo_new\" par rapport au document (en fait la définition de la catégorie) d'indice 0 du corpus"
   ]
  },
  {
   "cell_type": "code",
   "execution_count": 73,
   "metadata": {},
   "outputs": [
    {
     "name": "stdout",
     "output_type": "stream",
     "text": [
      "0\n"
     ]
    }
   ],
   "source": [
    "print(bm_def.get_score(expo_new, 1, bm_def_average_idf))"
   ]
  },
  {
   "cell_type": "markdown",
   "metadata": {},
   "source": [
    "**bm_def.get_scores** retourne la liste des scores d'un certain document fourni comme premier argument par rapport à **tous** les documents du corpus, pour une moyenne IDF du corpus indiqué comme deuxième argument"
   ]
  },
  {
   "cell_type": "code",
   "execution_count": 74,
   "metadata": {},
   "outputs": [
    {
     "data": {
      "text/plain": [
       "[3.7150344628285166, 0, 7.4757335298424845, 0.5604346941973094, 0]"
      ]
     },
     "execution_count": 74,
     "metadata": {},
     "output_type": "execute_result"
    }
   ],
   "source": [
    "scores = bm_def.get_scores(expo_new, bm_def_average_idf)\n",
    "scores"
   ]
  },
  {
   "cell_type": "markdown",
   "metadata": {},
   "source": [
    "**bm25.get_bm25_weights(corpus_def)** retourne les scores (les poids) des documents dans le corpus sous la forme d'une liste de N listes internes contenant chacune N scores\n",
    "\n",
    "La liste interne i contient les N scores du document i par rapport aux N documents du corpus (y compris par rapport à lui-même).\n",
    "\n",
    "On constate que le score de chaque définition par rapport à elle-même est très élevé tandis que les scores d'une définition par rapport aux autres définitions sont assez réduites ce qui montre que les définitions sont \"perpendiculaires\" entre elles (ont peu de mots communs entre elles)."
   ]
  },
  {
   "cell_type": "code",
   "execution_count": 75,
   "metadata": {},
   "outputs": [
    {
     "name": "stdout",
     "output_type": "stream",
     "text": [
      "Les scores\n",
      " [[1541.0843138916189, 7.7198633166389925, 2.7860309415594737, 7.00441217219824, 5.978077461764558], [29.335283890967634, 1497.528286837334, 2.7346088384234113, 110.96980441842611, 4.862331043949091], [29.68241975004199, 6.754802454556558, 7346.208335293282, 1052.8119085766361, 7.574168770127952], [87.7394947803794, 296.7533389843918, 521.9579668198437, 4903.671816404552, 6.460568301829697], [35.20686357039076, 16.578710527924144, 6.208170749246817, 8.166765352642342, 3353.1235295792058]]\n"
     ]
    }
   ],
   "source": [
    "poids = bm25.get_bm25_weights(corpus_def)\n",
    "print(\"Les scores\\n\", poids)"
   ]
  },
  {
   "cell_type": "markdown",
   "metadata": {},
   "source": [
    "Le score maximal du nouvel exposé (qui peut être obtenu par plusieurs documents, i.e. par plusieurs définitions de catégories)."
   ]
  },
  {
   "cell_type": "code",
   "execution_count": 76,
   "metadata": {},
   "outputs": [
    {
     "data": {
      "text/plain": [
       "7.4757335298424845"
      ]
     },
     "execution_count": 76,
     "metadata": {},
     "output_type": "execute_result"
    }
   ],
   "source": [
    "score_max = max(scores)\n",
    "score_max"
   ]
  },
  {
   "cell_type": "markdown",
   "metadata": {},
   "source": [
    "On vérifie s'il y a plusieurs documents (définitions de catégorie) qui obtiennent le score maximal"
   ]
  },
  {
   "cell_type": "code",
   "execution_count": 77,
   "metadata": {},
   "outputs": [
    {
     "name": "stdout",
     "output_type": "stream",
     "text": [
      "7.4757335298424845\n"
     ]
    },
    {
     "data": {
      "text/plain": [
       "[None]"
      ]
     },
     "execution_count": 77,
     "metadata": {},
     "output_type": "execute_result"
    }
   ],
   "source": [
    "[print(str(score)) for score in scores if score==score_max]"
   ]
  },
  {
   "cell_type": "markdown",
   "metadata": {},
   "source": [
    "La liste avec les indices des documents (définitions de catégories) qui ont obtenu le score maximal"
   ]
  },
  {
   "cell_type": "code",
   "execution_count": 78,
   "metadata": {},
   "outputs": [
    {
     "data": {
      "text/plain": [
       "[2]"
      ]
     },
     "execution_count": 78,
     "metadata": {},
     "output_type": "execute_result"
    }
   ],
   "source": [
    "indexes_max = np.argwhere(np.asarray(scores) == score_max).flatten().tolist()\n",
    "indexes_max"
   ]
  },
  {
   "cell_type": "code",
   "execution_count": null,
   "metadata": {},
   "outputs": [],
   "source": []
  }
 ],
 "metadata": {
  "kernelspec": {
   "display_name": "Python 3",
   "language": "python",
   "name": "python3"
  },
  "language_info": {
   "codemirror_mode": {
    "name": "ipython",
    "version": 3
   },
   "file_extension": ".py",
   "mimetype": "text/x-python",
   "name": "python",
   "nbconvert_exporter": "python",
   "pygments_lexer": "ipython3",
   "version": "3.6.7"
  }
 },
 "nbformat": 4,
 "nbformat_minor": 2
}
