{
 "cells": [
  {
   "cell_type": "markdown",
   "metadata": {},
   "source": [
    "#### Pour que l'apprentissage par ML soit faisable, on sélectionne les **catégories significatives** avec un \"grand\" nombre d'exposés des faits associé."
   ]
  },
  {
   "cell_type": "code",
   "execution_count": 64,
   "metadata": {},
   "outputs": [],
   "source": [
    "import pandas as pd\n",
    "import operator\n",
    "import pickle\n",
    "import matplotlib.pyplot as plt\n",
    "import seaborn as sns"
   ]
  },
  {
   "cell_type": "markdown",
   "metadata": {},
   "source": [
    "## Chargement des données pré-traîtées"
   ]
  },
  {
   "cell_type": "markdown",
   "metadata": {},
   "source": [
    "Ci-dessous, **efs** est un DataFrame.\n",
    "L'argument header=0 indique que les noms des colonnes se trouvent sur la première ligne (d'indice 0)."
   ]
  },
  {
   "cell_type": "code",
   "execution_count": 2,
   "metadata": {},
   "outputs": [
    {
     "data": {
      "text/html": [
       "<div>\n",
       "<style scoped>\n",
       "    .dataframe tbody tr th:only-of-type {\n",
       "        vertical-align: middle;\n",
       "    }\n",
       "\n",
       "    .dataframe tbody tr th {\n",
       "        vertical-align: top;\n",
       "    }\n",
       "\n",
       "    .dataframe thead th {\n",
       "        text-align: right;\n",
       "    }\n",
       "</style>\n",
       "<table border=\"1\" class=\"dataframe\">\n",
       "  <thead>\n",
       "    <tr style=\"text-align: right;\">\n",
       "      <th></th>\n",
       "      <th>EXPOSES</th>\n",
       "      <th>CATEGORIE</th>\n",
       "    </tr>\n",
       "  </thead>\n",
       "  <tbody>\n",
       "    <tr>\n",
       "      <th>0</th>\n",
       "      <td>Une trace de mazout sur env 20 mètres. Pompier...</td>\n",
       "      <td>POLLUTION - HYDROCARBURES</td>\n",
       "    </tr>\n",
       "    <tr>\n",
       "      <th>1</th>\n",
       "      <td>avis prudence météo</td>\n",
       "      <td>FEUX A ECLIPSES - 45 TOURS</td>\n",
       "    </tr>\n",
       "    <tr>\n",
       "      <th>2</th>\n",
       "      <td>Un renard sur la voie gauche.</td>\n",
       "      <td>ANIMAUX</td>\n",
       "    </tr>\n",
       "    <tr>\n",
       "      <th>3</th>\n",
       "      <td>Interpellation de M. Ndue GESHTEJA</td>\n",
       "      <td>INDIVIDU - RECHERCHE</td>\n",
       "    </tr>\n",
       "    <tr>\n",
       "      <th>4</th>\n",
       "      <td>Bras cassé suite glissade sur le verglas.</td>\n",
       "      <td>DEMANDE - D'AMBULANCE</td>\n",
       "    </tr>\n",
       "  </tbody>\n",
       "</table>\n",
       "</div>"
      ],
      "text/plain": [
       "                                             EXPOSES  \\\n",
       "0  Une trace de mazout sur env 20 mètres. Pompier...   \n",
       "1                                avis prudence météo   \n",
       "2                      Un renard sur la voie gauche.   \n",
       "3                 Interpellation de M. Ndue GESHTEJA   \n",
       "4          Bras cassé suite glissade sur le verglas.   \n",
       "\n",
       "                    CATEGORIE  \n",
       "0   POLLUTION - HYDROCARBURES  \n",
       "1  FEUX A ECLIPSES - 45 TOURS  \n",
       "2                     ANIMAUX  \n",
       "3        INDIVIDU - RECHERCHE  \n",
       "4       DEMANDE - D'AMBULANCE  "
      ]
     },
     "execution_count": 2,
     "metadata": {},
     "output_type": "execute_result"
    }
   ],
   "source": [
    "efs = pd.read_csv('/home/alina/UNIFR/TM/random/ExposesDesFaits/exposes_faits_preproc_fin.csv', header=0, sep=';')\n",
    "efs.head(5)"
   ]
  },
  {
   "cell_type": "code",
   "execution_count": 3,
   "metadata": {},
   "outputs": [
    {
     "data": {
      "text/plain": [
       "EXPOSES      Bras cassé suite glissade sur le verglas.\n",
       "CATEGORIE                        DEMANDE - D'AMBULANCE\n",
       "Name: 4, dtype: object"
      ]
     },
     "execution_count": 3,
     "metadata": {},
     "output_type": "execute_result"
    }
   ],
   "source": [
    "efs.loc[4]"
   ]
  },
  {
   "cell_type": "code",
   "execution_count": 4,
   "metadata": {},
   "outputs": [
    {
     "data": {
      "text/plain": [
       "EXPOSES      Bras cassé suite glissade sur le verglas.\n",
       "CATEGORIE                        DEMANDE - D'AMBULANCE\n",
       "Name: 4, dtype: object"
      ]
     },
     "execution_count": 4,
     "metadata": {},
     "output_type": "execute_result"
    }
   ],
   "source": [
    "efs.loc[4,:]"
   ]
  },
  {
   "cell_type": "code",
   "execution_count": 5,
   "metadata": {},
   "outputs": [
    {
     "data": {
      "text/plain": [
       "\"DEMANDE - D'AMBULANCE\""
      ]
     },
     "execution_count": 5,
     "metadata": {},
     "output_type": "execute_result"
    }
   ],
   "source": [
    "efs.loc[4][1]"
   ]
  },
  {
   "cell_type": "markdown",
   "metadata": {},
   "source": [
    "**ser_cats** correspond aux catégories de tous les enregistrements (donc les éléments de la colonne CATEGORIE) de la DataFrame **efs** en tant qu'objet de type **pandas.core.series.Series**"
   ]
  },
  {
   "cell_type": "code",
   "execution_count": 6,
   "metadata": {},
   "outputs": [
    {
     "name": "stdout",
     "output_type": "stream",
     "text": [
      "<class 'pandas.core.series.Series'>\n"
     ]
    }
   ],
   "source": [
    "ser_cats = efs['CATEGORIE']\n",
    "#ser_cats = efs.CATEGORIE\n",
    "print(type(ser_cats))"
   ]
  },
  {
   "cell_type": "markdown",
   "metadata": {},
   "source": [
    "**l_cats** est la liste de strings correspondant à la Series **ser_cats**"
   ]
  },
  {
   "cell_type": "code",
   "execution_count": 7,
   "metadata": {},
   "outputs": [
    {
     "name": "stdout",
     "output_type": "stream",
     "text": [
      "158058\n"
     ]
    },
    {
     "data": {
      "text/plain": [
       "['POLLUTION - HYDROCARBURES',\n",
       " 'FEUX A ECLIPSES - 45 TOURS',\n",
       " 'ANIMAUX',\n",
       " 'INDIVIDU - RECHERCHE',\n",
       " \"DEMANDE - D'AMBULANCE\"]"
      ]
     },
     "execution_count": 7,
     "metadata": {},
     "output_type": "execute_result"
    }
   ],
   "source": [
    "l_cats = list(ser_cats)\n",
    "print(len(l_cats))\n",
    "l_cats[0:5:1]"
   ]
  },
  {
   "cell_type": "markdown",
   "metadata": {},
   "source": [
    "#### Les catégories SANS doublons comme set et liste\n",
    "\n",
    "On transforme la Series **ser_cats** en un set nommé **set_cats** pour éliminer les doublons"
   ]
  },
  {
   "cell_type": "code",
   "execution_count": 8,
   "metadata": {},
   "outputs": [
    {
     "name": "stdout",
     "output_type": "stream",
     "text": [
      "<class 'set'>\n",
      "421\n"
     ]
    }
   ],
   "source": [
    "set_cats = set(ser_cats)\n",
    "print(type(set_cats))\n",
    "print(len(set_cats))\n",
    "#for cat in set_cats:\n",
    "#    print(cat)"
   ]
  },
  {
   "cell_type": "markdown",
   "metadata": {},
   "source": [
    "On transforme le set **set_cats** en une liste **l_set_cats** où on trouve les catégories (sans doublons) dans un ordre quelconque"
   ]
  },
  {
   "cell_type": "code",
   "execution_count": 9,
   "metadata": {
    "scrolled": true
   },
   "outputs": [
    {
     "name": "stdout",
     "output_type": "stream",
     "text": [
      "421\n"
     ]
    },
    {
     "data": {
      "text/plain": [
       "['PANNE - TECHNIQUE',\n",
       " 'PERTURBATION - RADIO',\n",
       " 'DISPARITION - MILITAIRE',\n",
       " 'MANIFESTATION',\n",
       " 'PANNE - TELEPHONE',\n",
       " 'DANGERS',\n",
       " \"VOL - A L'ETALAGE\",\n",
       " 'HOLD-UP',\n",
       " 'MUNITION / EXPLOSIF',\n",
       " 'PIEGE - PIEGES SMS-GTM - 140  - Alarmes piège']"
      ]
     },
     "execution_count": 9,
     "metadata": {},
     "output_type": "execute_result"
    }
   ],
   "source": [
    "l_set_cats = list(set_cats)\n",
    "print(len(l_set_cats))\n",
    "l_set_cats[:10]"
   ]
  },
  {
   "cell_type": "code",
   "execution_count": null,
   "metadata": {},
   "outputs": [],
   "source": []
  },
  {
   "cell_type": "markdown",
   "metadata": {},
   "source": [
    "**ser_exposes** correspond aux exposés de tous les enregistrements (donc les éléments de la colonne EXPOSES) de la DataFrame **efs** en tant qu'objet de type **pandas.core.series.Series**"
   ]
  },
  {
   "cell_type": "code",
   "execution_count": 10,
   "metadata": {},
   "outputs": [
    {
     "name": "stdout",
     "output_type": "stream",
     "text": [
      "<class 'pandas.core.series.Series'>\n"
     ]
    }
   ],
   "source": [
    "ser_exposes = efs['EXPOSES']\n",
    "#ser_cats = efs.EXPOSES\n",
    "print(type(ser_exposes))"
   ]
  },
  {
   "cell_type": "markdown",
   "metadata": {},
   "source": [
    "**l_exposes** est la liste de strings correspondant à la Series **ser_exposes**"
   ]
  },
  {
   "cell_type": "code",
   "execution_count": 11,
   "metadata": {},
   "outputs": [
    {
     "name": "stdout",
     "output_type": "stream",
     "text": [
      "158058\n"
     ]
    },
    {
     "data": {
      "text/plain": [
       "['Une trace de mazout sur env 20 mètres. Pompiers se déplacent. ',\n",
       " 'avis prudence météo',\n",
       " 'Un renard sur la voie gauche.',\n",
       " 'Interpellation de M. Ndue GESHTEJA',\n",
       " 'Bras cassé suite glissade sur le verglas.']"
      ]
     },
     "execution_count": 11,
     "metadata": {},
     "output_type": "execute_result"
    }
   ],
   "source": [
    "l_exposes = list(ser_exposes)\n",
    "print(len(l_exposes))\n",
    "l_exposes[0:5:1]"
   ]
  },
  {
   "cell_type": "markdown",
   "metadata": {},
   "source": [
    "#### Les exposés SANS doublons comme set et liste\n",
    "\n",
    "On transforme la Series **ser_exposes** en un set nommé **set_exposes** pour éliminer les doublons"
   ]
  },
  {
   "cell_type": "code",
   "execution_count": 12,
   "metadata": {},
   "outputs": [
    {
     "name": "stdout",
     "output_type": "stream",
     "text": [
      "<class 'set'>\n",
      "129467\n"
     ]
    }
   ],
   "source": [
    "set_exposes = set(ser_exposes)\n",
    "print(type(set_exposes))\n",
    "print(len(set_exposes))\n",
    "#for expo in set_exposes:\n",
    "#    print(expo)"
   ]
  },
  {
   "cell_type": "markdown",
   "metadata": {},
   "source": [
    "On transforme le set **set_exposes** en une liste **l_set_exposes** où on trouve les catégories (sans doublons) dans un ordre quelconque"
   ]
  },
  {
   "cell_type": "code",
   "execution_count": 13,
   "metadata": {},
   "outputs": [
    {
     "name": "stdout",
     "output_type": "stream",
     "text": [
      "129467\n"
     ]
    },
    {
     "data": {
      "text/plain": [
       "[\"L'informateur a entendu le bruit d'une fenêtre qui s'ouvre et voit de la lumière chez ses voisins (JAQUIER). Pensent qu'ils sont absents car il n'y a pas de voiture devant le domicile.\",\n",
       " \"de la fumée blanche sort de la cabine d'un camion anglais. \",\n",
       " \"Avise que son employée, Mme Jerpar BYRDE l'a contactée pour lui dire qu'elle a été enfermée sur le balcon par son mari, M. Cédric BYRDE. Ce dernier est ivre. Couple en instance de séparation.\",\n",
       " '1 auto, dans la forêt, après une perte de maîtrise. Elève conducteur accompagné, pas de blessé. Chaussée pas obstruée.',\n",
       " \"Bruit de musique provenant d'un appartement situé sous le foyer.\",\n",
       " '1 chat mâle roux, 1 an, puce n° 756098100736947, collier rouge avec une clochette. A disparu du domicile depuis le 19 septembre',\n",
       " 'OP GUCCI 7 véhicules et 9 inspecteur avec DARD interpellation possible',\n",
       " 'A retrouvé dans sa cave des effets dans un sac. Des livres ainsi qu\\'un pantalon. \"Inscription Bellechasse\"',\n",
       " 'Entend de la musique depuis 20min devant le bâtiment.',\n",
       " \"Problèmes au sein du couple. le mari a quitté le domicile au volant de la Citroën C3 bleue VD-544'935\"]"
      ]
     },
     "execution_count": 13,
     "metadata": {},
     "output_type": "execute_result"
    }
   ],
   "source": [
    "l_set_exposes = list(set_exposes)\n",
    "print(len(l_set_exposes))\n",
    "l_set_exposes[:10]"
   ]
  },
  {
   "cell_type": "code",
   "execution_count": null,
   "metadata": {},
   "outputs": [],
   "source": []
  },
  {
   "cell_type": "markdown",
   "metadata": {},
   "source": [
    "## Catégories comme nouveaux DataFrame"
   ]
  },
  {
   "cell_type": "markdown",
   "metadata": {},
   "source": [
    "On peut obtenir un nouveau DataFrame correspondant seulement aux enregistrements dont la CATEGORIE a une certaine valeur.\n",
    "\n",
    "On considère par exemple la catégorie d'indice 4 dans la liste des catégories sans doublons **l_set_cats**."
   ]
  },
  {
   "cell_type": "code",
   "execution_count": 14,
   "metadata": {},
   "outputs": [
    {
     "data": {
      "text/plain": [
       "'PANNE - TELEPHONE'"
      ]
     },
     "execution_count": 14,
     "metadata": {},
     "output_type": "execute_result"
    }
   ],
   "source": [
    "l_set_cats[4]"
   ]
  },
  {
   "cell_type": "markdown",
   "metadata": {},
   "source": [
    "Les indices des enregistrements dans la DataFrame globale **efs** correspondant aux enregistrements dont la catégorie a une certaine valeur, dans cet exemple la catégorie d'indice 22 dans la liste des catégories sans doublons **l_set_cats**."
   ]
  },
  {
   "cell_type": "code",
   "execution_count": 15,
   "metadata": {},
   "outputs": [
    {
     "name": "stdout",
     "output_type": "stream",
     "text": [
      "10\n"
     ]
    },
    {
     "data": {
      "text/plain": [
       "[5537, 48530, 59980, 65313, 69535, 92350, 96090, 100731, 121584, 141266]"
      ]
     },
     "execution_count": 15,
     "metadata": {},
     "output_type": "execute_result"
    }
   ],
   "source": [
    "indices_4 = efs.index[efs['CATEGORIE']==l_set_cats[4]].tolist()\n",
    "print(len(indices_4))\n",
    "indices_4[0:10]"
   ]
  },
  {
   "cell_type": "markdown",
   "metadata": {},
   "source": [
    "Le nouveau DataFrame contenant seulement les enregistrements dont la CATEGORIE a une certaine valeur."
   ]
  },
  {
   "cell_type": "code",
   "execution_count": 16,
   "metadata": {
    "scrolled": true
   },
   "outputs": [
    {
     "name": "stdout",
     "output_type": "stream",
     "text": [
      "10\n"
     ]
    },
    {
     "data": {
      "text/html": [
       "<div>\n",
       "<style scoped>\n",
       "    .dataframe tbody tr th:only-of-type {\n",
       "        vertical-align: middle;\n",
       "    }\n",
       "\n",
       "    .dataframe tbody tr th {\n",
       "        vertical-align: top;\n",
       "    }\n",
       "\n",
       "    .dataframe thead th {\n",
       "        text-align: right;\n",
       "    }\n",
       "</style>\n",
       "<table border=\"1\" class=\"dataframe\">\n",
       "  <thead>\n",
       "    <tr style=\"text-align: right;\">\n",
       "      <th></th>\n",
       "      <th>EXPOSES</th>\n",
       "      <th>CATEGORIE</th>\n",
       "    </tr>\n",
       "  </thead>\n",
       "  <tbody>\n",
       "    <tr>\n",
       "      <th>5537</th>\n",
       "      <td>Perturbation &gt;&gt; réseau téléphonique à l'intern...</td>\n",
       "      <td>PANNE - TELEPHONE</td>\n",
       "    </tr>\n",
       "    <tr>\n",
       "      <th>48530</th>\n",
       "      <td>Le CET nous avise que le 144 et le CTA sont in...</td>\n",
       "      <td>PANNE - TELEPHONE</td>\n",
       "    </tr>\n",
       "    <tr>\n",
       "      <th>59980</th>\n",
       "      <td>Saga et Saga Mobile out dès 1900.</td>\n",
       "      <td>PANNE - TELEPHONE</td>\n",
       "    </tr>\n",
       "  </tbody>\n",
       "</table>\n",
       "</div>"
      ],
      "text/plain": [
       "                                                 EXPOSES          CATEGORIE\n",
       "5537   Perturbation >> réseau téléphonique à l'intern...  PANNE - TELEPHONE\n",
       "48530  Le CET nous avise que le 144 et le CTA sont in...  PANNE - TELEPHONE\n",
       "59980                  Saga et Saga Mobile out dès 1900.  PANNE - TELEPHONE"
      ]
     },
     "execution_count": 16,
     "metadata": {},
     "output_type": "execute_result"
    }
   ],
   "source": [
    "efs_categorie_4 = efs.loc[efs['CATEGORIE']==l_set_cats[4]]\n",
    "print(len(efs_categorie_4))\n",
    "efs_categorie_4.head(3)"
   ]
  },
  {
   "cell_type": "code",
   "execution_count": 17,
   "metadata": {},
   "outputs": [
    {
     "data": {
      "text/plain": [
       "pandas.core.series.Series"
      ]
     },
     "execution_count": 17,
     "metadata": {},
     "output_type": "execute_result"
    }
   ],
   "source": [
    "type(efs['CATEGORIE']==l_set_cats[4])"
   ]
  },
  {
   "cell_type": "code",
   "execution_count": 18,
   "metadata": {},
   "outputs": [
    {
     "data": {
      "text/html": [
       "<div>\n",
       "<style scoped>\n",
       "    .dataframe tbody tr th:only-of-type {\n",
       "        vertical-align: middle;\n",
       "    }\n",
       "\n",
       "    .dataframe tbody tr th {\n",
       "        vertical-align: top;\n",
       "    }\n",
       "\n",
       "    .dataframe thead th {\n",
       "        text-align: right;\n",
       "    }\n",
       "</style>\n",
       "<table border=\"1\" class=\"dataframe\">\n",
       "  <thead>\n",
       "    <tr style=\"text-align: right;\">\n",
       "      <th></th>\n",
       "      <th>EXPOSES</th>\n",
       "      <th>CATEGORIE</th>\n",
       "    </tr>\n",
       "  </thead>\n",
       "  <tbody>\n",
       "    <tr>\n",
       "      <th>0</th>\n",
       "      <td>Perturbation &gt;&gt; réseau téléphonique à l'intern...</td>\n",
       "      <td>PANNE - TELEPHONE</td>\n",
       "    </tr>\n",
       "    <tr>\n",
       "      <th>1</th>\n",
       "      <td>Le CET nous avise que le 144 et le CTA sont in...</td>\n",
       "      <td>PANNE - TELEPHONE</td>\n",
       "    </tr>\n",
       "    <tr>\n",
       "      <th>2</th>\n",
       "      <td>Saga et Saga Mobile out dès 1900.</td>\n",
       "      <td>PANNE - TELEPHONE</td>\n",
       "    </tr>\n",
       "  </tbody>\n",
       "</table>\n",
       "</div>"
      ],
      "text/plain": [
       "                                             EXPOSES          CATEGORIE\n",
       "0  Perturbation >> réseau téléphonique à l'intern...  PANNE - TELEPHONE\n",
       "1  Le CET nous avise que le 144 et le CTA sont in...  PANNE - TELEPHONE\n",
       "2                  Saga et Saga Mobile out dès 1900.  PANNE - TELEPHONE"
      ]
     },
     "execution_count": 18,
     "metadata": {},
     "output_type": "execute_result"
    }
   ],
   "source": [
    "efs_categorie_4.reset_index(inplace=True, drop=True)\n",
    "efs_categorie_4.head(3)"
   ]
  },
  {
   "cell_type": "code",
   "execution_count": 19,
   "metadata": {
    "scrolled": true
   },
   "outputs": [
    {
     "data": {
      "text/plain": [
       "['ABUS - DE CONFIANCE',\n",
       " 'ABUS - DU TELEPHONE',\n",
       " 'ACCIDENT',\n",
       " 'ACCIDENT - AVEC DES EXPLOSIFS',\n",
       " \"ACCIDENT - D'ASCENCEUR\"]"
      ]
     },
     "execution_count": 19,
     "metadata": {},
     "output_type": "execute_result"
    }
   ],
   "source": [
    "l_set_cat_tri = sorted(l_set_cats)\n",
    "l_set_cat_tri[:5]"
   ]
  },
  {
   "cell_type": "markdown",
   "metadata": {},
   "source": [
    "## Exposés comme nouveaux DataFrame"
   ]
  },
  {
   "cell_type": "markdown",
   "metadata": {},
   "source": [
    "On peut obtenir un nouveau DataFrame correspondant seulement aux enregistrements dont la colonne EXPOSES a une certaine valeur.\n",
    "\n",
    "On considère par exemple l'exposé d'indice 12122 dans la liste des exposés sans doublons **l_set_exposes**."
   ]
  },
  {
   "cell_type": "code",
   "execution_count": 20,
   "metadata": {},
   "outputs": [
    {
     "data": {
      "text/plain": [
       "'une bagarre entre 4-5 personnes. '"
      ]
     },
     "execution_count": 20,
     "metadata": {},
     "output_type": "execute_result"
    }
   ],
   "source": [
    "l_set_exposes[12122]"
   ]
  },
  {
   "cell_type": "markdown",
   "metadata": {},
   "source": [
    "Les indices des enregistrements dans la DataFrame globale **efs** correspondant aux enregistrements dont l'exposé a une certaine valeur, dans cet exemple l'exposé d'indice 4 dans la liste des exposés sans doublons **l_set_exposes**."
   ]
  },
  {
   "cell_type": "code",
   "execution_count": 21,
   "metadata": {},
   "outputs": [
    {
     "name": "stdout",
     "output_type": "stream",
     "text": [
      "3\n"
     ]
    },
    {
     "data": {
      "text/plain": [
       "[42554, 42555, 42557]"
      ]
     },
     "execution_count": 21,
     "metadata": {},
     "output_type": "execute_result"
    }
   ],
   "source": [
    "indices_exposes_12122 = efs.index[efs['EXPOSES']==l_set_exposes[12122]].tolist()\n",
    "print(len(indices_exposes_12122))\n",
    "indices_exposes_12122[0:10]"
   ]
  },
  {
   "cell_type": "markdown",
   "metadata": {},
   "source": [
    "Le nouveau DataFrame contenant seulement les enregistrements dont la colonne EXPOSES a une certaine valeur."
   ]
  },
  {
   "cell_type": "code",
   "execution_count": 22,
   "metadata": {},
   "outputs": [
    {
     "name": "stdout",
     "output_type": "stream",
     "text": [
      "3\n"
     ]
    },
    {
     "data": {
      "text/html": [
       "<div>\n",
       "<style scoped>\n",
       "    .dataframe tbody tr th:only-of-type {\n",
       "        vertical-align: middle;\n",
       "    }\n",
       "\n",
       "    .dataframe tbody tr th {\n",
       "        vertical-align: top;\n",
       "    }\n",
       "\n",
       "    .dataframe thead th {\n",
       "        text-align: right;\n",
       "    }\n",
       "</style>\n",
       "<table border=\"1\" class=\"dataframe\">\n",
       "  <thead>\n",
       "    <tr style=\"text-align: right;\">\n",
       "      <th></th>\n",
       "      <th>EXPOSES</th>\n",
       "      <th>CATEGORIE</th>\n",
       "    </tr>\n",
       "  </thead>\n",
       "  <tbody>\n",
       "    <tr>\n",
       "      <th>42554</th>\n",
       "      <td>une bagarre entre 4-5 personnes.</td>\n",
       "      <td>ARMES</td>\n",
       "    </tr>\n",
       "    <tr>\n",
       "      <th>42555</th>\n",
       "      <td>une bagarre entre 4-5 personnes.</td>\n",
       "      <td>BAGARRE</td>\n",
       "    </tr>\n",
       "    <tr>\n",
       "      <th>42557</th>\n",
       "      <td>une bagarre entre 4-5 personnes.</td>\n",
       "      <td>APPREHENSION / ARRESTATION</td>\n",
       "    </tr>\n",
       "  </tbody>\n",
       "</table>\n",
       "</div>"
      ],
      "text/plain": [
       "                                 EXPOSES                   CATEGORIE\n",
       "42554  une bagarre entre 4-5 personnes.                        ARMES\n",
       "42555  une bagarre entre 4-5 personnes.                      BAGARRE\n",
       "42557  une bagarre entre 4-5 personnes.   APPREHENSION / ARRESTATION"
      ]
     },
     "execution_count": 22,
     "metadata": {},
     "output_type": "execute_result"
    }
   ],
   "source": [
    "efs_exposes_12122 = efs.loc[efs['EXPOSES']==l_set_exposes[12122]]\n",
    "print(len(efs_exposes_12122))\n",
    "efs_exposes_12122.head()"
   ]
  },
  {
   "cell_type": "code",
   "execution_count": 23,
   "metadata": {},
   "outputs": [
    {
     "data": {
      "text/plain": [
       "pandas.core.series.Series"
      ]
     },
     "execution_count": 23,
     "metadata": {},
     "output_type": "execute_result"
    }
   ],
   "source": [
    "type(efs['EXPOSES']==l_set_exposes[12122])"
   ]
  },
  {
   "cell_type": "code",
   "execution_count": 24,
   "metadata": {},
   "outputs": [
    {
     "data": {
      "text/html": [
       "<div>\n",
       "<style scoped>\n",
       "    .dataframe tbody tr th:only-of-type {\n",
       "        vertical-align: middle;\n",
       "    }\n",
       "\n",
       "    .dataframe tbody tr th {\n",
       "        vertical-align: top;\n",
       "    }\n",
       "\n",
       "    .dataframe thead th {\n",
       "        text-align: right;\n",
       "    }\n",
       "</style>\n",
       "<table border=\"1\" class=\"dataframe\">\n",
       "  <thead>\n",
       "    <tr style=\"text-align: right;\">\n",
       "      <th></th>\n",
       "      <th>EXPOSES</th>\n",
       "      <th>CATEGORIE</th>\n",
       "    </tr>\n",
       "  </thead>\n",
       "  <tbody>\n",
       "    <tr>\n",
       "      <th>0</th>\n",
       "      <td>une bagarre entre 4-5 personnes.</td>\n",
       "      <td>ARMES</td>\n",
       "    </tr>\n",
       "    <tr>\n",
       "      <th>1</th>\n",
       "      <td>une bagarre entre 4-5 personnes.</td>\n",
       "      <td>BAGARRE</td>\n",
       "    </tr>\n",
       "    <tr>\n",
       "      <th>2</th>\n",
       "      <td>une bagarre entre 4-5 personnes.</td>\n",
       "      <td>APPREHENSION / ARRESTATION</td>\n",
       "    </tr>\n",
       "  </tbody>\n",
       "</table>\n",
       "</div>"
      ],
      "text/plain": [
       "                             EXPOSES                   CATEGORIE\n",
       "0  une bagarre entre 4-5 personnes.                        ARMES\n",
       "1  une bagarre entre 4-5 personnes.                      BAGARRE\n",
       "2  une bagarre entre 4-5 personnes.   APPREHENSION / ARRESTATION"
      ]
     },
     "execution_count": 24,
     "metadata": {},
     "output_type": "execute_result"
    }
   ],
   "source": [
    "efs_exposes_12122.reset_index(inplace=True, drop=True)\n",
    "efs_exposes_12122.head()"
   ]
  },
  {
   "cell_type": "code",
   "execution_count": 25,
   "metadata": {},
   "outputs": [
    {
     "data": {
      "text/plain": [
       "['     swiss auto trader',\n",
       " \"  c/o SUBITHA YOGANANTHARAJAH au 3ème étage L'informatrice a été témoin de violences dans le couple. La victime est enfermée dans une pièce. Le mari est toujours sur place. Situation calme.\",\n",
       " \" 1 RA, pour des habits, pour un montant dépassant CHF 1000.- Il n'est pas encore en violation de domicile !\",\n",
       " ' 1 auto sur BAU ouverte en train de changer une roue.',\n",
       " ' 1 panneau de signalisation a été couché au milieu du giratoire.']"
      ]
     },
     "execution_count": 25,
     "metadata": {},
     "output_type": "execute_result"
    }
   ],
   "source": [
    "l_set_exposes_tri = sorted(l_set_exposes)\n",
    "l_set_exposes_tri[:5]"
   ]
  },
  {
   "cell_type": "code",
   "execution_count": null,
   "metadata": {},
   "outputs": [],
   "source": []
  },
  {
   "cell_type": "markdown",
   "metadata": {},
   "source": [
    "## Dictionnaires"
   ]
  },
  {
   "cell_type": "markdown",
   "metadata": {},
   "source": [
    "Par la suite, on va travailler avec un dictionnaire **dico** dont les éléments sont des couples où la clé est une catégorie et la valeur est une liste de strings correspondant aux exposés des faits associés à cette catégorie."
   ]
  },
  {
   "cell_type": "markdown",
   "metadata": {},
   "source": [
    "La fonction **show** affiche les **n_cats** premiers couples d'un dictionnaire et pour chaque couple affiche sa catégorie et les **n_expos** exposés des faits associés à cette catégorie."
   ]
  },
  {
   "cell_type": "code",
   "execution_count": 26,
   "metadata": {},
   "outputs": [],
   "source": [
    "def show(dictionnaire, n_cats, n_expos):\n",
    "    i=0\n",
    "    for cat,expos in dictionnaire.items():\n",
    "        j=0\n",
    "        print(cat,end='\\n***************\\n')\n",
    "        for expo in expos:\n",
    "            print(expo,end='\\n----------------\\n')\n",
    "            j+=1\n",
    "            if j == n_expos:\n",
    "                break \n",
    "        i+=1\n",
    "        if i == n_cats:\n",
    "            break"
   ]
  },
  {
   "cell_type": "markdown",
   "metadata": {},
   "source": [
    "**l_efs_par_cat** est une liste des DataFrame où chaque DataFrame a la même valeur pour la colonne catégorie"
   ]
  },
  {
   "cell_type": "code",
   "execution_count": 27,
   "metadata": {},
   "outputs": [
    {
     "name": "stdout",
     "output_type": "stream",
     "text": [
      "421\n",
      "<class 'pandas.core.frame.DataFrame'>\n",
      "                                             EXPOSES          CATEGORIE\n",
      "0  Perturbation >> réseau téléphonique à l'intern...  PANNE - TELEPHONE\n",
      "1  Le CET nous avise que le 144 et le CTA sont in...  PANNE - TELEPHONE\n",
      "2                  Saga et Saga Mobile out dès 1900.  PANNE - TELEPHONE\n",
      "     EXPOSES                                          CATEGORIE\n",
      "0  AGRESSION  ALARME AGRESSION - 421796 - 2  - BUCHERER S.A....\n",
      "1  AGRESSION  ALARME AGRESSION - 421796 - 2  - BUCHERER S.A....\n",
      "2  AGRESSION  ALARME AGRESSION - 421796 - 2  - BUCHERER S.A....\n"
     ]
    }
   ],
   "source": [
    "l_efs_par_cat = []\n",
    "for cat in l_set_cats:\n",
    "    df = efs.query('CATEGORIE == @cat', inplace=False)\n",
    "    #df.drop(['index'], axis=1, inplace=True)\n",
    "    df.reset_index(inplace=True, drop=True)\n",
    "    l_efs_par_cat.append(df)\n",
    "print(len(l_efs_par_cat))\n",
    "print(type(l_efs_par_cat[22]))\n",
    "print(l_efs_par_cat[4][0:3])\n",
    "print(l_efs_par_cat[20][0:3])\n",
    "#l_efs_par_cat[22].head()\n",
    "#l_efs_par_cat[22]\n",
    "#print(l_efs_par_cat)"
   ]
  },
  {
   "cell_type": "markdown",
   "metadata": {},
   "source": [
    "On crée le dictionnaire **dico_cat_lExpos** qui a comme clés les catégories distinctes et comme valeurs des listes avec les exposés des faits correspondants (à chaque clé-catégorie, on associe la valeur-liste avec ses exposés des faits)."
   ]
  },
  {
   "cell_type": "code",
   "execution_count": 28,
   "metadata": {},
   "outputs": [
    {
     "name": "stdout",
     "output_type": "stream",
     "text": [
      "Le nombre de clefs/catégories :  421 \n",
      "\n",
      "PANNE - TECHNIQUE\n",
      "***************\n",
      "plus possible de se mettre en conférence sur la ligne 058.262.07.33 dédiée aux conférences entre CS, Chef UGM et CET\n",
      "----------------\n",
      "ZSE HS\n",
      "----------------\n",
      "Panne informatique du \"vd.ch\". Demande le piquet DSI\n",
      "----------------\n",
      "PERTURBATION - RADIO\n",
      "***************\n",
      "Panne prescom\n",
      "----------------\n",
      "A 2 reprises, les Prescom ont \"lâchés\" puis la configuration a repris. De plus, les patrouilles PS auraient aussi des pertes de connexion. \n",
      "----------------\n",
      "Coupure Polycom dès 0830 pour des raisons de maintenance. Durée prévue jusque vers 1100. L'ensemble des communications radio se fera sur l'IDR33.\n",
      "----------------\n",
      "DISPARITION - MILITAIRE\n",
      "***************\n",
      "le soldat WÄLCHLI n'est pas entré en service à l'heure prévue à la caserne de Lyss. A contacté son Cdt de compagnie vers minuit avec le Natel d'un passant disant qu'il était en gare de Lausanne et avait loupé sa correspondance. Plus de nouvelles depuis. Police militaire pas dispo, demande contrôle en gare. Rappelle à 0138 : la recrue est arrivée à bon port.\n",
      "----------------\n",
      "MANIFESTATION\n",
      "***************\n",
      "Art on Ice - Malley\n",
      "----------------\n",
      "Match LS - Thun évalué vert. GDM gare avise que les supporter arrivent en gare - 5-10 individus cagoulés - jets de bouteilles - prennent le bus place de la gare.\n",
      "----------------\n",
      "Parc complet. Les automobilistes sont priés de sortir de l'A9 à la jonction de Montreux et de suivre les instructions des plantons de circulation\n",
      "----------------\n",
      "PANNE - TELEPHONE\n",
      "***************\n",
      "Perturbation >> réseau téléphonique à l'interne. Plus possible de contacter des numéro en interne. Par contre, les partenaires sont atteignables sans soucis.\n",
      "----------------\n",
      "Le CET nous avise que le 144 et le CTA sont injoignables. Simultanément on nous renseigne que le 117 rencontre également des problèmes.  Le no 021 315 15 15 n'est pas atteignable depuis l'extérieur.\n",
      "----------------\n",
      "Saga et Saga Mobile out dès 1900.\n",
      "----------------\n"
     ]
    }
   ],
   "source": [
    "dico_cat_lExpos = {}\n",
    "for df in l_efs_par_cat:\n",
    "    dico_cat_lExpos[df['CATEGORIE'][0]] = list(df['EXPOSES'].values)[:]\n",
    "print('Le nombre de clefs/catégories : ',len(list(dico_cat_lExpos.keys())), '\\n')\n",
    "show(dico_cat_lExpos,5,3)"
   ]
  },
  {
   "cell_type": "markdown",
   "metadata": {},
   "source": [
    "**dico_cat_nbExpos** est un dictionnaire dont les clés sont les catégories et les valeurs sont les nombres d'exposés par catégories"
   ]
  },
  {
   "cell_type": "code",
   "execution_count": 29,
   "metadata": {},
   "outputs": [],
   "source": [
    "dico_cat_nbExpos = {}\n",
    "for key,value in dico_cat_lExpos.items():\n",
    "    #print(key, ' ', len(value))\n",
    "    dico_cat_nbExpos[key] = len(value)"
   ]
  },
  {
   "cell_type": "markdown",
   "metadata": {},
   "source": [
    "On peut afficher les catégories avec les nombres d'exposés associés à chacune d'entre elles en ordre décroissant"
   ]
  },
  {
   "cell_type": "code",
   "execution_count": 30,
   "metadata": {},
   "outputs": [
    {
     "name": "stdout",
     "output_type": "stream",
     "text": [
      "DEMANDE - D'ASSISTANCE     17968\n",
      "TAPAGE NOCTURNE     7182\n",
      "ACCIDENT - DE CIRCULATION - DEGATS MATERIEL     7091\n",
      "ANIMAUX     6847\n",
      "VOL - PAR EFFRACTION     6657\n",
      "AR - DIVERS     5617\n",
      "INDIVIDU - SUSPECT     5261\n",
      "INFRACTION - LCR     5141\n",
      "INDIVIDU - PERTURBE     4727\n",
      "AR - PANNE - VEHICULE     3318\n",
      "OPERATION     3149\n",
      "DOMMAGES - A LA PROPRIETE     2867\n",
      "APPREHENSION / ARRESTATION     2510\n",
      "BAGARRE     2496\n",
      "CIRCULATION - ROUTIERE     2447\n",
      "AR - ACCIDENT     2337\n",
      "REVOCATION     2317\n",
      "LITIGE     2296\n",
      "MINEUR - IMPLIQUE     2287\n",
      "INDESIRABLE     2265\n",
      "ACCIDENT - DE CIRCULATION - AVEC FUITE     2213\n",
      "VEHICULE - SUSPECT     2199\n",
      "INCENDIE     2085\n",
      "ACCIDENT - DE CIRCULATION - AVEC BLESSE     1960\n",
      "VOL     1918\n",
      "DROGUE     1813\n",
      "ACCIDENT - DE CIRCULATION - AVEC ANIMAL     1714\n",
      "DEMANDE - D'AMBULANCE     1662\n",
      "VOL - A L'ETALAGE     1611\n",
      "FUITE - D'UN LIEU DE PLACEMENT     1466\n",
      "VIOLENCE - DOMESTIQUE     1437\n",
      "TENTATIVE     1369\n",
      "COLLABORATION - INTERPOLICE     1340\n",
      "DEMANDE - IDENTIFICATION     1262\n",
      "VEHICULE     1164\n",
      "TROUBLE - DE LA TRANQUILLITE / NUISANCE     1144\n",
      "BRUIT     1067\n",
      "DANGER     988\n",
      "VOIES DE FAIT     947\n",
      "INDIVIDU - RECHERCHE     869\n",
      "ESCORTE     807\n",
      "DISPARITION     797\n",
      "FUITE - D'UN HOPITAL PSY     782\n",
      "DEMANDE - AMBULANCE     765\n",
      "POLLUTION - HYDROCARBURES     719\n",
      "DEMANDE - DE CANTONNIERS     709\n",
      "OBJETS - TROUVES     673\n",
      "INQUIETUDE - POUR UNE PERSONNE     669\n",
      "MENACES     624\n",
      "IDENTIFICATION     615\n",
      "TRANSPORT - SPECIAL     609\n",
      "VOL - PAR INTRODUCTION CLANDESTINE     591\n",
      "SCANDALE     579\n",
      "INFRACTION - LETR     553\n",
      "MOEURS     536\n",
      "ALARME - EFFRACTION     529\n",
      "INFORMATION     523\n",
      "INTEMPERIE     516\n",
      "MORT - SUSPECTE     516\n",
      "SIGNALISATION - ROUTIERE     515\n",
      "SIGNALISATION ROUTIERE - FOURNITURE - PANNE     496\n",
      "NAVIGATEUR EN DIFFICULTE     479\n",
      "INONDATION     476\n",
      "VOL - D'USAGE     474\n",
      "ARMES     470\n",
      "CAMBRIOLEUR A L'OEUVRE     445\n",
      "MANIFESTATION     438\n",
      "OPERATION - SPECIALE     438\n",
      "ACCIDENT - DE TRAVAIL     426\n",
      "OBJETS - SUSPECTS     402\n",
      "VIOLATION - DE DOMICILE     390\n",
      "IVRESSE     388\n",
      "INFRACTION - REGLEMENTS COMMUNAUX     372\n",
      "ACTIONS - SUBSEQUENTES     354\n",
      "AR - CHANTIER     351\n",
      "INTERPELLATION / ARRESTATION - APPREHENSION     343\n",
      "DIFFUSION - SIGNALEMENT     340\n",
      "AR - PANNE - TECHNIQUE     339\n",
      "DISPARITION - PERSONNE - A RISQUE     331\n",
      "AGRESSION - BRIGANDAGE     303\n",
      "MORT - NATURELLE     286\n",
      "CONTROLE A DOMICILE     278\n",
      "SUICIDE     267\n",
      "ALARME     264\n",
      "MENDICITE - COLLECTE     263\n",
      "LAC     259\n",
      "INFORMATION - COMPLEMENTAIRE     257\n",
      "AR - ALARME     256\n",
      "REQUERANT D'ASILE     256\n",
      "IMPORTATION - JEP     242\n",
      "PANNE - VEHICULE     241\n",
      "DISPARITION - D'ENFANT     240\n",
      "DISPARITION - ENFANT     237\n",
      "FAUSSE - MONNAIE     235\n",
      "PANNE - TECHNIQUE     234\n",
      "CHUTE - A DOMICILE     228\n",
      "LESIONS - CORPORELLES     212\n",
      "COMMUNIQUE - DE SERVICE     202\n",
      "VOL - A L'ASTUCE     202\n",
      "ODEUR - SUSPECTE     194\n",
      "MENDICITE     181\n",
      "POLLUTION     174\n",
      "SUICIDE - PAR EXIT     157\n",
      "PERTURBATION - TRAFIC     157\n",
      "OPERATION - GITANA     156\n",
      "ELECTRICITE     154\n",
      "VOL - A LA TIRE     150\n",
      "ESCROQUERIE     146\n",
      "FEUX A ECLIPSES - 45 TOURS     144\n",
      "INFRACTION - RGP     143\n",
      "TRANSFERT     140\n",
      "TRANSFERT - SECURISE - PERSONNES/PATIENTS     140\n",
      "DISPARITION - PERSONNE - AGEE     136\n",
      "ISSUE FATALE     135\n",
      "ACCIDENT - DE SPORT / LOISIRS     128\n",
      "COUPS DE FEU     119\n",
      "OBJETS - PERDUS     116\n",
      "FONCTIONNAIRE - IMPLIQUE     111\n",
      "CET - (Message réservé au CET)     108\n",
      "COFFRE-FORT     104\n",
      "GRAFFITIS     104\n",
      "SUICIDE - TENTATIVE     102\n",
      "LOCAUX OUVERTS     100\n",
      "OPERATION - BO     100\n",
      "FUITE - HOPITAL     100\n",
      "EXERCICE     99\n",
      "FUITE - CERY     95\n",
      "VOL - A L'ARRACHE     91\n",
      "AVIS - METEO - LAC     90\n",
      "ACCIDENT     90\n",
      "MUNITION / EXPLOSIF     86\n",
      "RUPTURE - CONDUITE EAU     84\n",
      "AGRESSION - SEXUELLE     83\n",
      "OPERATION - STRADA     82\n",
      "FUITE     82\n",
      "VIP     79\n",
      "RECHERCHE - EN MONTAGNE     74\n",
      "AR - INCENDIE     74\n",
      "DARD - UAT - ENGAGEMENT     73\n",
      "VIOLENCE - CONTRE FONCTIONNAIRES     68\n",
      "CHUTE - D'UN LIEU ELEVE     68\n",
      "DISPARITION - PERSONNE AGEE     67\n",
      "AVIATION - CIVILE     66\n",
      "OUVERTURE FORCEE     66\n",
      "EBLOUISSEMENT - LASER     65\n",
      "CHUTE - EN RUE     63\n",
      "ABUS - DU TELEPHONE     63\n",
      "DROIT GARDE ENFANT     60\n",
      "FILOUTERIE D'AUBERGE     58\n",
      "FALSIFICATION - DE DOCUMENTS     51\n",
      "GAZ     50\n",
      "PERMIS - SAISI     49\n",
      "OBTENTION FRAUDULEUSE D'UNE PRESTATION     47\n",
      "ACCIDENT - DE CIRCULATION - MORTEL     47\n",
      "ALARME EFFRACTION - 420627 - 11  - GRANDS MAGASINS MANOR - MAUS & CIE LAUSANNE (MAGASIN)     46\n",
      "COLPORTAGE     45\n",
      "ALARME - PIEGE     45\n",
      "MAUVAIS TRAITEMENT - ENFANT     40\n",
      "AR - CONTRESENS     40\n",
      "ALARME - AGRESSION     39\n",
      "ALARME GTC URGENT - ESPA - 148  - Alarmes bâtiment ESPA     39\n",
      "EVASION     37\n",
      "DANGERS     36\n",
      "ACCIDENT - DE SKI     36\n",
      "ACCIDENT - DE BAIN / NOYADE     35\n",
      "GRAND RISQUE - METEO     34\n",
      "ACCIDENT - DE NAVIGATION / NAUFRAGE     33\n",
      "PANNE - SAE     30\n",
      "ACCIDENT - PARACHUTE / PARAPENTE / AILE DELTA     30\n",
      "MILITAIRE - IMPLIQUE     30\n",
      "MEURTRE     29\n",
      "MISE EN DANGER DE LA VIE D'AUTRUI     27\n",
      "GRIPPE - AVIAIRE     27\n",
      "ACCIDENT - DE NAVIGATION / NAUFRAGE - NAVIGATEUR EN DIFFICULTE     27\n",
      "CHUTE - OBJET     26\n",
      "MANIFESTATION - SPONTANEE     26\n",
      "ALARME AGRESSION - 421473 - 1  - ALARME TEST CAE - NE PAS INTERVENIR     25\n",
      "OPERATION - AZUR     25\n",
      "ALARME EFFRACTION - 421796 - 1  - BUCHERER S.A. - SUCCURSALE DE LAUSANNE (BIJOUTERIE)     24\n",
      "ACCIDENT - DE MONTAGNE     23\n",
      "FORCENE     23\n",
      "POLLUTION - CHIMIQUE     22\n",
      "ACCIDENT - PERSONNE - TRAIN     22\n",
      "PIEGE - PIEGES SMS-GTM - 130  - Alarmes piège     21\n",
      "ALARME EFFRACTION - 421993 - 1  - BANQUE COOP S.A. (BANQUE)     21\n",
      "EBOULEMENT     21\n",
      "TERRORISME     21\n",
      "CHUTE - ARBRE     20\n",
      "EXPLOSION     19\n",
      "COLLABORATION - FRANCO-SUISSE.  - DEMANDE FRANCAISE     19\n",
      "ACTES - PERPARATOIRES     19\n",
      "COLIS - OBJET - SUSPECT     18\n",
      "SEQUESTRATION     18\n",
      "ABUS - DE CONFIANCE     18\n",
      "IDENTIFICATION - LOCALISATION - NATEL SCPT     17\n",
      "DELIT - INFORMATIQUE     17\n",
      "VOL - AU RENDEZ-MOI     16\n",
      "ENLEVEMENT     16\n",
      "HOLD-UP     15\n",
      "DISPARITION - SUR LE LAC     15\n",
      "PANNE - SAGA     15\n",
      "ACCIDENT - D'AVIATION - CIVILE     15\n",
      "ALARME EFFRACTION - 421968 - 1  - BCGE PRIVATE BANKING SWITZERLAND (BANQUE)     14\n",
      "NEIGE     14\n",
      "ALARME - TECHNIQUE     14\n",
      "ALARME - GTC - CHAUFFAGE-VENTILATION-CLIMATISATION     14\n",
      "ENLEVEMENT - D'ENFANT     13\n",
      "ALARME - GTC - ASCENSEURS     13\n",
      "ALARME EFFRACTION - 421250 - 2  - FONDATION DE L'HERMITAGE     13\n",
      "DELIT - DE CHASSE     13\n",
      "TREMBLEMENT DE TERRE     12\n",
      "ALARME - FEU     12\n",
      "PIEGE - PIEGES SMS-GTM - 125  - Alarmes piège     11\n",
      "ALARME MISE EN TEST - 421798 - MISTEST  - BANQUE CANTONALE VAUDOISE (BANQUE)     11\n",
      "DEPANNAGE - DOMAINE PRIVE - AVIS     11\n",
      "EVENEMENT - CONSEQUENT     11\n",
      "ALARME EFFRACTION - 420608 - 1  - Administration communale - BUREAU DES FINANCES (ADM.COMMUNALE)     11\n",
      "ALARME - ESPA - 28  - Alarmes bâtiment ESPA     11\n",
      "EXERCICE - PLANIFIE     11\n",
      "ALARME - A LA BOMBE     11\n",
      "PANNE - TELEPHONE     10\n",
      "ALARME MISE EN TEST - 421250 - MISTEST  - FONDATION DE L'HERMITAGE     10\n",
      "CHUTE - DE PIERRES     10\n",
      "ACCIDENT - D'ASCENCEUR     10\n",
      "CONTROLE - CHANTIER     10\n",
      "EPIZOOTIE - PANDEMIE     10\n",
      "OPERATION - DELESTA     9\n",
      "FUITE - DU UHPA     9\n",
      "SEUIL BAS     9\n",
      "AGRESSION     9\n",
      "PANNE - INFORMATIQUE - SAGA     9\n",
      "ACCIDENT - DE PLONGEE     8\n",
      "INJURES     8\n",
      "EVASION - NON RENTRE DE CONGE     8\n",
      "DISPOSITIF - D31     8\n",
      "ACCIDENT - DE TRAIN     8\n",
      "PANNE - TELEPHONE - SAGA     8\n",
      "ALARME MISE EN TEST - 421250 - MISTEST  - FONDATION DE L'HERMITAGE (MUSEE)     8\n",
      "ALARME - ESPA - 30  - Alarmes bâtiment ESPA     8\n",
      "ALARME MISE EN TEST - 421577 - MISTEST  - BUREAU DE LA FEDPOL - 3EME ETAGE (ADM. FEDERALE)     8\n",
      "GITANA     8\n",
      "CHANTAGE / - EXTORTION     8\n",
      "ALARME EFFRACTION - 421250 - 4  - FONDATION DE L'HERMITAGE (MUSEE)     7\n",
      "ALARME EFFRACTION - 421818 - 1  - BANQUE WIR (BANQUE)     7\n",
      "RECEL     7\n",
      "ALARME - SECUTEL     7\n",
      "ACCIDENT - D'ASCENSEUR     7\n",
      "ALARME EFFRACTION - 421250 - 2  - FONDATION DE L'HERMITAGE (MUSEE)     7\n",
      "CHUTE - DE PIERRES - EBOULEMENT     7\n",
      "ALARME - GTC - INCENDIE     6\n",
      "POLYALERT - FAUSSE ALARME     6\n",
      "OSSEMENTS - DECOUVERTS     6\n",
      "PRISE D'OTAGES     6\n",
      "REQUERANT D'ASILE - DEMANDE D'ASILE     6\n",
      "ALARME MISE EN TEST - 420627 - MISTEST  - GRANDS MAGASINS MANOR - MAUS & CIE LAUSANNE (MAGASIN)     6\n",
      "SANS ABRI     6\n",
      "CONTROLE CIRCULATION     6\n",
      "ALARME PIEGE - PIEGES PML - CRITERE PGR21  - PGR     6\n",
      "PIEGE - PIEGES SMS-GTM - 142  - Alarmes piège     6\n",
      "OPERATION - BPS     6\n",
      "ALARME AGRESSION - 421796 - 2  - BUCHERER S.A. - SUCCURSALE DE LAUSANNE (BIJOUTERIE)     5\n",
      "PIEGE - PIEGES SMS-GTM - 141  - Alarmes piège     5\n",
      "ALARME MISE EN TEST - 421137 - MISTEST  - Monsieur Periclès-Paul PETALAS (VILLA)     5\n",
      "OPERATION - GIRO - EXTERIEURE     5\n",
      "INTOXICATION     5\n",
      "ALARME EFFRACTION - 421250 - 4  - FONDATION DE L'HERMITAGE     5\n",
      "ALARME MISE EN TEST - 421796 - MISTEST  - BUCHERER S.A. - SUCCURSALE DE LAUSANNE (BIJOUTERIE)     5\n",
      "COLLABORATION - FRANCO-SUISSE.  - DEMANDE VAUDOISE     5\n",
      "DELIT - DE PECHE     5\n",
      "ALARME EFFRACTION - 421897 - 1  - SERVICES INDUSTRIELS (ADM. COMMUNALE)     5\n",
      "ALARME AGRESSION - 420268 - 8  - PMU - Bugnon Est     5\n",
      "ALARME EFFRACTION - 351528 - 1  - Banque Cramer      5\n",
      "AVALANCHE     5\n",
      "FUITE - DU UHPA-CTJA     5\n",
      "AVIATION - MILITAIRE     5\n",
      "ALARME MISE EN TEST - 421993 - MISTEST  - BANQUE COOP S.A. (BANQUE)     5\n",
      "ALARME AGRESSION - 421473 - 2  - ALARME TEST CAE - NE PAS INTERVENIR     4\n",
      "GRAND RISQUE - LAC LEMAN     4\n",
      "TAUDIS     4\n",
      "OPERATION - ID     4\n",
      "ALARME - ESPA - 27  - Alarmes bâtiment ESPA     4\n",
      "ALARME AGRESSION - ESPA - 103  - Alarmes bâtiment ESPA     4\n",
      "DIFFAMATION     4\n",
      "PANNE - TUSNET     4\n",
      "CHUTE - LIGNE ELECTRIQUE     4\n",
      "FUITE - DU CAV     4\n",
      "ALARME AGRESSION - 421473 - 8  - ALARME TEST CAE - NE PAS INTERVENIR     4\n",
      "GIRO     4\n",
      "PERTURBATION - RADIO     3\n",
      "PIEGE - PIEGES SMS-GTM - 136  - Alarmes piège     3\n",
      "PIEGE - PIEGES SMS-GTM - 124  - Alarmes piège     3\n",
      "ALARME EFFRACTION - 420610 - 2  - VILLE DE LAUSANNE - SERVICE DES GERANCES (PARKING)     3\n",
      "ALARME PRISE OTAGE - 421473 - 3  - ALARME TEST CAE - NE PAS INTERVENIR     3\n",
      "ALARME AGRESSION - 351522 - 7  - CHUV direction des constructions ingénierie et technique     3\n",
      "MALADIE - TRANSMISSIBLE     3\n",
      "ALERTE - ENLEVEMENT     3\n",
      "ALARME MISE EN TEST - 420610 - MISTEST  - VILLE DE LAUSANNE - SERVICE DES GERANCES (PARKING)     3\n",
      "ALARME - GTC - AGRESSION     3\n",
      "ALARME - GTC - LIAISON SERIELLE     3\n",
      "ELECTROCUTION     3\n",
      "ALARME - PRISE D'OTAGES     3\n",
      "ACCIDENT - EN RIVIERE     3\n",
      "PIEGE - PIEGES SMS-GTM - 131  - Alarmes piège     3\n",
      "ALARME MISE EN TEST - 351528 - MISTEST  - Banque Cramer      3\n",
      "ALARME MISE EN TEST - 420608 - MISTEST  - Administration communale - BUREAU DES FINANCES (ADM.COMMUNALE)     3\n",
      "PIEGE - PIEGES SMS-GTM - 150  - Alarmes piège     3\n",
      "ALARME PRISE OTAGE - 421796 - 3  - BUCHERER S.A. - SUCCURSALE DE LAUSANNE (BIJOUTERIE)     3\n",
      "GRAND RISQUE - CANICULE     3\n",
      "IDENTIFICATION - RACCORDEMENT TELEPHONIQUE     3\n",
      "TRANSPORT - DE VALEUR     3\n",
      "EPIZOOTIE     3\n",
      "ALARME EFFRACTION - 421137 - 1  - Monsieur Periclès-Paul PETALAS (VILLA)     3\n",
      "OPERATION - JOMA     3\n",
      "PIEGE - PIEGES SMS-GTM - 132  - Alarmes piège     2\n",
      "ALARME AGRESSION - 421798 - 2  - BANQUE CANTONALE VAUDOISE (BANQUE)     2\n",
      "PLAN - RENONCIATION - CET     2\n",
      "BLANCHIMENT - ARGENT SALE     2\n",
      "EXPORT - INTER - AGENCES     2\n",
      "AMOK     2\n",
      "OVNI     2\n",
      "ALARME PIEGE - PIEGES PML - CRITERE PGR22  - PGR     2\n",
      "ALARME PIEGE - PIEGES PML - CRITERE PGR24  - PGR     2\n",
      "ALARME GTC INCENDIE - ESPA - 131  - Alarmes bâtiment ESPA     2\n",
      "ALARME - RADIOACTIVITE     2\n",
      "PIEGE - PIEGES SMS-GTM - 127  - Alarmes piège     2\n",
      "ORCA     2\n",
      "ALARME MISE EN TEST - 611611 - 611611 MISTEST  - DOSSIER FORMATION CAE     2\n",
      "ACCIDENT - NOMBREUX BLESSES     2\n",
      "PIEGE - PIEGES SMS-GTM - 141_TEST  - Alarmes piège     2\n",
      "FEUX A ECLIPSES - 90 TOURS     2\n",
      "ACCIDENT - AVEC DES EXPLOSIFS     2\n",
      "ACCIDENT - PERSONNE     2\n",
      "ALARME AGRESSION - 421802 - 2  - SECURITAS S.A. - CERTAS - SECURITAS DIRECT S.A.     2\n",
      "ALARME GTC ASCENSEUR - ESPA - 115  - Alarmes bâtiment ESPA     2\n",
      "RECHERCHE - ALARME - VAUD     2\n",
      "ALARME GTC  CHAUFFAGE-VENTILATION - ESPA - 192  - Alarmes bâtiment ESPA     2\n",
      "EVASION - DES EPO     2\n",
      "ALARME AGRESSION - 421473 - 4  - ALARME TEST CAE - NE PAS INTERVENIR     2\n",
      "ALARME AGRESSION - 420686 - 2  - LAUSANNE-PALACE S.A. (HÔTEL)     2\n",
      "ATTENTAT     2\n",
      "PLAN - TRANSFRONTALIER     2\n",
      "PIEGE - PIEGES SMS-GTM - 135  - Alarmes piège     2\n",
      "PIEGE - PIEGES SMS-GTM - 123_TEST  - Alarmes piège     2\n",
      "ALARME - ESPA - 26  - Alarmes bâtiment ESPA     2\n",
      "ALARME PIEGE - PIEGES PML - CRITERE PGR17  - PGR     2\n",
      "RECHERCHE - ALARME - CONFEDEREE     2\n",
      "ALARME GTC INCENDIE - ESPA - 134  - Alarmes bâtiment ESPA     2\n",
      "ALARME MISE EN TEST - 421968 - MISTEST  - BCGE PRIVATE BANKING SWITZERLAND (BANQUE)     2\n",
      "ALARME EFFRACTION - 611611 - 611611 K01  - DOSSIER FORMATION CAE     2\n",
      "ALARME AGRESSION - 351528 - 2  - Banque Cramer      2\n",
      "ALARME MISE EN TEST - 421818 - MISTEST  - BANQUE WIR (BANQUE)     2\n",
      "ACCIDENT - DE CHASSE     2\n",
      "DISPARITION - MILITAIRE     1\n",
      "PIEGE - PIEGES SMS-GTM - 140  - Alarmes piège     1\n",
      "INDUCTION DE LA JUSTICE EN ERREUR     1\n",
      "PIEGE - PIEGES SMS-GTM - 134  - Alarmes piège     1\n",
      "CONTROLE A RISQUE     1\n",
      "ALARME EFFRACTION - 421968 - 4  - BCGE PRIVATE BANKING SWITZERLAND (BANQUE)     1\n",
      "REQUERANT D'ASILE - ACTES HOSTILES     1\n",
      "EFFONDREMENT     1\n",
      "ALARME AGRESSION - 421798 - 1  - BANQUE CANTONALE VAUDOISE (BANQUE)     1\n",
      "PIEGE - PIEGES SMS-GTM - 130_TEST  - Alarmes piège     1\n",
      "DEGATS - A LA FAUNE     1\n",
      "ALARME - 270037 - 2  - 270037 CERTAS     1\n",
      "ALARME PIEGE - PIEGES PML - CRITERE PGR25  - PGR     1\n",
      "ALARME AGRESSION - 421802 - 1  - SECURITAS S.A. - CERTAS - SECURITAS DIRECT S.A.     1\n",
      "ALARME MISE EN TEST - 421802 - MISTEST K02  - SECURITAS S.A. - CERTAS - SECURITAS DIRECT S.A.     1\n",
      "PIEGE - PIEGES SMS-GTM - 124_TEST  - Alarmes piège     1\n",
      "PIEGE - PIEGES SMS-GTM - 132_TEST  - Alarmes piège     1\n",
      "ALARME GTC INCENDIE - ESPA - 191  - Alarmes bâtiment ESPA     1\n",
      "ALARME PRISE OTAGE - 421793 - 3  - FREDY SADIK S.A. - BIJOUTERIE (COMMERCE)     1\n",
      "FALSIFICATION - DE MARCHANDISE     1\n",
      "DEGATS - A LA FLORE     1\n",
      "ALARME - REELLE     1\n",
      "ALARME EFFRACTION - 420503 - 1  - Piscine de Mon-Repos (Piscine)     1\n",
      "ALARME GTC URGENT - ESPA - 147  - Alarmes bâtiment ESPA     1\n",
      "PIEGE - PIEGES SMS-GTM - 121  - Alarmes piège     1\n",
      "PIEGE - PIEGES SMS-GTM - 149  - Alarmes piège     1\n",
      "REQUERANT D'ASILE - - DECEDE     1\n",
      "ALARME - GTC - TELEPHONES     1\n",
      "COLLABORATION - LEMANIQUE     1\n",
      "ALARME GTC INCENDIE - ESPA - 36  - Alarmes bâtiment ESPA     1\n",
      "MUTINERIE / EMEUTE     1\n",
      "ETAT MAJOR - DE CONDUITE     1\n",
      "ALARME MISE EN TEST - 420616 - MISTEST  - GLOBUS (MAGASIN)     1\n",
      "ALARME AGRESSION - 421993 - 2  - BANQUE COOP S.A. (BANQUE)     1\n",
      "ALARME GTC  CHAUFFAGE-VENTILATION - ESPA - 105  - Alarmes bâtiment ESPA     1\n",
      "ALARME - GTC - RESEAU ELECTRIQUE     1\n",
      "ACCIDENT - DE TIR     1\n",
      "ALARME - CONDUITE SPEN     1\n",
      "PIEGE - PIEGES SMS-GTM - 111  - Alarmes piège     1\n",
      "MALADIE - INFECTIEUSE     1\n",
      "ALARME AGRESSION - 421250 - 10  - FONDATION DE L'HERMITAGE     1\n",
      "ENTRAIDE - JUDICIAIRE     1\n",
      "HANDICAP     1\n",
      "ALARME - MALFAITEUR     1\n",
      "FAUSSE - ALERTE     1\n",
      "EVASION - ASSISTANCE     1\n",
      "PIEGE - PIEGES SMS-GTM - 123  - Alarmes piège     1\n",
      "ALARME PRISE OTAGE - 420608 - 3  - Administration communale - BUREAU DES FINANCES (ADM.COMMUNALE)     1\n",
      "PIEGE - PIEGES SMS-GTM - 129  - Alarmes piège     1\n",
      "PIEGE - PIEGES SMS-GTM - 145  - Alarmes piège     1\n",
      "ALARME - BIJOUTERIE     1\n",
      "OPERATION - CARBURA - VAUD     1\n",
      "REQUERANT D'ASILE - SIGNALE / REFUS DE DEPART     1\n",
      "ALARME MISE EN TEST - 421897 - MISTEST  - SERVICES INDUSTRIELS (ADM. COMMUNALE)     1\n",
      "OPERATION - GIRO - VAUD     1\n",
      "ALARME GTC INCENDIE - ESPA - 137  - Alarmes bâtiment ESPA     1\n",
      "PIEGE - PIEGES SMS-GTM - 126  - Alarmes piège     1\n",
      "ALARME GTC  CHAUFFAGE-VENTILATION - ESPA - 2  - Alarmes bâtiment ESPA     1\n",
      "ALARME AGRESSION - 421818 - 2  - BANQUE WIR (BANQUE)     1\n",
      "DANGER - D'AVALANCHE     1\n",
      "GRAND RISQUE - CRUE     1\n",
      "REQUERANT D'ASILE - - MANIFESTATION     1\n",
      "EVASION - LORS D'UN TRANSFERT     1\n",
      "ALARME - 420510 - 1  - 420510 CERTAS     1\n",
      "ALARME PRISE OTAGE - 420221 - 3  - BANQUE PRIVEE EDMOND DE ROTHSCHILD SA     1\n",
      "GRAND RISQUE - TUNNEL MONT D'OR     1\n",
      "D31     1\n",
      "ALARME PIEGE - PIEGES PML - CRITERE PGR16  - PGR     1\n",
      "TERO     1\n"
     ]
    }
   ],
   "source": [
    "for key,value in sorted(dico_cat_nbExpos.items(), key=operator.itemgetter(1), reverse=True):\n",
    "    print(key,'   ', value)"
   ]
  },
  {
   "cell_type": "markdown",
   "metadata": {},
   "source": [
    "On peut afficher les catégories avec les nombres d'exposés associés qui se trouvent dans une plage donnée en ordre décroissant"
   ]
  },
  {
   "cell_type": "code",
   "execution_count": 37,
   "metadata": {
    "scrolled": true
   },
   "outputs": [
    {
     "name": "stdout",
     "output_type": "stream",
     "text": [
      "DEMANDE - D'ASSISTANCE     17968\n",
      "TAPAGE NOCTURNE     7182\n",
      "ACCIDENT - DE CIRCULATION - DEGATS MATERIEL     7091\n",
      "ANIMAUX     6847\n",
      "VOL - PAR EFFRACTION     6657\n",
      "AR - DIVERS     5617\n",
      "INDIVIDU - SUSPECT     5261\n",
      "INFRACTION - LCR     5141\n",
      "INDIVIDU - PERTURBE     4727\n",
      "AR - PANNE - VEHICULE     3318\n",
      "OPERATION     3149\n",
      "DOMMAGES - A LA PROPRIETE     2867\n",
      "APPREHENSION / ARRESTATION     2510\n",
      "BAGARRE     2496\n",
      "CIRCULATION - ROUTIERE     2447\n",
      "AR - ACCIDENT     2337\n",
      "REVOCATION     2317\n",
      "LITIGE     2296\n",
      "MINEUR - IMPLIQUE     2287\n",
      "INDESIRABLE     2265\n",
      "ACCIDENT - DE CIRCULATION - AVEC FUITE     2213\n",
      "VEHICULE - SUSPECT     2199\n",
      "INCENDIE     2085\n",
      "ACCIDENT - DE CIRCULATION - AVEC BLESSE     1960\n",
      "VOL     1918\n",
      "DROGUE     1813\n",
      "ACCIDENT - DE CIRCULATION - AVEC ANIMAL     1714\n",
      "DEMANDE - D'AMBULANCE     1662\n",
      "VOL - A L'ETALAGE     1611\n",
      "FUITE - D'UN LIEU DE PLACEMENT     1466\n",
      "VIOLENCE - DOMESTIQUE     1437\n",
      "TENTATIVE     1369\n",
      "COLLABORATION - INTERPOLICE     1340\n",
      "DEMANDE - IDENTIFICATION     1262\n",
      "VEHICULE     1164\n",
      "TROUBLE - DE LA TRANQUILLITE / NUISANCE     1144\n",
      "BRUIT     1067\n",
      "Nombre catégories dans la plage :  37\n",
      "Nombre total d'exposés dans la plage :  122204\n"
     ]
    }
   ],
   "source": [
    "nb_cats = 0\n",
    "val_min = 1000\n",
    "val_max = 100000\n",
    "nb_expos_tot_plage = 0\n",
    "for key,value in sorted(dico_cat_nbExpos.items(), key=operator.itemgetter(1), reverse=True):\n",
    "    if value >= val_min and value <= val_max: \n",
    "        print(key,'   ', value)\n",
    "        nb_cats+=1\n",
    "        nb_expos_tot_plage+=value\n",
    "print('Nombre catégories dans la plage : ', nb_cats)\n",
    "print('Nombre total d\\'exposés dans la plage : ', nb_expos_tot_plage)"
   ]
  },
  {
   "cell_type": "markdown",
   "metadata": {},
   "source": [
    "**main_dico_cat_lExpos** est un dictionnaire dont les clés sont les catégories distinctes **avec plus de 1000 exposés associés** et les valeurs sont des listes d'exposés associés à ces catégories\n",
    "\n",
    "**l_main_cats** est une liste avec les catégories principales, i.e. avec plus de 1000 exposés associés\n",
    "\n",
    "**l_main_nbExpos** est la liste avec le nombre d'exposés par catégorie principale (dans le même ordre que les catégories de la liste l_main_cats)"
   ]
  },
  {
   "cell_type": "code",
   "execution_count": 51,
   "metadata": {},
   "outputs": [
    {
     "name": "stdout",
     "output_type": "stream",
     "text": [
      "Le nombre de catégories dans le main_dico_cat_lExpos : 37\n",
      "\n",
      "Nombre total d'exposés dans le main_dico_cat_lExpos : 122204\n",
      "\n",
      "[\"DEMANDE - D'ASSISTANCE\", 'TAPAGE NOCTURNE', 'ACCIDENT - DE CIRCULATION - DEGATS MATERIEL', 'ANIMAUX', 'VOL - PAR EFFRACTION', 'AR - DIVERS', 'INDIVIDU - SUSPECT', 'INFRACTION - LCR', 'INDIVIDU - PERTURBE', 'AR - PANNE - VEHICULE', 'OPERATION', 'DOMMAGES - A LA PROPRIETE', 'APPREHENSION / ARRESTATION', 'BAGARRE', 'CIRCULATION - ROUTIERE', 'AR - ACCIDENT', 'REVOCATION', 'LITIGE', 'MINEUR - IMPLIQUE', 'INDESIRABLE', 'ACCIDENT - DE CIRCULATION - AVEC FUITE', 'VEHICULE - SUSPECT', 'INCENDIE', 'ACCIDENT - DE CIRCULATION - AVEC BLESSE', 'VOL', 'DROGUE', 'ACCIDENT - DE CIRCULATION - AVEC ANIMAL', \"DEMANDE - D'AMBULANCE\", \"VOL - A L'ETALAGE\", \"FUITE - D'UN LIEU DE PLACEMENT\", 'VIOLENCE - DOMESTIQUE', 'TENTATIVE', 'COLLABORATION - INTERPOLICE', 'DEMANDE - IDENTIFICATION', 'VEHICULE', 'TROUBLE - DE LA TRANQUILLITE / NUISANCE', 'BRUIT'] \n",
      "\n",
      "[17968, 7182, 7091, 6847, 6657, 5617, 5261, 5141, 4727, 3318, 3149, 2867, 2510, 2496, 2447, 2337, 2317, 2296, 2287, 2265, 2213, 2199, 2085, 1960, 1918, 1813, 1714, 1662, 1611, 1466, 1437, 1369, 1340, 1262, 1164, 1144, 1067] \n",
      "\n"
     ]
    }
   ],
   "source": [
    "main_dico_cat_lExpos = {}\n",
    "l_main_cats = []\n",
    "val_min = 1000\n",
    "val_max = 100000\n",
    "nb_expos_tot_plage = 0\n",
    "l_main_nbExpos = []\n",
    "for key,value in sorted(dico_cat_nbExpos.items(), key=operator.itemgetter(1), reverse=True):\n",
    "    if value >= val_min and value <= val_max: \n",
    "        #main_dico_cat_lExpos[key] = dico_cat_lExpos[key]\n",
    "        #grâce au [:], on fait ci-dessous une copie indépendante\n",
    "        main_dico_cat_lExpos[key] = dico_cat_lExpos[key][:]\n",
    "        l_main_cats.append(key)\n",
    "        l_main_nbExpos.append(value)\n",
    "        nb_expos_tot_plage+=value\n",
    "print('Le nombre de catégories dans le main_dico_cat_lExpos : ' + str(len(main_dico_cat_lExpos)) + '\\n')\n",
    "print('Nombre total d\\'exposés dans le main_dico_cat_lExpos : ' + str(nb_expos_tot_plage) + '\\n')\n",
    "print(l_main_cats, '\\n')\n",
    "print(l_main_nbExpos, '\\n')\n",
    "#print(l_main_cats[0], '\\n')\n",
    "#show(main_dico_cat_lExpos, 40, 1)"
   ]
  },
  {
   "cell_type": "markdown",
   "metadata": {},
   "source": [
    "On représente les catégories principales avec le nombre d'exposés des faits associés"
   ]
  },
  {
   "cell_type": "code",
   "execution_count": 76,
   "metadata": {},
   "outputs": [
    {
     "data": {
      "image/png": "[encoded data removed]",
      "text/plain": [
       "<Figure size 864x864 with 1 Axes>"
      ]
     },
     "metadata": {
      "needs_background": "light"
     },
     "output_type": "display_data"
    }
   ],
   "source": [
    "plt.figure(figsize=(12,12))\n",
    "sns.barplot(l_main_nbExpos, l_main_cats, alpha=1)\n",
    "plt.ylabel('Catégories Principales', fontsize=14)\n",
    "plt.xlabel('Nombre d\\'exposés des faits', fontsize=14)\n",
    "plt.xticks(rotation=90)\n",
    "plt.show();"
   ]
  },
  {
   "cell_type": "markdown",
   "metadata": {},
   "source": [
    "# Nouveau"
   ]
  },
  {
   "cell_type": "markdown",
   "metadata": {},
   "source": [
    "**l_couples_expo_cat** est une liste de couples où le premier élément d'un couple est un exposé des faits et le deuxième élément du même couple est la catégorie associée à cet exposé des faits (pour les catégories ayant plus de 1000 edf associés et qui seront stockées dans la liste **l_main_cats_bis**)"
   ]
  },
  {
   "cell_type": "code",
   "execution_count": 52,
   "metadata": {},
   "outputs": [
    {
     "name": "stdout",
     "output_type": "stream",
     "text": [
      "122204 \n",
      "\n"
     ]
    },
    {
     "data": {
      "text/plain": [
       "[(\"Voit un petit garçon (capuche blanche, pantalon noir) en train de pleurer. A l'air perdu\",\n",
       "  'MINEUR - IMPLIQUE'),\n",
       " (\"Jade FELBER, 21.01.2002 sign : 170 cm corp normale, pantalon training rouge PUMA et haut noir, cheveux longs châtains non attachés et boucles d'oreille. Vient de quitter son domicile dans un état d'agressivité avancé suite à un conflit avec sa mère. Peut se mettre en danger. \",\n",
       "  'MINEUR - IMPLIQUE'),\n",
       " (\"les jumeaux GOMES FERNANDES Micael et Michel, 1999, ont disparu du domicile de leur belle-mère VARELA Marie-José, depuis 2 jours. Doivent rejoindre la Fondation Verdeil lundi matin. Ces ados sont sous tutelle. La belle-mère inquiète a pris contact avec M. Gumy, directeur de la Fondation Verdeil qui fait appel à nos services. N'ont pas de problème de santé. \",\n",
       "  'MINEUR - IMPLIQUE')]"
      ]
     },
     "execution_count": 52,
     "metadata": {},
     "output_type": "execute_result"
    }
   ],
   "source": [
    "l_couples_expo_cat = []\n",
    "l_main_cats_bis = []\n",
    "for cat,expos in main_dico_cat_lExpos.items():\n",
    "    for expo in expos:\n",
    "        l_couples_expo_cat.append((expo,cat))\n",
    "    l_main_cats_bis.append(cat)\n",
    "print(len(l_couples_expo_cat), '\\n')\n",
    "l_couples_expo_cat[91111:91114]"
   ]
  },
  {
   "cell_type": "code",
   "execution_count": null,
   "metadata": {},
   "outputs": [],
   "source": []
  },
  {
   "cell_type": "markdown",
   "metadata": {},
   "source": [
    "**l_couples_expo_noCat** est une liste de couples où le premier élément d'un couple est un exposé des faits et le deuxième élément du même couple est l'indice de la catégorie associée à cet exposé des faits (et avec cet indice on peut trouver le nom de la catégorie comme l'élément ayant cet indice dans la liste **l_main_cats_ter** qui est la liste contenant les nom des catégories principales - avec plus de 1000 edf)"
   ]
  },
  {
   "cell_type": "code",
   "execution_count": 53,
   "metadata": {
    "scrolled": false
   },
   "outputs": [
    {
     "name": "stdout",
     "output_type": "stream",
     "text": [
      "122204 \n",
      "\n"
     ]
    },
    {
     "data": {
      "text/plain": [
       "[(\"Voit un petit garçon (capuche blanche, pantalon noir) en train de pleurer. A l'air perdu\",\n",
       "  18),\n",
       " (\"Jade FELBER, 21.01.2002 sign : 170 cm corp normale, pantalon training rouge PUMA et haut noir, cheveux longs châtains non attachés et boucles d'oreille. Vient de quitter son domicile dans un état d'agressivité avancé suite à un conflit avec sa mère. Peut se mettre en danger. \",\n",
       "  18),\n",
       " (\"les jumeaux GOMES FERNANDES Micael et Michel, 1999, ont disparu du domicile de leur belle-mère VARELA Marie-José, depuis 2 jours. Doivent rejoindre la Fondation Verdeil lundi matin. Ces ados sont sous tutelle. La belle-mère inquiète a pris contact avec M. Gumy, directeur de la Fondation Verdeil qui fait appel à nos services. N'ont pas de problème de santé. \",\n",
       "  18)]"
      ]
     },
     "execution_count": 53,
     "metadata": {},
     "output_type": "execute_result"
    }
   ],
   "source": [
    "l_couples_expo_noCat = []\n",
    "l_main_cats_ter = []\n",
    "noCat = 0\n",
    "for cat,expos in main_dico_cat_lExpos.items():\n",
    "    for expo in expos:\n",
    "        l_couples_expo_noCat.append((expo,noCat))\n",
    "    l_main_cats_ter.append(cat)\n",
    "    noCat+=1\n",
    "print(len(l_couples_expo_noCat), '\\n')\n",
    "l_couples_expo_noCat[91111:91114]"
   ]
  },
  {
   "cell_type": "markdown",
   "metadata": {},
   "source": [
    "Vérification de la concordance entre **l_couples_expo_cat** et **l_couples_expo_noCat**"
   ]
  },
  {
   "cell_type": "code",
   "execution_count": 54,
   "metadata": {},
   "outputs": [
    {
     "name": "stdout",
     "output_type": "stream",
     "text": [
      "OK\n"
     ]
    }
   ],
   "source": [
    "for i in range(len(l_couples_expo_cat)):\n",
    "    if(l_couples_expo_cat[i][0] != l_couples_expo_noCat[i][0]):\n",
    "        print('Problème !!!')\n",
    "    #if i%10000 == 0:\n",
    "        #print(i)\n",
    "print('OK')    "
   ]
  },
  {
   "cell_type": "markdown",
   "metadata": {},
   "source": [
    "Vérification des listes **l_main_cats**, **l_main_cats_bis** et **l_main_cats_ter**"
   ]
  },
  {
   "cell_type": "code",
   "execution_count": 56,
   "metadata": {},
   "outputs": [
    {
     "name": "stdout",
     "output_type": "stream",
     "text": [
      "DEMANDE - D'ASSISTANCE = DEMANDE - D'ASSISTANCE = DEMANDE - D'ASSISTANCE\n",
      "TAPAGE NOCTURNE = TAPAGE NOCTURNE = TAPAGE NOCTURNE\n",
      "ACCIDENT - DE CIRCULATION - DEGATS MATERIEL = ACCIDENT - DE CIRCULATION - DEGATS MATERIEL = ACCIDENT - DE CIRCULATION - DEGATS MATERIEL\n",
      "ANIMAUX = ANIMAUX = ANIMAUX\n",
      "VOL - PAR EFFRACTION = VOL - PAR EFFRACTION = VOL - PAR EFFRACTION\n",
      "AR - DIVERS = AR - DIVERS = AR - DIVERS\n",
      "INDIVIDU - SUSPECT = INDIVIDU - SUSPECT = INDIVIDU - SUSPECT\n",
      "INFRACTION - LCR = INFRACTION - LCR = INFRACTION - LCR\n",
      "INDIVIDU - PERTURBE = INDIVIDU - PERTURBE = INDIVIDU - PERTURBE\n",
      "AR - PANNE - VEHICULE = AR - PANNE - VEHICULE = AR - PANNE - VEHICULE\n",
      "OPERATION = OPERATION = OPERATION\n",
      "DOMMAGES - A LA PROPRIETE = DOMMAGES - A LA PROPRIETE = DOMMAGES - A LA PROPRIETE\n",
      "APPREHENSION / ARRESTATION = APPREHENSION / ARRESTATION = APPREHENSION / ARRESTATION\n",
      "BAGARRE = BAGARRE = BAGARRE\n",
      "CIRCULATION - ROUTIERE = CIRCULATION - ROUTIERE = CIRCULATION - ROUTIERE\n",
      "AR - ACCIDENT = AR - ACCIDENT = AR - ACCIDENT\n",
      "REVOCATION = REVOCATION = REVOCATION\n",
      "LITIGE = LITIGE = LITIGE\n",
      "MINEUR - IMPLIQUE = MINEUR - IMPLIQUE = MINEUR - IMPLIQUE\n",
      "INDESIRABLE = INDESIRABLE = INDESIRABLE\n",
      "ACCIDENT - DE CIRCULATION - AVEC FUITE = ACCIDENT - DE CIRCULATION - AVEC FUITE = ACCIDENT - DE CIRCULATION - AVEC FUITE\n",
      "VEHICULE - SUSPECT = VEHICULE - SUSPECT = VEHICULE - SUSPECT\n",
      "INCENDIE = INCENDIE = INCENDIE\n",
      "ACCIDENT - DE CIRCULATION - AVEC BLESSE = ACCIDENT - DE CIRCULATION - AVEC BLESSE = ACCIDENT - DE CIRCULATION - AVEC BLESSE\n",
      "VOL = VOL = VOL\n",
      "DROGUE = DROGUE = DROGUE\n",
      "ACCIDENT - DE CIRCULATION - AVEC ANIMAL = ACCIDENT - DE CIRCULATION - AVEC ANIMAL = ACCIDENT - DE CIRCULATION - AVEC ANIMAL\n",
      "DEMANDE - D'AMBULANCE = DEMANDE - D'AMBULANCE = DEMANDE - D'AMBULANCE\n",
      "VOL - A L'ETALAGE = VOL - A L'ETALAGE = VOL - A L'ETALAGE\n",
      "FUITE - D'UN LIEU DE PLACEMENT = FUITE - D'UN LIEU DE PLACEMENT = FUITE - D'UN LIEU DE PLACEMENT\n",
      "VIOLENCE - DOMESTIQUE = VIOLENCE - DOMESTIQUE = VIOLENCE - DOMESTIQUE\n",
      "TENTATIVE = TENTATIVE = TENTATIVE\n",
      "COLLABORATION - INTERPOLICE = COLLABORATION - INTERPOLICE = COLLABORATION - INTERPOLICE\n",
      "DEMANDE - IDENTIFICATION = DEMANDE - IDENTIFICATION = DEMANDE - IDENTIFICATION\n",
      "VEHICULE = VEHICULE = VEHICULE\n",
      "TROUBLE - DE LA TRANQUILLITE / NUISANCE = TROUBLE - DE LA TRANQUILLITE / NUISANCE = TROUBLE - DE LA TRANQUILLITE / NUISANCE\n",
      "BRUIT = BRUIT = BRUIT\n"
     ]
    }
   ],
   "source": [
    "for i in range(len(l_main_cats)):\n",
    "    if(l_main_cats[i] != l_main_cats_bis[i] or l_main_cats[i] != l_main_cats_ter[i]):\n",
    "        print('Problème !!!')\n",
    "    else:\n",
    "        print(l_main_cats[i], '=', l_main_cats_bis[i], '=', l_main_cats_ter[i])\n"
   ]
  },
  {
   "cell_type": "markdown",
   "metadata": {},
   "source": [
    "On peut trouver le couple qui se trouve à une position donnée, par exemple 35783, dans la liste l_couples_Expo_noCat"
   ]
  },
  {
   "cell_type": "code",
   "execution_count": null,
   "metadata": {},
   "outputs": [],
   "source": [
    "indice_test = 35783\n",
    "#indice_test = 84538\n",
    "#indice_test = 106372\n",
    "#indice_test = 19478\n",
    "print(l_couples_expo_noCat[indice_test])"
   ]
  },
  {
   "cell_type": "markdown",
   "metadata": {},
   "source": [
    "On peut trouver l'edf qui se trouve à une position donnée, par exemple 35783, dans la liste l_couples_Expo_noCat"
   ]
  },
  {
   "cell_type": "code",
   "execution_count": null,
   "metadata": {},
   "outputs": [],
   "source": [
    "print(l_couples_expo_noCat[indice_test][0])"
   ]
  },
  {
   "cell_type": "markdown",
   "metadata": {},
   "source": [
    "On peut trouver l'indice de la catégorie qui se trouve à une position donnée, par exemple 35783, dans la liste l_couples_Expo_noCat"
   ]
  },
  {
   "cell_type": "code",
   "execution_count": null,
   "metadata": {},
   "outputs": [],
   "source": [
    "print(l_couples_expo_noCat[indice_test][1])"
   ]
  },
  {
   "cell_type": "markdown",
   "metadata": {},
   "source": [
    "On peut retrouver l'edf et le nom de la catégorie qui se trouve à une position donnée, par exemple 35783, dans la liste l_couples_Expo_noCat"
   ]
  },
  {
   "cell_type": "code",
   "execution_count": null,
   "metadata": {
    "scrolled": true
   },
   "outputs": [],
   "source": [
    "print('L\\'exposé \"', l_couples_expo_noCat[indice_test][0], '\" a la catégorie numéro ', l_couples_expo_noCat[indice_test][1],\n",
    "      ' qui est en fait la catégorie : \"', l_main_cats[l_couples_expo_noCat[indice_test][1]], '\".')"
   ]
  },
  {
   "cell_type": "code",
   "execution_count": null,
   "metadata": {},
   "outputs": [],
   "source": []
  },
  {
   "cell_type": "markdown",
   "metadata": {},
   "source": [
    "## Données principales"
   ]
  },
  {
   "cell_type": "markdown",
   "metadata": {},
   "source": [
    "On prépare un DataFrame **main_efs** contenant seulement les efs associés aux catégories \"principales\" (avec plus de 1000 edf correspondants) de la liste **l_main_cats**"
   ]
  },
  {
   "cell_type": "code",
   "execution_count": null,
   "metadata": {},
   "outputs": [],
   "source": [
    "efs_copy = efs.copy()"
   ]
  },
  {
   "cell_type": "code",
   "execution_count": null,
   "metadata": {},
   "outputs": [],
   "source": [
    "l_cats = list(efs_copy.CATEGORIE)\n",
    "l_cats[:5]"
   ]
  },
  {
   "cell_type": "code",
   "execution_count": null,
   "metadata": {},
   "outputs": [],
   "source": [
    "[:5]"
   ]
  },
  {
   "cell_type": "code",
   "execution_count": null,
   "metadata": {},
   "outputs": [],
   "source": [
    "main_efs = efs_copy[[cat in l_main_cats for cat in l_cats]]\n",
    "print(len(main_efs))\n",
    "main_efs.head(5)"
   ]
  },
  {
   "cell_type": "code",
   "execution_count": null,
   "metadata": {},
   "outputs": [],
   "source": []
  },
  {
   "cell_type": "code",
   "execution_count": null,
   "metadata": {},
   "outputs": [],
   "source": [
    "main_efs.reset_index(inplace=True, drop=True)\n",
    "main_efs.head(5)"
   ]
  },
  {
   "cell_type": "code",
   "execution_count": null,
   "metadata": {},
   "outputs": [],
   "source": []
  },
  {
   "cell_type": "markdown",
   "metadata": {},
   "source": [
    "## Dictionnaires pour les exposés"
   ]
  },
  {
   "cell_type": "markdown",
   "metadata": {},
   "source": [
    "Par la suite, on va travailler avec un dictionnaire **dico_exposes** dont les éléments sont des couples où la clé est l'exposé et la valeur est une liste de strings correspondant aux catégories associées à cet exposé."
   ]
  },
  {
   "cell_type": "markdown",
   "metadata": {},
   "source": [
    "**l_efs_par_exposes** est une liste des DataFrame où chaque DataFrame a la même valeur pour la colonne EXPOSES"
   ]
  },
  {
   "cell_type": "code",
   "execution_count": null,
   "metadata": {},
   "outputs": [],
   "source": [
    "%%time\n",
    "l_efs_par_exposes = []\n",
    "for expo in l_set_exposes:\n",
    "    df = efs.query('EXPOSES == @expo', inplace=False)\n",
    "    df.reset_index(inplace=True, drop=True)\n",
    "    l_efs_par_exposes.append(df)\n",
    "print(len(l_efs_par_exposes))\n",
    "#print(type(l_efs_par_exposes[12122]))\n",
    "#print(l_efs_par_exposes[12122][:])"
   ]
  },
  {
   "cell_type": "markdown",
   "metadata": {},
   "source": [
    "On crée le dictionnaire **dico_expose_lCats** qui a comme clés les exposés distincts et comme valeurs des listes avec les catégories correspondantes (à chaque clé-exposé, on associe la valeur-liste avec ses catégories)."
   ]
  },
  {
   "cell_type": "code",
   "execution_count": null,
   "metadata": {},
   "outputs": [],
   "source": [
    "dico_expose_lCats = {}\n",
    "for df in l_efs_par_exposes:\n",
    "    dico_expose_lCats[df['EXPOSES'][0]] = list(df['CATEGORIE'].values)[:]\n",
    "print('Le nombre de clefs/catégories : ',len(list(dico_expose_lCats.keys())), '\\n')\n",
    "show(dico_expose_lCats,5,2)"
   ]
  },
  {
   "cell_type": "markdown",
   "metadata": {},
   "source": [
    "**dico_expose_nbCats** est un dictionnaire dont les clés sont les exposés et les valeurs sont les nombres de catégories par exposés"
   ]
  },
  {
   "cell_type": "code",
   "execution_count": null,
   "metadata": {},
   "outputs": [],
   "source": [
    "dico_expose_nbCats = {}\n",
    "for key,value in dico_expose_lCats.items():\n",
    "    dico_expose_nbCats[key] = len(value)"
   ]
  },
  {
   "cell_type": "markdown",
   "metadata": {},
   "source": [
    "On peut afficher les exposés avec les nombres des catégories associées à chacun d'entre eux en ordre décroissant"
   ]
  },
  {
   "cell_type": "code",
   "execution_count": null,
   "metadata": {},
   "outputs": [],
   "source": [
    "#for key,value in sorted(dico_expose_nbCats.items(), key=operator.itemgetter(1), reverse=True):\n",
    "#    print(key,'   ', value)"
   ]
  },
  {
   "cell_type": "markdown",
   "metadata": {},
   "source": [
    "On peut afficher les exposés avec le nombre de catégories associées qui se trouvent dans une plage donnée en ordre décroissant"
   ]
  },
  {
   "cell_type": "code",
   "execution_count": null,
   "metadata": {},
   "outputs": [],
   "source": [
    "nb_exposes = 0\n",
    "val_min = 5\n",
    "val_max = 10000\n",
    "nb_cats_tot_plage = 0\n",
    "for key,value in sorted(dico_expose_nbCats.items(), key=operator.itemgetter(1), reverse=True):\n",
    "    if value >= val_min and value <= val_max:  \n",
    "        print(key,'   ', value)\n",
    "        nb_exposes+=1\n",
    "        nb_cats_tot_plage+=value\n",
    "print('Nombre exposés dans la plage : ', nb_exposes)\n",
    "print('Nombre total de catégories dans la plage : ', nb_cats_tot_plage)"
   ]
  },
  {
   "cell_type": "code",
   "execution_count": null,
   "metadata": {},
   "outputs": [],
   "source": []
  },
  {
   "cell_type": "markdown",
   "metadata": {},
   "source": [
    "## Vérifications"
   ]
  },
  {
   "cell_type": "markdown",
   "metadata": {},
   "source": [
    "On peut obtenir d'une autre façon une liste **l_couples_expo_noCat_verif** qui doit avoir les mêmes éléments que la liste **l_couples_expo_noCat**"
   ]
  },
  {
   "cell_type": "code",
   "execution_count": null,
   "metadata": {},
   "outputs": [],
   "source": [
    "len(l_main_cats)"
   ]
  },
  {
   "cell_type": "code",
   "execution_count": null,
   "metadata": {},
   "outputs": [],
   "source": [
    "len(set(l_main_cats))"
   ]
  },
  {
   "cell_type": "code",
   "execution_count": null,
   "metadata": {},
   "outputs": [],
   "source": [
    "efs.shape"
   ]
  },
  {
   "cell_type": "code",
   "execution_count": null,
   "metadata": {},
   "outputs": [],
   "source": [
    "len(efs.index)"
   ]
  },
  {
   "cell_type": "code",
   "execution_count": null,
   "metadata": {},
   "outputs": [],
   "source": [
    "len(efs['CATEGORIE'])"
   ]
  },
  {
   "cell_type": "code",
   "execution_count": null,
   "metadata": {},
   "outputs": [],
   "source": [
    "l_couples_expo_noCat_verif = []\n",
    "for i in range(len(efs.index)):\n",
    "    expo = efs.iloc[i,0]\n",
    "    cat = efs.iloc[i,1]\n",
    "    if(cat in l_main_cats):          \n",
    "        noCat = l_main_cats.index(cat)\n",
    "        l_couples_expo_noCat_verif.append((expo, noCat))"
   ]
  },
  {
   "cell_type": "code",
   "execution_count": null,
   "metadata": {},
   "outputs": [],
   "source": [
    "len(l_couples_expo_noCat_verif) == len(l_couples_expo_noCat)"
   ]
  },
  {
   "cell_type": "code",
   "execution_count": null,
   "metadata": {},
   "outputs": [],
   "source": [
    "noCat = 0\n",
    "nbExpos = 0\n",
    "nbExpos_verif = 0\n",
    "for i in range(len(l_couples_expo_noCat)):\n",
    "    if l_couples_expo_noCat[i][1] == noCat:\n",
    "        nbExpos+=1\n",
    "    if l_couples_expo_noCat_verif[i][1] == noCat:\n",
    "        nbExpos_verif+=1  \n",
    "print(nbExpos, '  ', nbExpos_verif)"
   ]
  },
  {
   "cell_type": "code",
   "execution_count": null,
   "metadata": {},
   "outputs": [],
   "source": [
    "print(l_couples_expo_noCat[1224])\n",
    "print(l_couples_expo_noCat_verif[1224])"
   ]
  },
  {
   "cell_type": "markdown",
   "metadata": {},
   "source": [
    "## Sauvegarde de données"
   ]
  },
  {
   "cell_type": "markdown",
   "metadata": {},
   "source": [
    "**l_main_cats** est la liste avec les catégories principales, i.e. avec plus de 1000 exposés associés"
   ]
  },
  {
   "cell_type": "code",
   "execution_count": null,
   "metadata": {
    "scrolled": true
   },
   "outputs": [],
   "source": [
    "with open('l_main_cats_51', 'wb') as f:\n",
    "    pickle.dump(l_main_cats, f)"
   ]
  },
  {
   "cell_type": "markdown",
   "metadata": {},
   "source": [
    "**l_couples_expo_noCat** est la liste de couples où le premier élément d'un couple est un exposé des faits et le deuxième élément du même couple est l'indice de la catégorie associée à cet exposé des faits (et avec cet indice on peut trouver le nom de la catégorie comme l'élément ayant cet indice dans la liste l_main_cats)"
   ]
  },
  {
   "cell_type": "code",
   "execution_count": null,
   "metadata": {},
   "outputs": [],
   "source": [
    "with open('l_couples_expo_noCat_51', 'wb') as f:\n",
    "    pickle.dump(l_couples_expo_noCat, f)"
   ]
  },
  {
   "cell_type": "markdown",
   "metadata": {},
   "source": [
    "**l_couples_expo_cat** est la liste de couples où le premier élément d'un couple est un exposé des faits et le deuxième élément du même couple est la catégorie associée à cet exposé des faits"
   ]
  },
  {
   "cell_type": "code",
   "execution_count": null,
   "metadata": {},
   "outputs": [],
   "source": [
    "with open('l_couples_expo_cat_51', 'wb') as f:\n",
    "    pickle.dump(l_couples_expo_cat, f)"
   ]
  },
  {
   "cell_type": "code",
   "execution_count": null,
   "metadata": {},
   "outputs": [],
   "source": [
    "main_efs.to_csv('/home/alina/UNIFR/TM/random/ExposesDesFaits/main_efs_51.csv', sep=';', index=False)"
   ]
  }
 ],
 "metadata": {
  "kernelspec": {
   "display_name": "Python 3",
   "language": "python",
   "name": "python3"
  },
  "language_info": {
   "codemirror_mode": {
    "name": "ipython",
    "version": 3
   },
   "file_extension": ".py",
   "mimetype": "text/x-python",
   "name": "python",
   "nbconvert_exporter": "python",
   "pygments_lexer": "ipython3",
   "version": "3.6.7"
  }
 },
 "nbformat": 4,
 "nbformat_minor": 2
}
