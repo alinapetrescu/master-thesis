{
 "cells": [
  {
   "cell_type": "markdown",
   "metadata": {},
   "source": [
    "https://github.com/phanein/deepwalk/blob/master/example_graphs/scoring.py\n",
    "\n",
    "\"\"\"scoring.py: Script that demonstrates the multi-label classification used.\"\"\"\n",
    "\n",
    "__author__      = \"Bryan Perozzi\""
   ]
  },
  {
   "cell_type": "code",
   "execution_count": 1,
   "metadata": {},
   "outputs": [],
   "source": [
    "import numpy\n",
    "import sys"
   ]
  },
  {
   "cell_type": "code",
   "execution_count": 2,
   "metadata": {},
   "outputs": [],
   "source": [
    "from argparse import ArgumentParser, ArgumentDefaultsHelpFormatter\n",
    "from collections import defaultdict\n",
    "from gensim.models import Word2Vec, KeyedVectors\n",
    "from six import iteritems\n",
    "from sklearn.multiclass import OneVsRestClassifier\n",
    "from sklearn.linear_model import LogisticRegression\n",
    "from sklearn.metrics import f1_score\n",
    "from scipy.io import loadmat\n",
    "from sklearn.utils import shuffle as skshuffle\n",
    "from sklearn.preprocessing import MultiLabelBinarizer"
   ]
  },
  {
   "cell_type": "code",
   "execution_count": 3,
   "metadata": {},
   "outputs": [],
   "source": [
    "class TopKRanker(OneVsRestClassifier):\n",
    "    def predict(self, X, top_k_list):\n",
    "        assert X.shape[0] == len(top_k_list)\n",
    "        probs = numpy.asarray(super(TopKRanker, self).predict_proba(X))\n",
    "        all_labels = []\n",
    "        for i, k in enumerate(top_k_list):\n",
    "            probs_ = probs[i, :]\n",
    "            labels = self.classes_[probs_.argsort()[-k:]].tolist()\n",
    "            all_labels.append(labels)\n",
    "        return all_labels"
   ]
  },
  {
   "cell_type": "code",
   "execution_count": 4,
   "metadata": {},
   "outputs": [],
   "source": [
    "def sparse2graph(x):\n",
    "    G = defaultdict(lambda: set())\n",
    "    cx = x.tocoo()\n",
    "    for i,j,v in zip(cx.row, cx.col, cx.data):\n",
    "        G[i].add(j)\n",
    "    return {str(k): [str(x) for x in v] for k,v in iteritems(G)}"
   ]
  },
  {
   "cell_type": "code",
   "execution_count": 11,
   "metadata": {},
   "outputs": [],
   "source": [
    "def main():\n",
    "    parser = ArgumentParser(\"scoring\",\n",
    "                          formatter_class=ArgumentDefaultsHelpFormatter,\n",
    "                          conflict_handler='resolve')\n",
    "    parser.add_argument(\"--emb\", required=True, help='Embeddings file')\n",
    "    parser.add_argument(\"--network\", required=True,\n",
    "                      help='A .mat file containing the adjacency matrix and node labels of the input network.')\n",
    "    parser.add_argument(\"--adj-matrix-name\", default='network',\n",
    "                      help='Variable name of the adjacency matrix inside the .mat file.')\n",
    "    parser.add_argument(\"--label-matrix-name\", default='group',\n",
    "                      help='Variable name of the labels matrix inside the .mat file.')\n",
    "    parser.add_argument(\"--num-shuffles\", default=2, type=int, help='Number of shuffles.')\n",
    "    parser.add_argument(\"--all\", default=False, action='store_true',\n",
    "                      help='The embeddings are evaluated on all training percents from 10 to 90 when this flag is set to true. '\n",
    "                      'By default, only training percents of 10, 50 and 90 are used.')\n",
    "\n",
    "    args = parser.parse_args()\n",
    "    # 0. Files\n",
    "    embeddings_file = args.emb\n",
    "    matfile = args.network\n",
    "  \n",
    "    # 1. Load Embeddings\n",
    "    model = KeyedVectors.load_word2vec_format(embeddings_file, binary=False)\n",
    "  \n",
    "    # 2. Load labels\n",
    "    mat = loadmat(matfile)\n",
    "    A = mat[args.adj_matrix_name]\n",
    "    graph = sparse2graph(A)\n",
    "    labels_matrix = mat[args.label_matrix_name]\n",
    "    labels_count = labels_matrix.shape[1]\n",
    "    mlb = MultiLabelBinarizer(range(labels_count))\n",
    "  \n",
    "    # Map nodes to their features (note:  assumes nodes are labeled as integers 1:N)\n",
    "    features_matrix = numpy.asarray([model[str(node)] for node in range(len(graph))])\n",
    "  \n",
    "    # 2. Shuffle, to create train/test groups\n",
    "    shuffles = []\n",
    "    for x in range(args.num_shuffles):\n",
    "        shuffles.append(skshuffle(features_matrix, labels_matrix))\n",
    "  \n",
    "    # 3. to score each train/test group\n",
    "    all_results = defaultdict(list)\n",
    "  \n",
    "    if args.all:\n",
    "        training_percents = numpy.asarray(range(1, 10)) * .1\n",
    "    else:\n",
    "        training_percents = [0.1, 0.5, 0.9]\n",
    "    for train_percent in training_percents:\n",
    "        for shuf in shuffles:\n",
    "  \n",
    "            X, y = shuf\n",
    "  \n",
    "            training_size = int(train_percent * X.shape[0])\n",
    "  \n",
    "            X_train = X[:training_size, :]\n",
    "            y_train_ = y[:training_size]\n",
    "  \n",
    "            y_train = [[] for x in range(y_train_.shape[0])]\n",
    "  \n",
    "  \n",
    "            cy =  y_train_.tocoo()\n",
    "            for i, j in zip(cy.row, cy.col):\n",
    "                y_train[i].append(j)\n",
    "  \n",
    "            assert sum(len(l) for l in y_train) == y_train_.nnz\n",
    "  \n",
    "            X_test = X[training_size:, :]\n",
    "            y_test_ = y[training_size:]\n",
    "  \n",
    "            y_test = [[] for _ in range(y_test_.shape[0])]\n",
    "  \n",
    "            cy =  y_test_.tocoo()\n",
    "            for i, j in zip(cy.row, cy.col):\n",
    "                y_test[i].append(j)\n",
    "  \n",
    "            clf = TopKRanker(LogisticRegression())\n",
    "            clf.fit(X_train, y_train_)\n",
    "  \n",
    "            # find out how many labels should be predicted\n",
    "            top_k_list = [len(l) for l in y_test]\n",
    "            preds = clf.predict(X_test, top_k_list)\n",
    "  \n",
    "            results = {}\n",
    "            averages = [\"micro\", \"macro\"]\n",
    "            for average in averages:\n",
    "                results[average] = f1_score(mlb.fit_transform(y_test), mlb.fit_transform(preds), average=average)\n",
    "  \n",
    "            all_results[train_percent].append(results)\n",
    "  \n",
    "    print ('Results, using embeddings of dimensionality', X.shape[1])\n",
    "    print ('-------------------')\n",
    "    for train_percent in sorted(all_results.keys()):\n",
    "        print ('Train percent:', train_percent)\n",
    "        for index, result in enumerate(all_results[train_percent]):\n",
    "            print ('Shuffle #%d:   ' % (index + 1), result)\n",
    "        avg_score = defaultdict(float)\n",
    "        for score_dict in all_results[train_percent]:\n",
    "            for metric, score in iteritems(score_dict):\n",
    "                avg_score[metric] += score\n",
    "        for metric in avg_score:\n",
    "            avg_score[metric] /= len(all_results[train_percent])\n",
    "        print ('Average score:', dict(avg_score))\n",
    "        print ('-------------------')\n",
    "\n",
    "    if __name__ == \"__main__\":\n",
    "        sys.exit(main())"
   ]
  },
  {
   "cell_type": "code",
   "execution_count": 12,
   "metadata": {},
   "outputs": [
    {
     "name": "stderr",
     "output_type": "stream",
     "text": [
      "usage: scoring [-h] --emb EMB --network NETWORK\n",
      "               [--adj-matrix-name ADJ_MATRIX_NAME]\n",
      "               [--label-matrix-name LABEL_MATRIX_NAME]\n",
      "               [--num-shuffles NUM_SHUFFLES] [--all]\n",
      "scoring: error: the following arguments are required: --emb, --network\n"
     ]
    },
    {
     "ename": "SystemExit",
     "evalue": "2",
     "output_type": "error",
     "traceback": [
      "An exception has occurred, use %tb to see the full traceback.\n",
      "\u001b[0;31mSystemExit\u001b[0m\u001b[0;31m:\u001b[0m 2\n"
     ]
    },
    {
     "name": "stderr",
     "output_type": "stream",
     "text": [
      "/home/alina/anaconda3/lib/python3.6/site-packages/IPython/core/interactiveshell.py:2969: UserWarning: To exit: use 'exit', 'quit', or Ctrl-D.\n",
      "  warn(\"To exit: use 'exit', 'quit', or Ctrl-D.\", stacklevel=1)\n"
     ]
    }
   ],
   "source": [
    "main()"
   ]
  },
  {
   "cell_type": "code",
   "execution_count": null,
   "metadata": {},
   "outputs": [],
   "source": []
  }
 ],
 "metadata": {
  "kernelspec": {
   "display_name": "Python 3",
   "language": "python",
   "name": "python3"
  },
  "language_info": {
   "codemirror_mode": {
    "name": "ipython",
    "version": 3
   },
   "file_extension": ".py",
   "mimetype": "text/x-python",
   "name": "python",
   "nbconvert_exporter": "python",
   "pygments_lexer": "ipython3",
   "version": "3.6.7"
  }
 },
 "nbformat": 4,
 "nbformat_minor": 2
}
